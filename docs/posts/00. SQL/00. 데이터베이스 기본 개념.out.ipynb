{
  "cells": [
    {
      "cell_type": "markdown",
      "metadata": {},
      "source": [
        "# 00. 데이터베이스 기본 개념\n",
        "\n",
        "GC  \n",
        "2024-08-22\n",
        "\n",
        "# 1. 기본 용어\n",
        "\n",
        "`1` 데이터베이스 : 일정한 체계 속에 저장된 데이터의 집합\n",
        "\n",
        "-   데이터는 보통 `Table`(표)단위로 저장된다.\n",
        "-   하나의 데이터베이스 안에는 여러 테이블이 저장되어있다.\n",
        "-   또한, 데이터베이스를 여러 개를 만든다면, 대용량 데이터를 체계적으로\n",
        "    관리할 수 있다.\n",
        "\n",
        "`2` DBMS : 데이터베이스 관리 시스템\n",
        "\n",
        "-   DB를 관리하기 위해 사용하는 프로그램\n",
        "\n",
        "-   oracle, mysql등 다양한 DBMS가 존재함.\n",
        "\n",
        "`3` SQL : DBMS에 명령을 내리기 위해 사용하는 언어\n",
        "\n",
        "# 2. MySQL 설치(Windows)\n",
        "\n",
        "`1` [설치사이트](https://dev.mysql.com/downloads/windows/installer/)에서\n",
        "최신 버전 다운 가능\n",
        "\n",
        "`2` 그러나 본 강의에서는 8.0.37을 사용$\\to$ [강의 때 쓸\n",
        "버전](https://downloads.mysql.com/archives/installer/)\n",
        "\n",
        "`3` Custom 을 선택하고, Next 버튼 클릭"
      ],
      "id": "9b797ac9-d834-4b54-a94f-d03eccf2e990"
    },
    {
      "cell_type": "raw",
      "metadata": {
        "raw_mimetype": "text/html"
      },
      "source": [
        "<center>"
      ],
      "id": "539fc46f-663c-438f-8122-f6e33b335ef0"
    },
    {
      "cell_type": "markdown",
      "metadata": {},
      "source": [
        "<img src = \"1.png\" width = 400>"
      ],
      "id": "8f406eab-bf88-43cf-8905-2bbba2011da5"
    },
    {
      "cell_type": "raw",
      "metadata": {
        "raw_mimetype": "text/html"
      },
      "source": [
        "</center>"
      ],
      "id": "af55e594-ed88-4b36-b768-74550e84877f"
    },
    {
      "cell_type": "markdown",
      "metadata": {},
      "source": [
        "`4` MySQL Server, MySQL Workbench, MySQL Shell을 하나씩 클릭하면서\n",
        "오른쪽 화살표 버튼을 클릭하여 다음과 같이 설치할 Product로 이동"
      ],
      "id": "96900c9f-93c0-4869-b5df-cbce7434523d"
    },
    {
      "cell_type": "raw",
      "metadata": {
        "raw_mimetype": "text/html"
      },
      "source": [
        "<center>"
      ],
      "id": "c32c22d4-8092-448f-a27b-e348361c3f14"
    },
    {
      "cell_type": "markdown",
      "metadata": {},
      "source": [
        "<img src = \"2.png\" width = 400>"
      ],
      "id": "ae2c94b7-6286-4e19-bbef-1d869db19419"
    },
    {
      "cell_type": "raw",
      "metadata": {
        "raw_mimetype": "text/html"
      },
      "source": [
        "</center>"
      ],
      "id": "e53cbd26-a4e0-4a91-a1ae-7b036dc77c99"
    },
    {
      "cell_type": "markdown",
      "metadata": {},
      "source": [
        "`5` Execute 버튼 클릭\n",
        "\n",
        "`6` 그 후 부터는 그냥 쭉쭉 하면됨. 그러다 마지막에 체크 저렇게 한 개만\n",
        "하기"
      ],
      "id": "265ab315-bbe4-4ae8-a567-82d585658884"
    },
    {
      "cell_type": "raw",
      "metadata": {
        "raw_mimetype": "text/html"
      },
      "source": [
        "<center>"
      ],
      "id": "02928a98-0b01-4075-98c7-e9927511914e"
    },
    {
      "cell_type": "markdown",
      "metadata": {},
      "source": [
        "<img src = \"3.png\" width = 400>"
      ],
      "id": "8950c4fa-e18a-47cc-a704-45b1831b9b96"
    },
    {
      "cell_type": "raw",
      "metadata": {
        "raw_mimetype": "text/html"
      },
      "source": [
        "</center>"
      ],
      "id": "91375427-975d-4e78-8064-2a3371c6e765"
    },
    {
      "cell_type": "markdown",
      "metadata": {},
      "source": [
        "------------------------------------------------------------------------\n",
        "\n",
        "# 3. MySQL 서버 접속(windows)\n",
        "\n",
        "`1` + 버튼 클릭"
      ],
      "id": "91ae8985-eebe-4e9c-b2de-9751a079c393"
    },
    {
      "cell_type": "raw",
      "metadata": {
        "raw_mimetype": "text/html"
      },
      "source": [
        "<center>"
      ],
      "id": "8a49d670-a6ef-4abe-9068-7571ebdf7cc7"
    },
    {
      "cell_type": "markdown",
      "metadata": {},
      "source": [
        "<img src = \"4.png\" width = 400>"
      ],
      "id": "29bcaae2-a103-40cc-b3d0-96eead1397fa"
    },
    {
      "cell_type": "raw",
      "metadata": {
        "raw_mimetype": "text/html"
      },
      "source": [
        "</center>"
      ],
      "id": "9add5ae9-0cee-4159-a724-b8711dcfe4b5"
    },
    {
      "cell_type": "markdown",
      "metadata": {},
      "source": [
        "`2` 접속이름 설정\n",
        "\n",
        "-   root 사용자로 접속\n",
        "\n",
        "-   MySQL 서버가 있는 위치는 127.0.0.1(내 컴퓨터를 의미), MySQL 서버는\n",
        "    내 컴퓨터의 3306번 포트를 사용한다는 뜻"
      ],
      "id": "f986966d-79ce-4977-a952-30a6fb9785cf"
    },
    {
      "cell_type": "raw",
      "metadata": {
        "raw_mimetype": "text/html"
      },
      "source": [
        "<center>"
      ],
      "id": "86f9dcc5-fb0b-4205-8f84-effd21da7dc0"
    },
    {
      "cell_type": "markdown",
      "metadata": {},
      "source": [
        "<img src = \"5.png\" width = 500>"
      ],
      "id": "e490d057-3464-4ac5-9525-9a5a0ae7ce16"
    },
    {
      "cell_type": "raw",
      "metadata": {
        "raw_mimetype": "text/html"
      },
      "source": [
        "</center>"
      ],
      "id": "6b4c4a86-1406-427a-9940-dac60c752307"
    },
    {
      "cell_type": "markdown",
      "metadata": {},
      "source": [
        "`3` 접속 후 `Server Status` 클릭\n",
        "\n",
        "-   아래와 같은 오류가 발생할 경우 다음과 같이 해결"
      ],
      "id": "07aae023-dd1f-4a94-99ae-81b4d51207f8"
    },
    {
      "cell_type": "raw",
      "metadata": {
        "raw_mimetype": "text/html"
      },
      "source": [
        "<center>"
      ],
      "id": "0b1cf765-0945-459c-8ced-394e7ebd67d8"
    },
    {
      "cell_type": "markdown",
      "metadata": {},
      "source": [
        "<img src = \"6.png\" width = 200>"
      ],
      "id": "7916055b-35d6-43a4-8519-12f232cf29af"
    },
    {
      "cell_type": "raw",
      "metadata": {
        "raw_mimetype": "text/html"
      },
      "source": [
        "</center>"
      ],
      "id": "e3cbf3be-0c90-429a-aabf-b6df747b0f29"
    },
    {
      "cell_type": "markdown",
      "metadata": {},
      "source": [
        "1.  `Win + R`을 눌러 `services.msc` 입력\n",
        "\n",
        "2.  그후, `MySQL 80`을 찾아 우클릭 후 시작 $\\to$ 그래도 오류가 발생..\n",
        "\n",
        "3.  `Win + R`을 눌러 `control intl.cpl,,3` 입력\n",
        "\n",
        "4.  `관리자 옵션` 탭에서 `시스템 로캘 변경` 클릭\n",
        "\n",
        "5.  Beta: 세계 언어 지원을 위해 Unicode UTF-8 사용 항목을 체크 후 ‘확인’\n",
        "    버튼을 클릭\n",
        "\n",
        "`4` 재부팅 후…. 오 이제 잘 된다…\n",
        "\n",
        "------------------------------------------------------------------------\n",
        "\n",
        "# 4. DB 생성\n",
        "\n",
        "`1` query 창에 다음과 같이 입력\n",
        "\n",
        "``` sql\n",
        "create database copang_main # 1. DB 생성\n",
        "```\n",
        "\n",
        "`2` 그후 스키마 새로 고침\n",
        "\n",
        "<img src = \"8.png\" width = 200>\n",
        "\n",
        "`3` 오 잘 반영 되었음"
      ],
      "id": "fe795686-b539-4678-bdf3-fe76266adb74"
    }
  ],
  "nbformat": 4,
  "nbformat_minor": 5,
  "metadata": {
    "kernelspec": {
      "name": "python3",
      "display_name": "Python 3 (ipykernel)",
      "language": "python"
    },
    "language_info": {
      "name": "python",
      "codemirror_mode": {
        "name": "ipython",
        "version": "3"
      },
      "file_extension": ".py",
      "mimetype": "text/x-python",
      "nbconvert_exporter": "python",
      "pygments_lexer": "ipython3",
      "version": "3.12.2"
    }
  }
}