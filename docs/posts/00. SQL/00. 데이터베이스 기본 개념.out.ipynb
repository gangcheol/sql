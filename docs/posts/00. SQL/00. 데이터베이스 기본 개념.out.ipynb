{
  "cells": [
    {
      "cell_type": "markdown",
      "metadata": {},
      "source": [
        "# 00. 데이터베이스 기본 개념\n",
        "\n",
        "GC  \n",
        "2024-08-22\n",
        "\n",
        "# 1. 기본 용어\n",
        "\n",
        "`1` 데이터베이스 : 일정한 체계 속에 저장된 데이터의 집합\n",
        "\n",
        "-   데이터는 보통 `Table`(표)단위로 저장된다.\n",
        "-   하나의 데이터베이스 안에는 여러 테이블이 저장되어있다.\n",
        "-   또한, 데이터베이스를 여러 개를 만든다면, 대용량 데이터를 체계적으로\n",
        "    관리할 수 있다.\n",
        "\n",
        "`2` DBMS : 데이터베이스 관리 시스템\n",
        "\n",
        "-   DB를 관리하기 위해 사용하는 프로그램\n",
        "\n",
        "-   oracle, mysql등 다양한 DBMS가 존재함.\n",
        "\n",
        "`3` SQL : DBMS에 명령을 내리기 위해 사용하는 언어\n",
        "\n",
        "# 2. MySQL 설치(Windows)\n",
        "\n",
        "`1` [설치사이트](https://dev.mysql.com/downloads/windows/installer/)에서\n",
        "최신 버전 다운 가능\n",
        "\n",
        "`2` 그러나 본 강의에서는 8.0.37을 사용$\\to$ [강의 때 쓸\n",
        "버전](https://downloads.mysql.com/archives/installer/)\n",
        "\n",
        "`3` Custom 을 선택하고, Next 버튼 클릭"
      ],
      "id": "91b63edd-33da-4edc-88e2-c2f3034b674a"
    },
    {
      "cell_type": "raw",
      "metadata": {
        "raw_mimetype": "text/html"
      },
      "source": [
        "<center>"
      ],
      "id": "1c8d54ad-eeed-4fe0-9278-a85e4cb15d49"
    },
    {
      "cell_type": "markdown",
      "metadata": {},
      "source": [
        "<img src = \"1.png\" width = 400>"
      ],
      "id": "3a1e2551-0a5e-4c83-87e9-f4bdccde14e3"
    },
    {
      "cell_type": "raw",
      "metadata": {
        "raw_mimetype": "text/html"
      },
      "source": [
        "</center>"
      ],
      "id": "de161e11-bce2-4dae-b39d-3013f09df49f"
    },
    {
      "cell_type": "markdown",
      "metadata": {},
      "source": [
        "`4` MySQL Server, MySQL Workbench, MySQL Shell을 하나씩 클릭하면서\n",
        "오른쪽 화살표 버튼을 클릭하여 다음과 같이 설치할 Product로 이동"
      ],
      "id": "029e9a34-3a30-4a8c-aadf-c4354d6e736b"
    },
    {
      "cell_type": "raw",
      "metadata": {
        "raw_mimetype": "text/html"
      },
      "source": [
        "<center>"
      ],
      "id": "981c1873-ea9d-4546-a826-00e3e7698a08"
    },
    {
      "cell_type": "markdown",
      "metadata": {},
      "source": [
        "<img src = \"2.png\" width = 400>"
      ],
      "id": "0ee73619-f4a4-4104-bdc2-d28ead8bf32a"
    },
    {
      "cell_type": "raw",
      "metadata": {
        "raw_mimetype": "text/html"
      },
      "source": [
        "</center>"
      ],
      "id": "e1b74c36-7363-4c70-801c-7aebf013231c"
    },
    {
      "cell_type": "markdown",
      "metadata": {},
      "source": [
        "`5` Execute 버튼 클릭\n",
        "\n",
        "`6` 그 후 부터는 그냥 쭉쭉 하면됨. 그러다 마지막에 체크 저렇게 한 개만\n",
        "하기"
      ],
      "id": "bf63b769-c514-4d5b-8df3-2dc44d4f4e10"
    },
    {
      "cell_type": "raw",
      "metadata": {
        "raw_mimetype": "text/html"
      },
      "source": [
        "<center>"
      ],
      "id": "eb730d48-6b9d-4ffb-9f40-e38e6191e798"
    },
    {
      "cell_type": "markdown",
      "metadata": {},
      "source": [
        "<img src = \"3.png\" width = 400>"
      ],
      "id": "a408abd1-e396-460f-828e-a98805b97a91"
    },
    {
      "cell_type": "raw",
      "metadata": {
        "raw_mimetype": "text/html"
      },
      "source": [
        "</center>"
      ],
      "id": "316ba14e-82b6-419b-82e6-64380ddacb60"
    },
    {
      "cell_type": "markdown",
      "metadata": {},
      "source": [
        "------------------------------------------------------------------------\n",
        "\n",
        "# 3. MySQL 서버 접속(windows)\n",
        "\n",
        "`1` + 버튼 클릭"
      ],
      "id": "183930c7-4718-4fe6-a01d-c3fdd0ff7938"
    },
    {
      "cell_type": "raw",
      "metadata": {
        "raw_mimetype": "text/html"
      },
      "source": [
        "<center>"
      ],
      "id": "3ce8e6dd-1a49-4e63-9341-88566a91c96a"
    },
    {
      "cell_type": "markdown",
      "metadata": {},
      "source": [
        "<img src = \"4.png\" width = 400>"
      ],
      "id": "358071a5-a379-4aef-87ed-a06fbc87faed"
    },
    {
      "cell_type": "raw",
      "metadata": {
        "raw_mimetype": "text/html"
      },
      "source": [
        "</center>"
      ],
      "id": "5c120b67-9420-4e3c-86f8-18f140bebcf0"
    },
    {
      "cell_type": "markdown",
      "metadata": {},
      "source": [
        "`2` 접속이름 설정\n",
        "\n",
        "-   root 사용자로 접속\n",
        "\n",
        "-   MySQL 서버가 있는 위치는 127.0.0.1(내 컴퓨터를 의미), MySQL 서버는\n",
        "    내 컴퓨터의 3306번 포트를 사용한다는 뜻"
      ],
      "id": "47b1a66e-c0af-48f2-94b3-ced4e9ab2b61"
    },
    {
      "cell_type": "raw",
      "metadata": {
        "raw_mimetype": "text/html"
      },
      "source": [
        "<center>"
      ],
      "id": "d7336644-a5d8-4f32-929c-67542b0f0d1d"
    },
    {
      "cell_type": "markdown",
      "metadata": {},
      "source": [
        "<img src = \"5.png\" width = 500>"
      ],
      "id": "ae8c14dd-bec9-4344-a53e-036ee00d35e1"
    },
    {
      "cell_type": "raw",
      "metadata": {
        "raw_mimetype": "text/html"
      },
      "source": [
        "</center>"
      ],
      "id": "9491384a-d1e1-4312-b175-5e668df57001"
    },
    {
      "cell_type": "markdown",
      "metadata": {},
      "source": [
        "`3` 접속 후 `Server Status` 클릭\n",
        "\n",
        "-   아래와 같은 오류가 발생할 경우 다음과 같이 해결"
      ],
      "id": "1f0fa55d-26bb-447d-bf35-a6fc9dc9b255"
    },
    {
      "cell_type": "raw",
      "metadata": {
        "raw_mimetype": "text/html"
      },
      "source": [
        "<center>"
      ],
      "id": "a28fecde-b29e-48b6-88b5-abc291df8a73"
    },
    {
      "cell_type": "markdown",
      "metadata": {},
      "source": [
        "<img src = \"6.png\" width = 200>"
      ],
      "id": "dc4ac038-4568-4efa-a070-50a84f8f0220"
    },
    {
      "cell_type": "raw",
      "metadata": {
        "raw_mimetype": "text/html"
      },
      "source": [
        "</center>"
      ],
      "id": "dd3fd2bd-eef5-4bc5-8075-40ffe5c8a1b6"
    },
    {
      "cell_type": "markdown",
      "metadata": {},
      "source": [
        "1.  `Win + R`을 눌러 `services.msc` 입력\n",
        "\n",
        "2.  그후, `MySQL 80`을 찾아 우클릭 후 시작 $\\to$ 그래도 오류가 발생..\n",
        "\n",
        "3.  `Win + R`을 눌러 `control intl.cpl,,3` 입력\n",
        "\n",
        "4.  `관리자 옵션` 탭에서 `시스템 로캘 변경` 클릭\n",
        "\n",
        "5.  Beta: 세계 언어 지원을 위해 Unicode UTF-8 사용 항목을 체크 후 ‘확인’\n",
        "    버튼을 클릭\n",
        "\n",
        "`4` 재부팅 후…. 오 이제 잘 된다…\n",
        "\n",
        "------------------------------------------------------------------------\n",
        "\n",
        "# 4. DB 생성\n",
        "\n",
        "`1` query 창에 다음과 같이 입력\n",
        "\n",
        "``` sql\n",
        "create database copang_main # 1. DB 생성\n",
        "```\n",
        "\n",
        "`2` 그후 스키마 새로 고침\n",
        "\n",
        "<img src = \"8.png\" width = 200>\n",
        "\n",
        "`3` 오 잘 반영 되었음"
      ],
      "id": "e1b82463-6350-4051-8d28-c1e1b68ba363"
    }
  ],
  "nbformat": 4,
  "nbformat_minor": 5,
  "metadata": {
    "kernelspec": {
      "name": "python3",
      "display_name": "Python 3 (ipykernel)",
      "language": "python"
    },
    "language_info": {
      "name": "python",
      "codemirror_mode": {
        "name": "ipython",
        "version": "3"
      },
      "file_extension": ".py",
      "mimetype": "text/x-python",
      "nbconvert_exporter": "python",
      "pygments_lexer": "ipython3",
      "version": "3.12.2"
    }
  }
}