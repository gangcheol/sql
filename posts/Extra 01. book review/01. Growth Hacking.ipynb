{
 "cells": [
  {
   "cell_type": "raw",
   "id": "ec48ae43-45c4-4735-811a-43b3971fc7fd",
   "metadata": {},
   "source": [
    "---\n",
    "title : \"01. Growth Hacking\"\n",
    "author : \"GC\"\n",
    "date : \"11/22/24\"\n",
    "---"
   ]
  },
  {
   "cell_type": "markdown",
   "id": "34955e99-b99f-4bde-ba0b-a5328ba0bc78",
   "metadata": {},
   "source": [
    "# Info"
   ]
  },
  {
   "cell_type": "markdown",
   "id": "4f883166-5d11-4d66-8c73-05a8836a8eae",
   "metadata": {},
   "source": [
    "`1` 저자 : 라이언 홀리데이"
   ]
  },
  {
   "cell_type": "markdown",
   "id": "05395617-0223-4a22-b4fb-27420b71bb01",
   "metadata": {},
   "source": [
    "# 0. Intro"
   ]
  },
  {
   "cell_type": "markdown",
   "id": "c37d567b-5ddd-45c0-bdd9-f3e028454161",
   "metadata": {},
   "source": [
    "## (a) 그로스 해커 정의 \n",
    "\n",
    "- 마케터와 코더가 결합된 형태로, \"우리 제품의 고객을 어떻게 확보할 수 있는가\"라는 전통적인 질문에 대해 A/B Test, 이메일 도달률, 오픈 그래프 등을 사용해서 답을 제시하는 사람이다.\n",
    "\n",
    "- 그로스 해킹은 '마케팅'을 무의미하거나 아니면 최소 우수 사례를 완전히 다시 쓰는 셈이다.\n",
    "\n",
    "- 그로스 해커는 마케팅을 마케터가 해야 하는 일이 아니고 제품 자체에 구축되어야 하는 것으로 본다.\n",
    "\n",
    "- 모든 그로스 해커의 궁극적인 목표는 자동으로 수백만의 사람들에게 전파하며, 스스로 영구히 지속되는 마케팅 기계를 만드는 것이다.(`아론 긴`)\n",
    "\n",
    "- 인터넷과 SNS도구들을 활용하여 반복적으로 추적하고, 검증하는 과정을 통해 기존의 마케팅 틀에서 벗어나는 것\n",
    "    - **영화산업과 같이 유명인사를 초대하는 등 많은 비용들을 초래하는 방식을 뜻함**\n",
    " \n",
    "- 데이터 과학자로서 디자이너나 마케터를 만나고 여기서 얻은 정보들을 처리하여 다르게 활용한다($\\star\\star\\star$)\n",
    "    - 그래서 기존의 마케팅이 브랜드 기반이었다면, 그로스 해킹은 데이터에 기반한 지표와 ROI(Return of investment)기반으로 돌아가는 것임\n",
    "    - 그로스 해킹은 도구라기보다는 사고 방식임\n",
    "\n",
    "- 나의 정의1 : **반복적으로 추적하고 검증하는 과정에서 발생되는 데이터를 통해 비즈니스 의사결정을 내리는 것**"
   ]
  },
  {
   "cell_type": "markdown",
   "id": "60790e6f-b304-4a36-908d-8491b56fd375",
   "metadata": {},
   "source": [
    "## (b) 그로스 해킹 사례 1. 핫메일"
   ]
  },
  {
   "cell_type": "markdown",
   "id": "2ce664d5-f032-43d0-8a1f-8c33c9488b31",
   "metadata": {},
   "source": [
    "`1` 유명한 벤처 투자가인 팀 드레이퍼는 다음과 같은 방식을 제안함\n",
    "\n",
    "- *이용자들의 모든 이메일 화면 맨 밑에 메시지리를 넣어 이용자들이 새로운 이용자를 끌어들이게 하였음.*\n",
    "\n",
    "- 이 방식은 창의적이라기 보단, 많은 사람들이 원하고 필요로 했던 놀라운 제품을 소개하는 것이었기 때문에 성공할 수 있었음\n",
    "\n",
    "- 실제로 핫메리은 30개월만의 `30만 달러 투자만`으로, `4억 달러`짜리 브랜드를 형성함.\n",
    "\n",
    "- 구글도 현재 시장 1위인 지메일 출시 당시, 근본적으로 같은 원리의 그로스 해킹 전략을 사용함"
   ]
  },
  {
   "cell_type": "markdown",
   "id": "85f73ce4-5ab5-48e5-96cf-79afc45cb3e1",
   "metadata": {},
   "source": [
    "# Appendix"
   ]
  },
  {
   "cell_type": "markdown",
   "id": "c13f5da8-c819-4601-a021-ab90e7dad251",
   "metadata": {},
   "source": [
    "`1` 오픈 그래프 : 페이스북이 허용하는 틀안에서 이용자들의 정보를 누구나 쓸 수 있게끔 만든 정보 체계"
   ]
  }
 ],
 "metadata": {
  "kernelspec": {
   "display_name": "Python 3 (ipykernel)",
   "language": "python",
   "name": "python3"
  },
  "language_info": {
   "codemirror_mode": {
    "name": "ipython",
    "version": 3
   },
   "file_extension": ".py",
   "mimetype": "text/x-python",
   "name": "python",
   "nbconvert_exporter": "python",
   "pygments_lexer": "ipython3",
   "version": "3.11.7"
  }
 },
 "nbformat": 4,
 "nbformat_minor": 5
}
