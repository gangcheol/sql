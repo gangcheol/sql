{
 "cells": [
  {
   "cell_type": "raw",
   "id": "11492a98-7070-43fb-b387-ef246890f4df",
   "metadata": {},
   "source": [
    "---\n",
    "title : \"00. PM (1)\"\n",
    "author : \"GC\"\n",
    "date : \"12/26/24\"\n",
    "---"
   ]
  },
  {
   "cell_type": "markdown",
   "id": "96c4342e-847d-4862-9d25-56ce7d880e89",
   "metadata": {},
   "source": [
    "# JYP360"
   ]
  },
  {
   "cell_type": "markdown",
   "id": "0448cf5c-cab7-46be-8fdb-326d2d6e92f6",
   "metadata": {},
   "source": [
    "`1` 제품의 CEO로서 플랫폼 내 고객 경험을 최종적으로 책임짐\n",
    "\n",
    "`2` 어떤 직군을 한정하지않고 프로덕트 성공을 위해 모든 일을 하는 사람들\n",
    "\n",
    "`3` 예측 불가능한 영역에서도 성과를 달성하기 위해 범위를 두지 않고 성공 요인을 파악할 줄 아는 능력이 필요?\n",
    "\n",
    "`4` 고객 유입, 지속적 사용성, 매출, 만족도 등의 데이터 분석 및 이를 기반으로 한 문제 해결 경험이 필요\n",
    "\n",
    "`5` 이 중 매출이 가장 중요, 그 이외의 지표들은 기본적으로 내가 볼 줄 알아야한다.\n",
    "\n",
    "`6` 고객에 대한 집착과 목표를 달성하려는 `Grit`이 중요\n",
    "\n",
    "- Grit = `Growth`(성장) + `Resilience`(회복력) + `intrinsic Motivation`(내재적 동기) + `Tenacity`(끈기)\n",
    "\n",
    "- 사실 어느 영역이나 동일한 이야기이다.\n",
    "  "
   ]
  },
  {
   "cell_type": "markdown",
   "id": "abbdef4c-32c7-48be-bd49-d3834ffcd21c",
   "metadata": {},
   "source": [
    "----"
   ]
  },
  {
   "cell_type": "markdown",
   "id": "e5968099-0ef2-443c-a915-82e8e90a4b10",
   "metadata": {},
   "source": [
    "# 강남언니 PO"
   ]
  },
  {
   "cell_type": "markdown",
   "id": "2650f96d-5146-49c9-92cd-26f0f1d3929a",
   "metadata": {},
   "source": [
    "`1` UX설계 능력 : 유저에게 높은 가치를 줄 수 있는 능력\n",
    "\n",
    "- UX : 사용자가 제품이나 서비스를 이용하면서 느끼는 전반적인 경험을 의미\n",
    "\n",
    "`2` 제품 개발 전반에 관한 이해 능력\n",
    "\n",
    "- Figma, looker 등 개발 플랫폼 활용 능력\n",
    "\n",
    "`3` 애자일/스프린트/스크럼 경험\n",
    "\n",
    "- 애자일 : 데이터를 기반으로 합리적, 유연하게 효율적으로 일할 수 있는 능력을 보기 위한 역량임\n",
    "\n"
   ]
  },
  {
   "cell_type": "markdown",
   "id": "f9037483-487d-4003-93e2-f1c2aeda9f52",
   "metadata": {},
   "source": [
    "---"
   ]
  },
  {
   "cell_type": "markdown",
   "id": "26a13379-71b2-45fa-8079-3b1a203b06a9",
   "metadata": {},
   "source": [
    "# 두잇 PO"
   ]
  },
  {
   "cell_type": "markdown",
   "id": "f4b61bdd-a517-43cc-92a1-7ab07e80397b",
   "metadata": {},
   "source": [
    "`1` 배달료 없는 배달앱으로 화제가 된 기업\n",
    "\n",
    "`2` 데이터 리터러시 : 데이터를 정보로서 읽고, 이해하고, 만들고 커뮤니케이션 하는 능력\n",
    "\n",
    "`3` SQL, 엑셀 등 기초적인 데이터 분석 역량이 필요(+ `GA, 퍼널 및 지표 분석`)\n"
   ]
  },
  {
   "cell_type": "markdown",
   "id": "016467cd-895a-4710-8286-035f3926f6c9",
   "metadata": {},
   "source": [
    "---"
   ]
  },
  {
   "cell_type": "markdown",
   "id": "b570402c-bf42-448f-97b7-2c1c92b8661c",
   "metadata": {},
   "source": [
    "# 팀 스파르타, 교육 PM"
   ]
  },
  {
   "cell_type": "markdown",
   "id": "135d315f-c985-41e2-bd1d-b01f6fa4c797",
   "metadata": {},
   "source": [
    "`1` 정량/정성 데이터를 근거로 교육 프로덕트의 운영 방싱을 개선\n",
    "\n",
    "`2` IT 교육 도메인에 대한 관심과 지식이 필요"
   ]
  },
  {
   "cell_type": "markdown",
   "id": "50235cba-c07c-42c6-b645-3a15b9bae845",
   "metadata": {},
   "source": [
    "# Summary"
   ]
  },
  {
   "cell_type": "markdown",
   "id": "f9e8b4de-dd19-4189-bcfe-18e2fe0a8380",
   "metadata": {},
   "source": [
    "`1` 전반적으로 데이터를 기반으로 서비스를 기획하고 개선하는 역량이 필요\n",
    "\n",
    "`2` 즉, 그로스 해커의 능력 = `데이터 사이언티스트` + `퍼포먼스마케터`\n",
    "\n",
    "`3` 현재 내가 공부하고 있는 방향과 크게 다르지 않은 것 같다."
   ]
  }
 ],
 "metadata": {
  "kernelspec": {
   "display_name": "Python 3 (ipykernel)",
   "language": "python",
   "name": "python3"
  },
  "language_info": {
   "codemirror_mode": {
    "name": "ipython",
    "version": 3
   },
   "file_extension": ".py",
   "mimetype": "text/x-python",
   "name": "python",
   "nbconvert_exporter": "python",
   "pygments_lexer": "ipython3",
   "version": "3.11.7"
  }
 },
 "nbformat": 4,
 "nbformat_minor": 5
}
