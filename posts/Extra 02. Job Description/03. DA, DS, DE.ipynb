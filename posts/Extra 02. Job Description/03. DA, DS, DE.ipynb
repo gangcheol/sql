{
 "cells": [
  {
   "cell_type": "raw",
   "id": "98781860-a98d-4f56-80cb-83056c05fafa",
   "metadata": {},
   "source": [
    "---\n",
    "title : \"03. DA, DS, DE?\"\n",
    "author : \"GC\"\n",
    "date : \"01/14/25\"\n",
    "---"
   ]
  },
  {
   "cell_type": "markdown",
   "id": "36d74ce4-684e-42b6-815c-028f1b86a841",
   "metadata": {},
   "source": [
    " 이번 챕터에서는 여러 `현직자들의 인터뷰`와 `채용 공고`를 중심으로 `DA, DS, DE` 직무의 `공통 분모`와 `차이점`을 명확히 하여 내가 준비할 것들이 무엇이 있는 지 파악하려고 한다."
   ]
  },
  {
   "cell_type": "markdown",
   "id": "54c46527-0f0b-401b-b4f1-7beb3ad5a3a1",
   "metadata": {},
   "source": [
    "# 1. 의문의 Tistory 블로그"
   ]
  },
  {
   "cell_type": "markdown",
   "id": "b775d55d-25a1-41db-81f4-bef63ff5570a",
   "metadata": {},
   "source": [
    "`-` 블로그에서 주장하는 바에 따르면 각 직군은 다음과 같은 업무에 초점을 둔다고 한다."
   ]
  },
  {
   "cell_type": "markdown",
   "id": "a58f6e83-2aa4-4211-b662-a3a67f10727f",
   "metadata": {},
   "source": [
    "|DA|DS|DE|\n",
    "|:---:|:---:|:---:|\n",
    "|데이터 기반 의사결정을 위해 통계적 데이터 분석 및 시각화|AI/머신러닝 모델 개발/최적화|데이터 플랫폼, 파이프라인의 아키텍처 구성 및 개발/운영|\n"
   ]
  },
  {
   "cell_type": "markdown",
   "id": "544cf0a9-7e7f-4b74-8ad8-46928f6aa011",
   "metadata": {},
   "source": [
    "`-` 와닿지 않음, 먼가 현실과 동떨어진 괴리감이 든다.\n",
    "\n",
    "- 실제로 얼마전 다녀온 데이터분석가 면접에서도 데이터 파이프라인을 구축해서 데이터를 수집해본 경험에 대해서 물어봤었음.\n",
    "\n",
    "- 그리고 DS와 DE는 데이터 기간의 의사결정을 위해 분석과 시각화를 소홀히 하느냐? (X)\n",
    "\n",
    "$\\to$ 예전에 본 `AICE 시험`, 그리고 `빅데이터 분석기사` 시험을 생각하면 그런 것도 아님"
   ]
  },
  {
   "cell_type": "markdown",
   "id": "2fe4e259-06c7-4396-af96-5d7ab0719df2",
   "metadata": {},
   "source": [
    "- 다른 걸 좀 더 조사해보자."
   ]
  },
  {
   "cell_type": "markdown",
   "id": "67cacd98-282b-4550-8a1d-25ab74cce58b",
   "metadata": {},
   "source": [
    "---"
   ]
  },
  {
   "cell_type": "markdown",
   "id": "f6fbd5f2-6460-443b-8a69-5a1d839710ae",
   "metadata": {},
   "source": [
    "# 2. 채용공고 분석"
   ]
  },
  {
   "cell_type": "markdown",
   "id": "9fb764a9-e328-4968-8cf6-c7c055612ea2",
   "metadata": {},
   "source": [
    "## (1) DE(카카오페이 인턴)"
   ]
  },
  {
   "cell_type": "markdown",
   "id": "cccf08f3-2923-4167-8d6e-93bf62d9090c",
   "metadata": {},
   "source": [
    "`1` 업무 내용 : DW 구축과 BI를 위한 DATA MART 모델링 및 개발\n",
    "\n",
    "- 의사결정에 필요한 데이터를 지표화하고 시각화하는 `시스템을 개발하고 운영`.\n",
    "\n",
    "- 데이터 정합성 및 무결성 보장을 위한 커뮤니케이션 및 데이터 정제 작업을 수행($\\star\\star\\star$)\n",
    "\n",
    "- BI 시스템 운영 및 개발\n",
    "\n",
    "\n",
    "`2` 지원자격\n",
    "\n",
    "- 컴공, 통계학 등 관련학과 졸업\n",
    "\n",
    "- SQL, Python 역량\n",
    "\n",
    "- 문제해결능력, 주도적, 뭐 뻔하디 뻔한 것들\n",
    "\n",
    "`3` 우대사항\n",
    "\n",
    "- DW 설계 도구 BI도구(MSTR, Tableau, Power BI 등) 사용 경험이 있으면 좋다.\n",
    "\n",
    "- 데이터 수집, 적재, 가공하여 활용하는 프로세스를 만들어 본 경험($\\star\\star\\star$)\n",
    "    - **(사업단, 에이블 교육 인사이트 도출 사례 언급하면 좋겠다)**\n",
    " \n",
    "- 데이터를 기반으로 통계 정보, 지표 시각화한 경험\n",
    "    - **(고령친화도 시각화한 경험, Do Nation 프로젝트)**\n",
    " \n",
    "- SQLD or DASP 자격증\n",
    "\n",
    "- 데이터 엔지니어링 관련 스터디"
   ]
  },
  {
   "cell_type": "markdown",
   "id": "6241d8fb-d2de-427c-b8ae-ad7881a33d22",
   "metadata": {},
   "source": [
    "## (2) DA(카카오페이증권)"
   ]
  },
  {
   "cell_type": "markdown",
   "id": "33d4cb68-bdea-4b64-abb1-0bc8b96572b4",
   "metadata": {},
   "source": [
    "`1` 업무 내용 : 데이터 기반의 의사결정을 할 수 있도록 분석 결과 및 인사이트를 제공\n",
    "\n",
    "- 고객 행태 데이터를 정제/가공/분석하고 이를 통한 시각화를 제공\n",
    "\n",
    "- 고객과 제품간 상호작용 과정을 데이터로 체계화하고 의미있는 지표를 찾아감.\n",
    "\n",
    "`2` 자격요건\n",
    "\n",
    "- 문제 정의, 이를 데이터를 활용하여 해결한 경험.\n",
    "\n",
    "- Raw data를 다루어 인사이트를 도출하는 것에 강점이 있는 사람.\n",
    "\n",
    "- 모바일 서비스/고객 분석을 통해 유의미한 결과를 도출하고 싶은 사람\n",
    "\n",
    "- 뻔하디 뻔한 것들\n",
    "\n",
    "`3` 우대사항\n",
    "\n",
    "- AB테스트 기반 가설검증 및 모바일 서비스 데이터 분석 방법(LTV, AARRR, Cohort, Funnel 등)을 깊게 활용한 경험이 있으신 분을 선호($\\star\\star\\star$)\n",
    "\n",
    "- 도메인에 대한 이해($\\star\\star\\star$)\n",
    "\n",
    "- 그외 인성 뻔하디 뻔한 것들"
   ]
  },
  {
   "cell_type": "markdown",
   "id": "5ba70230-c1d9-4491-bcf1-667baf76132d",
   "metadata": {},
   "source": [
    "## (3) 데이터 사이언티스트(카카오뱅크)"
   ]
  },
  {
   "cell_type": "markdown",
   "id": "121ac7b2-8802-4761-ac72-85f00e7d0bfa",
   "metadata": {},
   "source": [
    "`1` 업무 내용\n",
    "\n",
    "- 예측 모델 개발($\\star\\star\\star$)\n",
    "\n",
    "- 다양한 데이터 소스를 수집 등 인사이트 도출\n",
    "\n",
    "- 데이터를 통한 비즈시 문제 해결 및 의사결정 지원\n",
    "\n",
    "`2` 자격 요건\n",
    "\n",
    "- 통계학 등 관련 분야 전공\n",
    "\n",
    "- Python, SQL\n",
    "\n",
    "- 모델링(Tensorflow, pytorch 경험)\n",
    "\n",
    "- 데이터 시각화 도구 (예: Tableau, imply 등) 사용 경험이 있는 분\n",
    "\n",
    "`3` 우대 사항\n",
    "\n",
    "- 대규모 데이터 처리 및 빅데이터 기술 경험이 있는 분 (예: Hadoop, Spark 등)\r\n",
    "- 클라우드 플랫폼 (AWS, Azure) 사용 경험자\n",
    "\n",
    "- 데이터 엔지니어링 관련 지식 및 경험을 갖춘 사람\n",
    "\n",
    "- 금융 및 플랫폼 비즈니스에 대한 이해가 높은 사람가 높은 분"
   ]
  },
  {
   "cell_type": "markdown",
   "id": "926df2cd-7bec-4c22-b2b4-723e1b236989",
   "metadata": {},
   "source": [
    "오 조금씩 먼가 구체화가 되는 것 같음"
   ]
  },
  {
   "cell_type": "markdown",
   "id": "84fc742e-bb4b-4f5a-b1e5-7fa082dc78b1",
   "metadata": {},
   "source": [
    "---"
   ]
  },
  {
   "cell_type": "markdown",
   "id": "34a436e3-6440-40ca-a1d6-8cd0d9dd9c0d",
   "metadata": {},
   "source": [
    "# 3. 링커리어 현직자 인터뷰"
   ]
  },
  {
   "cell_type": "markdown",
   "id": "47791b8b-b050-4596-a44d-6943b4c0a740",
   "metadata": {},
   "source": [
    "`1` 현직자 정보\n",
    "\n",
    "- SnapDragon Monitoring Limited company : Data Scientist\n",
    "\n",
    "- 온라인 브랜드 보호를 전문으로 하는 영국 기반 기업\n",
    "\n",
    "- 주로 이미지와 텍스트를 중심으로 모델을 만들고 어플리케이션에 배포하는 업무를 하고 계심\n",
    "\n",
    "- 예를 들어, 특정 브랜드의 경우 상표권과 저작권을 보호하고 있는데, 쿠팡이나 11번가에서 해외의 판매자 (대부분의 경우 중국)가 가품을 만들어서 판매한다던지, 디자인을 모방해서 만드는 경우에 브랜드는 그 제품들을 판매 페이지에서 제거하고 싶어함\n",
    "\n",
    "- 제거해야할 페이지는 수천, 수만개임\n",
    "\n",
    "- 이전에는 하나씩 구분했지만, 이제는 데이터를 기반으로 머신러닝 모델을 만들어낸 후, 상표권, 저작권 및 특허를 침해하는 지 구별하여 데이터 기반의 가치를 실현"
   ]
  },
  {
   "cell_type": "markdown",
   "id": "6def5085-51e3-4cb3-9dfe-4393d551fb0a",
   "metadata": {},
   "source": [
    "`2` DA\n",
    "\n",
    "- 엑셀처럼 정형화된 테이블 데이터를 바탕으로, 통계처리를하고 대시보드 같은 시각화 툴을 활용해 참고하여 보고서를 만듬\n",
    "\n",
    "- 이를 바탕으로 유관부서와 협력하여 인사이트를 도출\n",
    "\n",
    "`3` DS\n",
    "\n",
    "- 비정형 데이터를 받은 후 분석 수행\n",
    "\n",
    "- 이미지들을 한 카테고리로 자동적으 분류 하는 등의 예측 모델을 설계\n",
    "\n",
    "- A/B test, 퍼널 분석 등 유저들의 `로그 데이터`에 대해서도 많이 다"
   ]
  },
  {
   "cell_type": "markdown",
   "id": "4cacde17-c69e-48c5-94e4-3d088f6c10fa",
   "metadata": {},
   "source": [
    "`4` 현직자 직무 면접 경험\n",
    "\n",
    "- 얼마전 본 회사 DS면접에서는  광고 마케팅 및 타겟팅, 통계분석이나 광고 효율성 등에 초점을 맞춰서 사전과제를 내줌\n",
    "\n",
    "- 이렇듯 DS인 사람에게도, DA에 치중된 업무에 관해 물어보는 경우가 많다.\n",
    "\n",
    "- 즉, DA와 DS의 업무 구분은 산업과 회사 성격에 따라 많이 달라지는 것 같다."
   ]
  },
  {
   "cell_type": "markdown",
   "id": "96047290-6d98-43e6-b506-3ca6ac2b2654",
   "metadata": {},
   "source": [
    "---"
   ]
  },
  {
   "cell_type": "markdown",
   "id": "349b6b0e-8e8c-4991-8ff0-76efb8a7b21d",
   "metadata": {},
   "source": [
    "# Summary"
   ]
  },
  {
   "cell_type": "markdown",
   "id": "de09b86f-0c23-45e2-afdb-af470fc12d9b",
   "metadata": {},
   "source": [
    "`1` 일단 각 직군의 일반적인 초점이 Tistory 블로그의 말이 맞는 것 같음"
   ]
  },
  {
   "cell_type": "markdown",
   "id": "23f32b7b-c20d-4dd5-be12-2d57b4f65d7e",
   "metadata": {},
   "source": [
    "|DA|DS|DE|\n",
    "|:---:|:---:|:---:|\n",
    "|데이터 기반 의사결정을 위해 통계적 데이터 분석 및 시각화|AI/머신러닝 모델 개발/최적화|데이터 플랫폼, 파이프라인의 아키텍처 구성 및 개발/운영|\n"
   ]
  },
  {
   "cell_type": "markdown",
   "id": "6482c4e0-794c-4b26-b6af-2eec4dac85c6",
   "metadata": {},
   "source": [
    "`2` 그러나 저걸 맹신하지말자. 기업 공고를 보고 어떠한 역량을 나에게 요구하는 지에 따라 이 회사는 DS를 뽑는데 DA역량을 더 요구하네?\n",
    "\n",
    "- 그러면. DA 형식에 맞게 포트폴리오를 준비하고, 아니면 DS 형식에 맞게 포트폴리오를 준비하면 되지 않은가?\n",
    "\n",
    "\n",
    "`3` 심지어 DA, DS, PM의 범주가 그로스해커 범주의 모두 포함되는 것 같음\n",
    "\n",
    "`4` DE는 근데 잘 모르겟음. 그냥 내 경험 부족인 듯...\n",
    "\n",
    "- 일단 내일 직무 조사를 더 해보자!\n",
    "\n",
    "  "
   ]
  },
  {
   "cell_type": "markdown",
   "id": "b4f75593-a604-4d7d-9414-0dc88903f7cd",
   "metadata": {},
   "source": [
    "`5` 그리고 각 직무의 공통 분모 : 문제를 정의하고 이것을 데이터로 어떻게 해결하는 지를 중점적으로 본다."
   ]
  },
  {
   "cell_type": "markdown",
   "id": "ec828535-09b6-49e7-a68f-bedf3bc31450",
   "metadata": {},
   "source": [
    "`6` 앞선 배운 가장 감명 깊었던 문장 $\\to$ 세 가지 직무의 공통분모로 보인다.\n",
    "\n",
    "- **우리가 데이터 분석을 하는 이유, 단순히 지표값이 궁금해서가 아니라 지표를 개선할 수 있는 행동을 하기 위한 전략을 세워야 한다.**($\\star\\star\\star$)"
   ]
  },
  {
   "cell_type": "markdown",
   "id": "bec2377c-372d-4bcb-93ea-5ccd3df4276d",
   "metadata": {},
   "source": [
    "`7` 차이점은 회사성격마다 다른 것 같다.\n",
    "\n",
    "- 만약 면접 질문이 들어오면, 초점의 차이는 이렇게 되어있지만....\n",
    "    - **지원 직무와 산업군에서는 3가지 초점도 모두 소홀히 할 수 없다는 점을 강력히 어필**($\\star\\star\\star$)\n",
    "    - **그리고. 이를 위해 내가 이렇게 노력하고 있다는 것을 보여주자.**($\\star\\star\\star$)"
   ]
  },
  {
   "cell_type": "markdown",
   "id": "cf027cbd-e7f0-44a9-8624-c3122fe1b44a",
   "metadata": {},
   "source": [
    "`8` 면접질문 적용점"
   ]
  },
  {
   "cell_type": "code",
   "execution_count": null,
   "id": "c5013421-4f87-4947-95bd-a41545f57e12",
   "metadata": {},
   "outputs": [],
   "source": []
  },
  {
   "cell_type": "markdown",
   "id": "4161f9c4-703e-446f-a46b-4583e9526d5f",
   "metadata": {},
   "source": [
    "***"
   ]
  },
  {
   "cell_type": "markdown",
   "id": "e94e497a-aa02-4657-a5c2-faaf278725d6",
   "metadata": {},
   "source": [
    "# Referenece"
   ]
  },
  {
   "cell_type": "markdown",
   "id": "b9993794-b112-4d66-a448-ff36bbd3f06b",
   "metadata": {},
   "source": [
    "`1` [엔지니어의 노트 Tistory](https://socrates-dissatisfied.tistory.com/5)\n",
    "\n",
    "`2` [카카오페이증권 인턴 채용공고](https://linkareer.com/activity/214504)\n",
    "\n",
    "`3` [카카오뱅크 DS채용 공고](https://recruit.kakaobank.com/jobs/183649)\n",
    "\n",
    "`4` [링커리어 현터뷰 1. DS 직무 소개](https://community.linkareer.com/mentor_job/3627738?page=1)\n",
    "\n",
    "`5` [링커리어 현터뷰 2. DA/DS 직무 소개](https://community.linkareer.com/mentor_job/3655384?page=1)"
   ]
  }
 ],
 "metadata": {
  "kernelspec": {
   "display_name": "Python 3 (ipykernel)",
   "language": "python",
   "name": "python3"
  },
  "language_info": {
   "codemirror_mode": {
    "name": "ipython",
    "version": 3
   },
   "file_extension": ".py",
   "mimetype": "text/x-python",
   "name": "python",
   "nbconvert_exporter": "python",
   "pygments_lexer": "ipython3",
   "version": "3.11.7"
  }
 },
 "nbformat": 4,
 "nbformat_minor": 5
}
