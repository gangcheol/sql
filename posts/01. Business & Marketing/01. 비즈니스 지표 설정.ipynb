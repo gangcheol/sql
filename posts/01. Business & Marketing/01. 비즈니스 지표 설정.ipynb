{
 "cells": [
  {
   "cell_type": "raw",
   "id": "9ff8fc79-5b04-43a5-b62c-32635c684041",
   "metadata": {},
   "source": [
    "---\n",
    "title : \"01. 비즈니스 지표 설정\"\n",
    "author : \"GC\"\n",
    "date : \"01/14/25\"\n",
    "---"
   ]
  },
  {
   "cell_type": "markdown",
   "id": "a8012562-f430-492b-be4f-a6f3153b21f0",
   "metadata": {},
   "source": [
    "# 01. 비즈니스 모델"
   ]
  },
  {
   "cell_type": "markdown",
   "id": "84fbe530-bab0-46a3-ac58-fbea40eb2f93",
   "metadata": {},
   "source": [
    "`-` 정의 : 기업이 고객에게 어떤 서비스를 통해 가치를 전달하고, 어떻게 수익을 창출하는 지 그 방법을 정의한 것\n",
    "\n",
    "- 어떤 비즈니스 모델을 가지고 있냐에 따라 중요하게 보아야할 핵심 지표가 달라짐"
   ]
  },
  {
   "cell_type": "markdown",
   "id": "12dfc84c-bf68-4077-8f29-d9e0d477e0c9",
   "metadata": {},
   "source": [
    "`-` 이번 챕터에서는 에어비엔비, 드롭박스, 트위치 등 대형 기업들을 키워낸 미국의 Y Combinator `Seris A` Guide의 10가지 모델 중 6가지 모델에 대해 학습"
   ]
  },
  {
   "cell_type": "markdown",
   "id": "a9d0f656-42aa-4497-93ca-fb73fc54b5b6",
   "metadata": {},
   "source": [
    "## (1) Subscription 모델"
   ]
  },
  {
   "cell_type": "markdown",
   "id": "c82827d0-9236-43ab-a0cc-22715e3cc7eb",
   "metadata": {},
   "source": [
    "`정기 구독` 형태의 모델"
   ]
  },
  {
   "cell_type": "markdown",
   "id": "484f5e86-b6c5-45de-b890-61778858b072",
   "metadata": {},
   "source": [
    "넷플릭스, 스포티파이, 통신사 등의 서비스가 있음"
   ]
  },
  {
   "cell_type": "markdown",
   "id": "4ff9a3fd-bb5b-4c96-a4de-683bddf2f437",
   "metadata": {},
   "source": [
    "## (2) SaaS, Software as a Service"
   ]
  },
  {
   "cell_type": "markdown",
   "id": "fecc5650-93f6-4570-ac45-4a1548a3ef7d",
   "metadata": {},
   "source": [
    "B2C나 B2B 고객에게 `서비스형 소프트웨어를 제공`하고 사용자가 지불하는 이용료를 바탕으로 수익을 얻는 모델\n",
    "\n",
    "- 아래 예시처럼 보통  Saas 기반 수익 구조 모델은 `Subscription 모델`과 교집합이 많음"
   ]
  },
  {
   "cell_type": "markdown",
   "id": "9a94cb70-93f1-453a-a92b-30b709c92d4d",
   "metadata": {},
   "source": [
    "`1` 모드사인 : 클라우드 기반으로 웹 기반의 전자계약 서비스를 제공\n",
    "\n",
    "`2` Notion, Slack, Dropbox, 구글 Drive"
   ]
  },
  {
   "cell_type": "markdown",
   "id": "f330dc73-a895-459f-8686-6225aef6ad50",
   "metadata": {},
   "source": [
    "## (3) Advertising"
   ]
  },
  {
   "cell_type": "markdown",
   "id": "b95063d4-09a9-456a-bbde-28ba07695caa",
   "metadata": {},
   "source": [
    "`서비스`를 제공하여 트래픽을 모으고, 트래픽에 관심을 가지는 `광고주`에게 `광고 상품을 판매`하여 수익을 얻는 유형"
   ]
  },
  {
   "cell_type": "markdown",
   "id": "0ee440e9-90e5-4be9-a57a-86a134624d06",
   "metadata": {},
   "source": [
    "즉, 광고할 기회를 판매하는 모델"
   ]
  },
  {
   "cell_type": "markdown",
   "id": "b8346cba-b2cb-42d8-8857-300b491698d0",
   "metadata": {},
   "source": [
    "`-` `트위터`, `네이버`, `구글`과 같은 사용자의 트래픽을 기반으로 광고 수익을 차출하는 서비스가 이 모델에 해당"
   ]
  },
  {
   "cell_type": "markdown",
   "id": "e4aa9e4e-8dfe-40a4-a775-d667a10bbc6c",
   "metadata": {},
   "source": [
    "## (4) Marketplace"
   ]
  },
  {
   "cell_type": "markdown",
   "id": "dc404a05-f2c2-4c3c-8057-088ab25461b1",
   "metadata": {},
   "source": [
    "구매자와 판매자를 연결하여 플래폼 내에서 거래가 이루어질 수 있도록 하는 `거래 중개 모델`"
   ]
  },
  {
   "cell_type": "markdown",
   "id": "68047967-2e11-4422-b894-2d1947b261ef",
   "metadata": {},
   "source": [
    "`1` 대부분 수수료로 수익을 얻음\n",
    "\n",
    "`2` 또는, 배달의 민족처럼 Advertising 모델처럼 트래픽을 이용한 광고 수익을 얻거나, 두 방범을 모두 사용하여 수익을 얻음\n",
    "\n",
    "`3` 에어비엔비, 지그재그, 우버 등이 있음"
   ]
  },
  {
   "cell_type": "markdown",
   "id": "a807a383-c9b5-4b1c-81b7-1f0a34bb76e6",
   "metadata": {},
   "source": [
    "## (5) E-Copmmerce"
   ]
  },
  {
   "cell_type": "markdown",
   "id": "d63c3280-b7c8-420b-9755-73a2363ab551",
   "metadata": {},
   "source": [
    "온라인 채널로 제품이나 서비스를 직접 판매하여 수익을 얻는 `전자 상거래 유형`의 비즈니스 모델"
   ]
  },
  {
   "cell_type": "markdown",
   "id": "0dbcb7cf-5ec9-4e66-ba67-27fb93d0a3bc",
   "metadata": {},
   "source": [
    "`1` 직접 만든 상품 브랜드화\n",
    "\n",
    "`2` 제품과 서비스의 대부분을 직접 통제"
   ]
  },
  {
   "cell_type": "markdown",
   "id": "14f672b4-6b55-4241-89bf-bd8fdcf70274",
   "metadata": {},
   "source": [
    "`직접`이라는 워딩에서 Marketplace와 차이를 보임"
   ]
  },
  {
   "cell_type": "markdown",
   "id": "e34e540e-a8a2-47f3-893a-4a82f9d91c5b",
   "metadata": {},
   "source": [
    "## (6) Enterprise"
   ]
  },
  {
   "cell_type": "markdown",
   "id": "c2f8366d-61ce-43d6-940b-64e3b1beaa93",
   "metadata": {},
   "source": [
    "기업 고객을 대상으로 `서비스`나 `소프트웨어`를 제공하는 B2B 비즈니스 모델"
   ]
  },
  {
   "cell_type": "markdown",
   "id": "5c8e4e69-e9b4-48cf-8666-b30e27f0ce0d",
   "metadata": {},
   "source": [
    "`1` 삼성전자\n",
    "\n",
    "`2` 포스코\n",
    "\n",
    "`3` 그 외에도 `B2B 서비스를 제공하는 기업`이라면 모두 `Enterprise 모델 유형`의 비즈니스 모델을 가지고 있다고 볼 수 있음"
   ]
  },
  {
   "cell_type": "markdown",
   "id": "a76bcaab-7832-4c3d-af4f-7d313713eb29",
   "metadata": {},
   "source": [
    "****"
   ]
  },
  {
   "cell_type": "markdown",
   "id": "a0b24ece-b449-4303-a491-2b4f47444db3",
   "metadata": {},
   "source": [
    "# Case Study. 코드잇"
   ]
  },
  {
   "cell_type": "markdown",
   "id": "aa432e96-ed36-45d4-95ec-00209ff68283",
   "metadata": {},
   "source": [
    "코드잇은 개인 고객(`Subscription`), 기업 고객(`Enterprise`) 모두에게 교육 서비스를 제공하는 여러개의 비즈니스 모델을 가진다."
   ]
  },
  {
   "cell_type": "markdown",
   "id": "c226c357-c164-4d62-9f41-056906a3c444",
   "metadata": {},
   "source": [
    "어떤 식으로 지표를 관리하면 좋을까? $\\to$ 전사적으로 같은 주요 지표를 공유하더라도 내부 세부 조직마다 관리해야할 지표를 명확히 하는 것이 좋다."
   ]
  },
  {
   "cell_type": "markdown",
   "id": "9fc3ebd2-d21e-45ca-9a05-bb150e202328",
   "metadata": {},
   "source": [
    "`1` 개인 고객 관리 조직"
   ]
  },
  {
   "cell_type": "markdown",
   "id": "2e53c465-a779-43ec-96bd-b8671f3cf58a",
   "metadata": {},
   "source": [
    "<center><img src = 7.jpg width = 500></center>"
   ]
  },
  {
   "cell_type": "markdown",
   "id": "ca1e9e58-1c40-4174-a6e8-fdbb957a928a",
   "metadata": {},
   "source": [
    "`2` 기업 고객 관리 조직"
   ]
  },
  {
   "cell_type": "markdown",
   "id": "15f9261d-f4eb-4972-917c-7e7e0edb1625",
   "metadata": {},
   "source": [
    "<center><img src = 8.jpg width = 500></center>"
   ]
  },
  {
   "cell_type": "markdown",
   "id": "491c48a6-ac50-4b61-a893-821f0e14605e",
   "metadata": {},
   "source": [
    "***"
   ]
  },
  {
   "cell_type": "markdown",
   "id": "92992bcd-308a-428e-8a78-30e02b052973",
   "metadata": {},
   "source": [
    "# 02. OMTM"
   ]
  },
  {
   "cell_type": "markdown",
   "id": "f16ce045-0b9c-4a88-acc6-f511ab30035f",
   "metadata": {},
   "source": [
    "One Metric That Matter"
   ]
  },
  {
   "cell_type": "markdown",
   "id": "06aa8385-27be-4454-ad15-16c79e0c269a",
   "metadata": {},
   "source": [
    "`1` 현재 시점에서 전체 비즈니스의 우선순위가 되는 지표\n",
    "\n",
    "`2` 조직 부서별로 목표하는 세부 지표들을 포괄하는 개념\n",
    "\n",
    "`3` 조건"
   ]
  },
  {
   "cell_type": "markdown",
   "id": "83db04eb-a963-4d96-8650-a67714a9dd91",
   "metadata": {},
   "source": [
    "<center><img src = 9.jpg width = 500></center>"
   ]
  },
  {
   "cell_type": "markdown",
   "id": "5b26328a-0330-4b60-960c-6af9bd11b174",
   "metadata": {},
   "source": [
    "`4` `OMTM은 현재 시점에서 중요한 지표`이기 때문에 시간에 따라 변화할 수 있음\n",
    "\n",
    "-  특히, 프로덕트 `life Cycle`의 영향을 받음"
   ]
  },
  {
   "cell_type": "markdown",
   "id": "991669e7-f29f-41c7-8a8e-93c0dc0b69f2",
   "metadata": {},
   "source": [
    "- 예를 들어 프로덕트 출시 초기에는 신규 방문자 수(NU)를 `OMTM`으로 설정할 수 있음\n",
    "\n",
    "- 근데 충분히 유입이 되었다면? $\\to$ 이제 유료 구독자 수가 `OMTM`으로 전환될 수 있음 "
   ]
  },
  {
   "cell_type": "markdown",
   "id": "158f94c0-21c4-4c9c-8af8-8abaa181d464",
   "metadata": {},
   "source": [
    "***"
   ]
  },
  {
   "cell_type": "markdown",
   "id": "526100a5-0e34-41c9-8a57-b6d9c2f7afba",
   "metadata": {},
   "source": [
    "# 03. 북극성 지표"
   ]
  },
  {
   "cell_type": "markdown",
   "id": "153b1cf3-77b5-46a6-9678-0eb583090e99",
   "metadata": {},
   "source": [
    "비즈니스가 궁극적으로 고객에게 전달하고자 하는 핵심 가지츨 드러내는 단 하나의 지표"
   ]
  },
  {
   "cell_type": "markdown",
   "id": "48938223-1c7e-4056-9369-669e1aafc2f1",
   "metadata": {},
   "source": [
    "OMTM과의 차이점"
   ]
  },
  {
   "cell_type": "markdown",
   "id": "394e9115-2cd3-44ee-a2a6-0a640b2dac1b",
   "metadata": {},
   "source": [
    "<center><img src = 10.jpg width = 500></center>"
   ]
  },
  {
   "cell_type": "markdown",
   "id": "04e43ef8-5715-40e2-a367-a326caaa3c42",
   "metadata": {},
   "source": [
    "`1` 다양한 기업들의 북극성 지표"
   ]
  },
  {
   "cell_type": "markdown",
   "id": "8170a0c7-5177-4a8f-bf8e-3c6413021b87",
   "metadata": {},
   "source": [
    "<center><img src = 11.jpg width = 500></center>"
   ]
  },
  {
   "cell_type": "markdown",
   "id": "a6684b5c-d13f-4847-8dbc-c78b34aa47d9",
   "metadata": {},
   "source": [
    "# 04. KPI(핵심 성과지표)"
   ]
  },
  {
   "cell_type": "markdown",
   "id": "5d2bbdfa-6052-409c-b7d6-d3379058effd",
   "metadata": {},
   "source": [
    "Key Performance Indicator"
   ]
  },
  {
   "cell_type": "markdown",
   "id": "b5046c13-472c-4f6e-8f81-121b455dbecf",
   "metadata": {},
   "source": [
    "`1` OMTM ,북극성 지표와는 달리 주로 비즈니스 내 부서, 팀 단위로 가져가는 목표의 성과를 파악하기 위한 지표\n",
    "\n",
    "`2` 목표 달성과 직접적인 연관이 있어야함\n",
    "\n",
    "`3` 비즈니스 목표나 주요 영역에 대한 업무 성과 측정이 가능해야함"
   ]
  },
  {
   "cell_type": "markdown",
   "id": "549bc7eb-1dd3-4bdb-8e4c-533ec61de88c",
   "metadata": {},
   "source": [
    "<center><img src = 12.jpg width = 500></center>"
   ]
  },
  {
   "cell_type": "markdown",
   "id": "4911a86a-3a9d-4287-803a-e38d3f28b405",
   "metadata": {},
   "source": [
    "`4` 이를 잘 모니터링 하면 팀 차원에서 전략의 방향을 조절할 수 있음\n",
    "\n",
    "- 아예 KPI용 대시보드를 만들고 관리하는 경우가 많다.\n",
    "\n",
    "- 근데 사실 부서나 팀 레벨 단위의 KPI가 있는 것은 아님\n",
    "\n",
    "- 개인별, 팀보다 광범위한 단위로도 가능\n",
    "\n",
    "`5` OMTM, 북극성 지표와의 차이점 요약\n",
    "\n",
    "- 규모와 성격과는 무관하게 구체적인 목표를 달성하려는 상황에서 공통적으로 활용해 볼 수 있다."
   ]
  },
  {
   "cell_type": "markdown",
   "id": "1ced64ee-92f3-4821-b5db-5e5622c29fb0",
   "metadata": {},
   "source": [
    "---"
   ]
  },
  {
   "cell_type": "markdown",
   "id": "ed7f8cf8-5581-46bf-bcd7-802fc5cd3fd4",
   "metadata": {},
   "source": [
    "# 05. 좋은 지표를 고르는 방법"
   ]
  },
  {
   "cell_type": "markdown",
   "id": "d2227220-8566-48d3-9f10-7a969ae8cad2",
   "metadata": {},
   "source": [
    "`1` Objective : 비즈니스가 달성하고자 하는 목표와 연관되어야 함"
   ]
  },
  {
   "cell_type": "markdown",
   "id": "ab1baa20-164e-412c-adb0-ddaeb1147ab0",
   "metadata": {},
   "source": [
    "<center><img src = 13.jpg width = 500></center>"
   ]
  },
  {
   "cell_type": "markdown",
   "id": "6af72573-cdf1-4a11-bfd9-94aec385dc8f",
   "metadata": {},
   "source": [
    "`2` Specifitc & Understand : 정의가 명확하고, 이해하기 쉬워야함.\n",
    "\n",
    "- 아래처럼 서로 지표 해석을 달리할 수 있음\n",
    "\n",
    "- 높은 커뮤니케이션 비용을 발생시킴"
   ]
  },
  {
   "cell_type": "markdown",
   "id": "71e3146a-0c6f-4720-8992-2bfb28bd7bd3",
   "metadata": {},
   "source": [
    "<center><img src = 14.jpg width = 500></center>"
   ]
  },
  {
   "cell_type": "markdown",
   "id": "f56c328f-9dfe-4a68-aeb2-f5e097965190",
   "metadata": {},
   "source": [
    "`3` Comparability : 비교 가능해야함"
   ]
  },
  {
   "cell_type": "markdown",
   "id": "71dbd59f-77f4-4c05-ba2c-29b70c157962",
   "metadata": {},
   "source": [
    "`4` Actionable : 행동하게 만들어야함\n",
    "\n",
    "- 우리가 데이터 분석을 하는 이유, 단순히 지표값이 궁금해서가 아니라 지표를 개선할 수 있는 행동을 하기 위한 전략을 세워야 한다.($\\star\\star\\star$)\n",
    "\n",
    "- 아래 지표를 허영 지표(Vanity Metric)라고 한다.\n",
    "    - 매력적이어 보이지만, 실행 가능한 구체적인 계획을 세우는 데에는 큰 도움이 되지 않음"
   ]
  },
  {
   "cell_type": "markdown",
   "id": "84bad120-f841-4740-bbd8-a09a34d98eb9",
   "metadata": {},
   "source": [
    "<center><img src = 15.jpg width = 500></center>"
   ]
  },
  {
   "cell_type": "markdown",
   "id": "3cd80749-c59d-403f-a6c8-e5c10e0d4c69",
   "metadata": {},
   "source": [
    "- 광고 클릭률인 CPR 지표의 경우는 좀 다르다. 아래의 경우를 고려해보자\n",
    "    - 컨셉을 수정하거나 다른 광고 매체로 전환하는 등의 전략을 고려할 수 있음\n",
    "    - 또는 상세 페이지 A의 이탈률이 높다면, 이미지를 변경하는 등의 전략을 세울 수 있음"
   ]
  },
  {
   "cell_type": "markdown",
   "id": "a44e6c14-cd51-4a32-a862-9922ff430985",
   "metadata": {},
   "source": [
    "<center><img src = 16.jpg width = 500></center>"
   ]
  },
  {
   "cell_type": "markdown",
   "id": "1116c807-1284-46b3-b850-135c75cdaa31",
   "metadata": {},
   "source": [
    "- 이 같이 허영지표와 반대되어 우리가 `Action` 할 수 있는 지표들을 `실행 지표`라고 한다.\n",
    "\n",
    "- **KPI 선정 시 이 부분을 유의해야한다.**($\\star\\star\\star$)"
   ]
  }
 ],
 "metadata": {
  "kernelspec": {
   "display_name": "Python 3 (ipykernel)",
   "language": "python",
   "name": "python3"
  },
  "language_info": {
   "codemirror_mode": {
    "name": "ipython",
    "version": 3
   },
   "file_extension": ".py",
   "mimetype": "text/x-python",
   "name": "python",
   "nbconvert_exporter": "python",
   "pygments_lexer": "ipython3",
   "version": "3.11.7"
  }
 },
 "nbformat": 4,
 "nbformat_minor": 5
}
