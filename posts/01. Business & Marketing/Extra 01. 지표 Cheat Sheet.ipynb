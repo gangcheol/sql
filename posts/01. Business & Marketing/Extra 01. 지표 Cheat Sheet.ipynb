{
 "cells": [
  {
   "cell_type": "raw",
   "id": "a81a8382-f645-4101-83f6-d8bb2131ab96",
   "metadata": {},
   "source": [
    "---\n",
    "title : \"Extra 01. 지표 Cheat Sheet\"\n",
    "author : \"GC\"\n",
    "date : \"11/22/24\"\n",
    "comment : true\n",
    "---"
   ]
  },
  {
   "cell_type": "markdown",
   "id": "216d6acf-df17-41cd-ae76-c9509954d642",
   "metadata": {},
   "source": [
    "<iframe src=\"지표cheat_sheet.pdf\" width = 800 height = 800></iframe>"
   ]
  }
 ],
 "metadata": {
  "kernelspec": {
   "display_name": "Python 3 (ipykernel)",
   "language": "python",
   "name": "python3"
  },
  "language_info": {
   "codemirror_mode": {
    "name": "ipython",
    "version": 3
   },
   "file_extension": ".py",
   "mimetype": "text/x-python",
   "name": "python",
   "nbconvert_exporter": "python",
   "pygments_lexer": "ipython3",
   "version": "3.12.2"
  }
 },
 "nbformat": 4,
 "nbformat_minor": 5
}
