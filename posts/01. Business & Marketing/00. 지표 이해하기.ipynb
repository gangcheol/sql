{
 "cells": [
  {
   "cell_type": "raw",
   "id": "b5085b7a-b5b0-492b-81d4-180ce1609f09",
   "metadata": {},
   "source": [
    "---\n",
    "title : \"00. 지표 이해하기\"\n",
    "author : \"GC\"\n",
    "date : \"08/22/24\"\n",
    "comment : true\n",
    "---"
   ]
  },
  {
   "cell_type": "markdown",
   "id": "a725ce9e-84d9-46fd-b01a-671842d1fa29",
   "metadata": {},
   "source": [
    "# Intro"
   ]
  },
  {
   "cell_type": "markdown",
   "id": "b5ab8431-d8f5-4444-98d6-95dc4e1f46c5",
   "metadata": {},
   "source": [
    "`1` 지표 : 데이터를  측정하고 평가하기 위한 정량적인 측정 항목\n",
    "\n",
    "- 비즈니스와 프로덕트의 현재 상태를 알려줄 수 있는 항목\n",
    "\n",
    "- 데이터를 쉽고 명확하게 요약하여 전달할 수 있게 함\n",
    "\n",
    "- 구글이나 네이버에서도 다양한 직무에서 의사결정을 내리기 위해 지표를 사용함"
   ]
  },
  {
   "cell_type": "markdown",
   "id": "72215c22-596b-4429-b983-426cf858f68d",
   "metadata": {},
   "source": [
    "> ex\n",
    ">\n",
    "> `1` 사용자는 늘었지만 강의 탐색 화면으로 유입되는 비율은 줄었네?\n",
    "> - 강의 탐색 버튼 디자인을 눈에 잘 띄게 수정해 봐야겠다는 인사이트를 내릴 수 있음"
   ]
  },
  {
   "cell_type": "markdown",
   "id": "90d25c8f-f423-42c8-81b7-8abcf11c20ce",
   "metadata": {},
   "source": [
    "- 이번 강의에서는 보편적인 지표를 다룸 $\\to$ 비즈니스와 프로덕트에 맞는 지표를 설정하는 법을 배운다."
   ]
  }
 ],
 "metadata": {
  "kernelspec": {
   "display_name": "Python 3 (ipykernel)",
   "language": "python",
   "name": "python3"
  },
  "language_info": {
   "codemirror_mode": {
    "name": "ipython",
    "version": 3
   },
   "file_extension": ".py",
   "mimetype": "text/x-python",
   "name": "python",
   "nbconvert_exporter": "python",
   "pygments_lexer": "ipython3",
   "version": "3.12.2"
  }
 },
 "nbformat": 4,
 "nbformat_minor": 5
}
