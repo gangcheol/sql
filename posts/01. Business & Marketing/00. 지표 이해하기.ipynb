{
 "cells": [
  {
   "cell_type": "raw",
   "id": "b5085b7a-b5b0-492b-81d4-180ce1609f09",
   "metadata": {},
   "source": [
    "---\n",
    "title : \"00. 지표 이해하기\"\n",
    "author : \"GC\"\n",
    "date : \"01/14/25\"\n",
    "---"
   ]
  },
  {
   "cell_type": "markdown",
   "id": "a725ce9e-84d9-46fd-b01a-671842d1fa29",
   "metadata": {},
   "source": [
    "# Intro"
   ]
  },
  {
   "cell_type": "markdown",
   "id": "b5ab8431-d8f5-4444-98d6-95dc4e1f46c5",
   "metadata": {},
   "source": [
    "`1` 지표 : 데이터를  측정하고 평가하기 위한 정량적인 측정 항목\n",
    "\n",
    "- 비즈니스와 프로덕트의 현재 상태를 알려줄 수 있는 항목\n",
    "\n",
    "- 데이터를 쉽고 명확하게 요약하여 전달할 수 있게 함\n",
    "\n",
    "- 구글이나 네이버에서도 다양한 직무에서 의사결정을 내리기 위해 지표를 사용함"
   ]
  },
  {
   "cell_type": "markdown",
   "id": "72215c22-596b-4429-b983-426cf858f68d",
   "metadata": {},
   "source": [
    "> ex\n",
    ">\n",
    "> `1` 사용자는 늘었지만 강의 탐색 화면으로 유입되는 비율은 줄었네?\n",
    "> - 강의 탐색 버튼 디자인을 눈에 잘 띄게 수정해 봐야겠다는 인사이트를 내릴 수 있음"
   ]
  },
  {
   "cell_type": "markdown",
   "id": "90d25c8f-f423-42c8-81b7-8abcf11c20ce",
   "metadata": {},
   "source": [
    "- 이번 강의에서는 보편적인 지표를 다룸 $\\to$ 비즈니스와 프로덕트에 맞는 지표를 설정하는 법을 배운다."
   ]
  },
  {
   "cell_type": "markdown",
   "id": "69568c12-5645-4350-a674-ccd91296825a",
   "metadata": {},
   "source": [
    "---"
   ]
  },
  {
   "cell_type": "markdown",
   "id": "d63c872c-4a4a-452c-a57f-49d3e5cf2367",
   "metadata": {},
   "source": [
    "# 01. 지표 관리를 위한 AARRR프레임워크"
   ]
  },
  {
   "cell_type": "markdown",
   "id": "ad45c738-bba4-44ea-9c6c-5d078064f294",
   "metadata": {},
   "source": [
    "## AARRR 프레임워크"
   ]
  },
  {
   "cell_type": "markdown",
   "id": "fbb53d7c-5d61-4d9b-a36f-00415b9770f6",
   "metadata": {},
   "source": [
    "::: {.panel-tabset}\n",
    "#### <span style = \"color : Blue\"> **0. Intro**</span>\n",
    "\n",
    "`1` AARRR 프레임임워크 : 대표적인 지표 관리 방법론\n",
    "\n",
    "- 미국 실리콘밸리 투자회사 `500스타트업`, `Dave McClure`가 개발한 데이터 분석 프레임워크이자 지표 관리 방법론\n",
    "\n",
    "-  사용자의 서비스 이용 흐름(User Flow)을 비즈니스 관점에서 5가지 단계로 명확하게 구분하여 성장하기 위해 단계별로 주목해야할 지표를 쉽게 정리하고 관리하기 위한 방법론\n",
    "\n",
    "- 각 단계들은 깔대기 모양(`Funnel`)의 구조를 가짐\n",
    "\n",
    "- 각 단계들의 앞글자를 따서 `AARRR` 이라고 한다.\n",
    "\n",
    "#### <span style = \"color : Blue\"> **1. ACQUISITION**</span>\n",
    "\n",
    "`1` 신규 사용자를 프로덕트로 유입시키는 단계\n",
    "\n",
    "- 종류 : 유료광고(유튜브 광고, 네이버 검색 광고), 무료광고(오가닉 마케팅)\n",
    "    - 오가닉 마케팅 : 유료 광고를 집행하지 않고 트래픽을 생성하는 마케팅을 의미\n",
    "        - 블로그 게시물, 페이스북 게시물 등등 \n",
    "\n",
    "`2` 적은 비용으로 가치 있는 사용자를 확보하는 것이 중요\n",
    "\n",
    "- 사용자 획득이 성공적으로 이루어지는가?, 유입 과정에서 장애물은 없는가? 꾸준히 체크를 해야함.\n",
    "\n",
    "#### <span style = \"color : Blue\"> **2. ACTIVATION**</span>\n",
    "\n",
    "`1` 프로적트 관점에서 유입된 사용자로 하여금 활성화 되도록 만드는 단계\n",
    "\n",
    "`2` 사용자가 활성화된다는 것은 다음과 같다.\n",
    "\n",
    "- 처음으로 프로덕트의 `핵심 가치`를 경험하거나, `프로덕트의 고객`으로 전환되는 것을 의미\n",
    "\n",
    "`3` 이때, 고객이 처음으로 프로덕트의 핵심 가치를 경험하는 순간을 `Aha-moment`라고 한다.\n",
    "\n",
    "`4` Aha-Moment는 고객이 프로덕트의 중요한 기능을 이해하고, 사용하는 과정에서 발생\n",
    "\n",
    "- `Aha-Moment`를 경험한 고객은 프로덕트의 가치를 높게 여기기 때문에 충성 고객으로 전환될 확률이 높음\n",
    "\n",
    "- 때문에 `ACTIVATION` 단계에서는 프로덕트만의 강력한 `Aha-Moment`를 찾고, 신규고객이 이를 빠르게, 그리고 많이 경험하게 하는 것이 중요하다.\n",
    "\n",
    "- 유료 서비스라면 특히, 구매를 하는 고객으로 사용자를 전환시키는 것이 중요!\n",
    "\n",
    "#### <span style = \"color : Blue\"> **3. RETENTION**</span>\n",
    "\n",
    "`1` 활성화된 사용자가 이탈하지 않고, 계속 프로덕트를 사용하도록 관리하는 단계\n",
    "\n",
    "`2` 흥미로운 콘텐츠, 대체 불가능한 기능, 유용한 정보(할인 쿠폰)를 통해 사용자가 계속 프로덕트를 사용하도록 유지\n",
    "\n",
    "`3` 사용자를 획득해도 이탈을 하면 의미가 없기 때문에 이 단계가 특히 중요하다($\\star\\star\\star$)\n",
    "\n",
    "`4` 하버드 비즈니스 리뷰\n",
    "\n",
    "- 기존 고객을 유지시켜 재사용을 유도하는 것이 신규사용자를 획득하는 것보다 `5~25배` 이상 저렴\n",
    "\n",
    "\n",
    "#### <span style = \"color : Blue\"> **4. REVENUE**</span>\n",
    "\n",
    "`1` 사용자의 활동이 매출로 이어지는지 확인하고, 수익을 관리하며 이윤 극대화를 위해 노력하는 단계\n",
    "\n",
    "`2` 따라서 지출 대비 수익을 확인해  수익화를 극대화할 수 있는 방안을 고민해야함.\n",
    "\n",
    "\n",
    "#### <span style = \"color : Blue\"> **5. REFERRAL**</span>\n",
    "\n",
    "`1` 기존 사용자의 추천을 통해 새로운 사용자의 유입이 이루어질 수 있도록 하는 단계\n",
    "\n",
    "`2` 지인을 대상으로 하는 추천이 잘 이루어지고 있는지, 고객이 자발적으로 참여할 수 있는 방안을 마련해야함.\n",
    "\n",
    "`3` 단기적인 방법 : SNS 공유 시 할인 쿠폰 증정\n",
    "\n",
    "`4` 장기적인 방법 : 사용자들에게 긍정적인 경험을 끊임없이 제공해서 사용자가 다른 사용자에게 추천하고자 하는 욕구를 가지게 만드는 법\n",
    "\n",
    "- 나아가 추천/공유 시스템을 구축하여 선순환 구조를 만드는 것이 중요\n",
    "\n",
    "- 드롭박스는 친구 추천 시 데이터 저장 공간을 제공\n",
    "\n",
    "- 토스는 친구 추천 시 송금 지원금을 제공하여 신규 사용자를 확보함\n",
    "\n",
    "#### <span style = \"color : Blue\"> **6. EXTRA**</span>\n",
    "\n",
    "`1` 프로덕트마다 사용자들의 흐름이 다르다.\n",
    "\n",
    "`2` 모든 사용자들이 AARRR 순서대로 서비스를 이용하는 것은 아님\n",
    "\n",
    "- 코드잇 : 광고를 통해 유입된 사용자가 바로 추천 단계를 거치는 경우\n",
    "\n",
    "- 따라서 퍼널에서 고정된 순서에 얽매이지 않고, 현재 가장 집중해서 계산해야할 단계를 정하고, 그 단계에서 사용할 수 있는 지표들을 찾아 적절하게 사용하면 그것으로 충분하다.\n",
    "\n",
    "- ex1. 상품 개발 후, 사용자 유입이 시급하다면?\n",
    "    - `ACQUISITION`의 핵심 지표에 집중\n",
    "        - 신규 사용자 수(NU), 광고 클릭률(CTR)\n",
    "\n",
    "- ex2. 반면 사용자 유입은 충분한데 활성화와 유지가 안된다면?\n",
    "    - `Activation`과 `Retention`에 집중하여 관련 지표들을 개선\n",
    "        - 체류 시간(Duration Time)\n",
    "        - 페이지 이탈률(Nounce Rate)\n",
    "        - 유지율(Retention Rate)\n",
    "        - 이탈률(Churn Rate)\n",
    "\n",
    "- 즉, 상황에 맞게 지표를 자유자재로 활용할 수 있도록 프레임워크와 지표를 잘 이해하는 것이 중요하다($\\star\\star\\star$)\n",
    "\n",
    ":::"
   ]
  },
  {
   "cell_type": "markdown",
   "id": "f04cf916-ca7f-41a7-a6ce-72e405725227",
   "metadata": {},
   "source": [
    "---"
   ]
  },
  {
   "cell_type": "markdown",
   "id": "b70eed60-cdcb-45ec-b6ac-d4543ff3c2a5",
   "metadata": {},
   "source": [
    "## Extra1. 주의!"
   ]
  },
  {
   "cell_type": "markdown",
   "id": "00a269b0-7e1a-4493-ae62-4d3d28ce50ac",
   "metadata": {},
   "source": [
    "`1` 동일한 지표라도 필요에 따라 계산식을 얼마든지 수정할 수 있다.\n",
    "\n",
    "`2` 전환율(Conversion Rate)이 가장 대표적인 주의할 지표\n",
    "\n",
    "- 일반적으로 알려진 정의\n",
    "\n",
    "$$\\text{Conversion Rate} = \\frac{\\text{전환이 발생한 수}}{\\text{전체 수}}\\times 100$$\n",
    "\n",
    "\n",
    "- 근데 이것만으로는 지표의 측정값을 구하기가 애매함\n",
    "\n",
    "- 전환율을 구성하는 요소들에 대한 구체적인 정의가 필요\n",
    "\n",
    "- 즉, 사용자의 어떤 행위를 전환으로 볼지 정의해야함"
   ]
  },
  {
   "cell_type": "markdown",
   "id": "fa6002e5-e249-499d-9e88-bfc06bb1fe51",
   "metadata": {},
   "source": [
    "### ex1. 프로덕트 A"
   ]
  },
  {
   "cell_type": "markdown",
   "id": "9c920fcb-a12f-4945-8f96-a21ffe420f63",
   "metadata": {},
   "source": [
    "- 프로덕트 A : 결제를 완료했을 때 전환이 발생했다고 정의\n",
    "\n",
    "$$\\text{Conversion Rate} = \\frac{\\text{결제 완료가 발생한 수}}{\\text{전체 수}}\\times 100$$"
   ]
  },
  {
   "cell_type": "markdown",
   "id": "9194048e-a968-48e9-84ee-3f34eea5e4d4",
   "metadata": {},
   "source": [
    "`-` 전체 수에 대한 정의도 가지 각색이다.\n",
    "\n",
    "1. 전체 방문 사용자 수 기준\n",
    "\n",
    "$$\\text{Conversion Rate} = \\frac{\\text{결제 완료가 발생한 수}}{\\text{사이트에 방문한 전체 사용자 수}}\\times 100$$\n",
    "\n",
    "2. 전체 페이지 조회 수 기준\n",
    "\n",
    "$$\\text{Conversion Rate} = \\frac{\\text{결제 완료가 발생한 수}}{\\text{전체 페이지 조회 수}}\\times 100$$\n"
   ]
  },
  {
   "cell_type": "markdown",
   "id": "5f819bc5-6f05-4c5f-8b0c-46578628279e",
   "metadata": {},
   "source": [
    "`-` 또한, 측정 기간에 따라서도 달라진다."
   ]
  },
  {
   "cell_type": "markdown",
   "id": "5cd3116b-83c5-4bc2-a31f-d4d3a88c93b4",
   "metadata": {},
   "source": [
    "1. 이번달 기준\n",
    "\n",
    "$$\\text{Conversion Rate} = \\frac{\\text{이번달 결제 완료가 발생한 수}}{\\text{이번달에 방문한 전체 사용자 수}}\\times 100$$\n",
    "\n",
    "2. 1분기 기준\n",
    "\n",
    "$$\\text{Conversion Rate} = \\frac{\\text{1분기에 결제 완료가 발생한 수}}{\\text{1분기에 전체 페이지 조회 수}}\\times 100$$"
   ]
  },
  {
   "cell_type": "markdown",
   "id": "5ce89c49-cf3f-41ea-a188-653eb918795b",
   "metadata": {},
   "source": [
    "`-` Extra"
   ]
  },
  {
   "cell_type": "markdown",
   "id": "b064d4cf-255f-4af7-8980-42ea3a7aa50a",
   "metadata": {},
   "source": [
    "- 프로덕트 B : 장바구니에 상품을 담았을 때 전환이 발생했다고 정의\n",
    "\n",
    "$$\\text{Conversion Rate} = \\frac{\\text{장바구니 담기가 발생한 수}}{\\text{전체 수}}\\times 100$$\n",
    " \n",
    "- 프로덕트 C : 온라인 폼을 제출했을 때 전환이 발생했다고 정의\n",
    "$$\\text{Conversion Rate} = \\frac{\\text{온라인 폼 제출이 발생한 수}}{\\text{전체 수}}\\times 100$$"
   ]
  },
  {
   "cell_type": "markdown",
   "id": "ddc9d1b0-cd27-4597-bcdc-29997b8a0549",
   "metadata": {},
   "source": [
    "### Summary1"
   ]
  },
  {
   "cell_type": "markdown",
   "id": "c98c15c6-c9ff-4001-95bb-7e00f66b66ef",
   "metadata": {},
   "source": [
    "`1` 이처럼 전환율이라는 하나의 지표에 대해서도 세부적인 요소들을 어떻게 정의하느냐에 따라 서로 다른 지표값이 산출된다.\n",
    "\n",
    "`2` 또한, 이로부터 인사이트가 달라짐\n",
    "\n",
    "`3` 비즈니스 목적에 맞게 측정하고 싶은 것이 무엇인지 정하고, 지표를 구성하는 세부적인 요소들을 구체적으로 정의하는 것이 중요\n",
    "\n",
    "`4` <span style = \"color : Blue\">**즉, 지표의 계산식은 고정된 게 아니라 유연하게 변동될 수 있음을 기억하자($\\star\\star\\star$)**</span>"
   ]
  },
  {
   "cell_type": "markdown",
   "id": "60da59cb-cd8b-4ff5-a3dd-bb113b5c09a8",
   "metadata": {},
   "source": [
    "***"
   ]
  },
  {
   "cell_type": "markdown",
   "id": "28a7addb-88ee-4209-86aa-7636e6567834",
   "metadata": {},
   "source": [
    "## 01. Acquisition"
   ]
  },
  {
   "cell_type": "markdown",
   "id": "26697be8-e411-4817-9d92-462247be18b3",
   "metadata": {},
   "source": [
    "### (1) 획득 지표"
   ]
  },
  {
   "cell_type": "markdown",
   "id": "ff5317c4-abc0-4333-8cdf-3c1e6c447c1d",
   "metadata": {},
   "source": [
    "`1` 잠재 고객이 프로덕트의 신규 사용자로 유입되는 `획득`단계\n",
    "\n",
    "- 많이 효율적으로 획득하는 게 중요\n",
    "\n",
    "#### 지표 1. 획득의 규모"
   ]
  },
  {
   "cell_type": "markdown",
   "id": "7cf0fb99-2fc2-48fd-ab10-aa33c07bdb84",
   "metadata": {},
   "source": [
    "`1` 신규 사용자 수(New User)\n",
    "\n",
    "`2` 회원 가입 수(Sign Up)\n",
    "\n",
    "`3` 앱 다운로드 수(App Installs)\n",
    "\n",
    "> ex1. 세일즈를 통해 수익을 창출하는 회사\n",
    "> - 고객 정보를 얻어야 세일즈를 시작할 수 있음\n",
    "> - 이런 회사는 잠재 고객들을 리드(Lead)라고 부름\n",
    "> - 이런 리드의 수가 많을 수록 고객 확보 가능성이 높아지기 때문에 `리드 수`역시 지표로 사용됨"
   ]
  },
  {
   "cell_type": "markdown",
   "id": "b9e463f1-4eb3-4838-ad28-fe640e437d52",
   "metadata": {},
   "source": [
    "#### 지표 2. 획득의 효율(CAC)"
   ]
  },
  {
   "cell_type": "markdown",
   "id": "6037e1fb-628a-44dd-92e7-71ad9d2b9169",
   "metadata": {},
   "source": [
    "`1` 고객획득비용(CAC) : Customer  Acquisition Cost\n",
    "\n",
    "- 신규 고객 1명을 유치하기 위해 필요한 비용\n",
    "\n",
    "$$\\text{CAC}=\\frac{\\text{고객 획득을 위해 투입한 금액}}{\\text{획득한 고객 수}}$$\n",
    "\n",
    "-  주의 : CAC는 프로덕트로 유입된 모든 사용자가 아니다.\n",
    "    - 각각의 프로덕트가 미리 정해둔 기준을 충족한 사용자인 고객을 획득하는 데 들어간 비용을 의미한다.\n",
    "    - 따라서 계산하기 앞서 우리 프로덕트에서 `고객의 기준`이 무엇인지 정해야한다."
   ]
  },
  {
   "cell_type": "markdown",
   "id": "abed8a7a-af57-4fd0-a9a5-5da337b02874",
   "metadata": {},
   "source": [
    "#####  ex1. 쇼핑 서비스의 경우"
   ]
  },
  {
   "cell_type": "markdown",
   "id": "0ac1c263-d40b-4861-969c-3deefc112257",
   "metadata": {},
   "source": [
    "||회원 가입을 완료한 사용자|2개 이상의 상품을 장바구니에 담은 사용자|\n",
    "|---|:---:|:---:|\n",
    "|투입한 금액|5,000만원|5,000만원|\n",
    "|획득한 고객 수|1,000명|500명|\n",
    "|CAC|5만원|10만원|\n",
    "\n"
   ]
  },
  {
   "cell_type": "markdown",
   "id": "591368fb-a66b-42e8-9119-6de079b70251",
   "metadata": {},
   "source": [
    "##### ex2. 블랜디드  CAC"
   ]
  },
  {
   "cell_type": "markdown",
   "id": "41beeb4f-dc72-4952-8389-34d09d6da192",
   "metadata": {},
   "source": [
    "$$\\text{블랜디드 CAC}=\\frac{\\text{고객 획득을 위해 투입한 금액}}{\\text{획득한 고객 수}}$$"
   ]
  },
  {
   "cell_type": "markdown",
   "id": "5a88bf85-9e62-4d96-952a-021a0f88f4c4",
   "metadata": {},
   "source": [
    "- 유료 광고 비용, 영업 비용, 서비스 사용 비용 등을 포함"
   ]
  },
  {
   "cell_type": "markdown",
   "id": "000f12bc-9d52-4360-a97e-9fc849d1bff9",
   "metadata": {},
   "source": [
    "##### ex3. 매체별 CAC"
   ]
  },
  {
   "cell_type": "markdown",
   "id": "bd6889fc-6225-4228-b7c8-1c8d3908f0de",
   "metadata": {},
   "source": [
    "$$\\text{매채별 CAC}=\\frac{\\text{특정 광고 매체에서 고객 획득을 위해 투입한 금액}}{\\text{획득한 고객 수}}$$"
   ]
  },
  {
   "cell_type": "markdown",
   "id": "54ab91a3-2c41-4066-8d2e-dff867888e8a",
   "metadata": {},
   "source": [
    "`1` 실무에서는 매체별 CAC를 보는 경우가 많음\n",
    "\n",
    "`2` 낮은 투자 비용으로 많은 고객을 확보하는 것이 중요하기 때문\n",
    "\n",
    "`3` 또한, 더 많은 인사이트를 얻기 위해 다음과 같이 데이터를 쪼개보기도 함\n",
    "\n",
    "- 매체별 CAC\n",
    "- 광고별 CAC\n",
    "- 날짜별 CAC\n",
    "- 고객 유형별 CAC 등등....\n",
    "\n",
    "`4` 오해... CAC가 저렴할수록 광고 성과가 좋다...?? (x)\n",
    "\n",
    "- 오히려 저품질의 고객이 유입될 수 있음\n",
    "- 때로는 중간 정도의 CAC로 고품질의 고객을 얻는 것이 장기적으로 보았을 때 장기적으로 유리할 수 있음\n",
    "\n",
    "- <span style = \"color : Blue\"> **따라서, 상품과 비즈니스의 전체적인 상황을 잘 살펴서 적절한 CAC를 얻기위해 노력해야한다.($\\star\\star\\star$)**</span>"
   ]
  },
  {
   "cell_type": "markdown",
   "id": "d0d4552d-07d7-4e02-8790-7ec054602bfc",
   "metadata": {},
   "source": [
    "---"
   ]
  },
  {
   "cell_type": "markdown",
   "id": "5d08abd7-a342-4208-8a49-7d86dd17f5b6",
   "metadata": {},
   "source": [
    "### 광고 지표 (2)"
   ]
  },
  {
   "cell_type": "markdown",
   "id": "5a37b2a0-eafb-47de-9f4d-1207fef923dc",
   "metadata": {},
   "source": [
    "`1` 광고를 진행하고 결과를 확인하기 위한 지표"
   ]
  },
  {
   "cell_type": "markdown",
   "id": "76e89723-37fb-4147-b4ee-c5f1ebd900c6",
   "metadata": {},
   "source": [
    "#### (a) 광고 성과 지표"
   ]
  },
  {
   "cell_type": "markdown",
   "id": "9d801d0f-f3c0-4e49-b039-bf589848db1b",
   "metadata": {},
   "source": [
    "`1` 광고 클릭률(CTR) : Click-Through Rate\n",
    "\n",
    "- 사용자가 광고에 노출되었을 때, 광고를 클릭한 사용자의 비율"
   ]
  },
  {
   "cell_type": "markdown",
   "id": "132889c9-756a-4a8c-9573-add8e3de6e4c",
   "metadata": {},
   "source": [
    "$$\\text{CTR}=\\frac{\\text{광고 클릭 수}}{\\text{광고 노출 수}}\\times 100 $$"
   ]
  },
  {
   "cell_type": "markdown",
   "id": "de8bab69-86fd-40aa-9482-51a70331afcd",
   "metadata": {},
   "source": [
    "`2` 광고 조회율(VTR) : View-Through Rate\n",
    "\n",
    "- 영상 광고에 노출된 사용자 중, 영상을 조회한 비율"
   ]
  },
  {
   "cell_type": "markdown",
   "id": "c9e83b17-0720-4c37-8b8c-c3a0b1e2870c",
   "metadata": {},
   "source": [
    "$$\\text{VTR}=\\frac{\\text{영상 조회 수}}{\\text{영상 광고 노출 수}}\\times 100 $$"
   ]
  },
  {
   "cell_type": "markdown",
   "id": "28fb075d-240d-49c4-a90a-ea200cb80286",
   "metadata": {},
   "source": [
    "`3` 광고 전환율(CVR) : Conversion Rate\n",
    "\n",
    "- 광고를 클릭하여 유입된 사용자 중, 주요한 전환 행동을 한 사용자의 비율"
   ]
  },
  {
   "cell_type": "markdown",
   "id": "0dd70772-e817-46a8-bc69-dbd4149e731d",
   "metadata": {},
   "source": [
    "$$\\text{CVR}=\\frac{\\text{전환 수}}{\\text{광고 클릭 수}}\\times 100 $$"
   ]
  },
  {
   "cell_type": "markdown",
   "id": "a608b0a5-34ed-4025-a8ec-deaa32a06ac6",
   "metadata": {},
   "source": [
    "- 광고 전환율이 높을 수록, 광고의 성과가 좋다고 볼 수 있다.\n",
    "\n",
    "- CVR은 CTR을 보완해줄 수 있는 지표이다.\n",
    "    - CTR은 광고 노출부터 클릭 수 까지\n",
    "    - CVR은 광고 클릭부터 전환 수 까지의 여정을 나타내는 지표이기 때문"
   ]
  },
  {
   "cell_type": "markdown",
   "id": "11aa68ae-e815-407a-b8ce-f955e199573b",
   "metadata": {},
   "source": [
    "> ex1. 만약 CTR은 높은데 CVR이 낮다면?\n",
    "> \n",
    "> - 매력적인 광고로 클릭까진 유도했지만, 전환까지는 하지 못해 광고전략이 미흡하다고 볼 수 있음\n",
    "> - 해결책 1 : 전환율이 높은 대상을 타겟팅\n",
    "> - 해결책 2 : 광고 클릭 시 유입되는 렌딩 페이지를 더 매력적으로 구성하는 등 광고전략의 변화를 시도"
   ]
  },
  {
   "cell_type": "markdown",
   "id": "c9b30ac3-5966-4b29-942c-ef1db938454e",
   "metadata": {},
   "source": [
    "> ex2.  반대로 CVR은 높은데 CTR이 낮다면?\n",
    ">\n",
    "> - 사용자의 클릭을 유도하는 데는 미흡하다고 볼 수 있음.\n",
    "> - 해결책 1 : 매력적인 광고 소재 마련"
   ]
  },
  {
   "cell_type": "markdown",
   "id": "ad9d61ac-c724-4dd2-9f4a-f76aa042da9d",
   "metadata": {},
   "source": [
    "***"
   ]
  },
  {
   "cell_type": "markdown",
   "id": "c189a972-b7ab-42b6-9a11-3a4f7b41f258",
   "metadata": {},
   "source": [
    "#### (b) 광고 비용 지표"
   ]
  },
  {
   "cell_type": "markdown",
   "id": "60636b21-ff30-4656-9f61-a8d3f6bc5b65",
   "metadata": {},
   "source": [
    "`1` CPM : Cost-Per-Mile\n",
    "\n",
    "- 광고 1,000번 노출당 비용"
   ]
  },
  {
   "cell_type": "markdown",
   "id": "15ef8b31-d583-43fa-8565-97643d001a85",
   "metadata": {},
   "source": [
    "$$\\text{CPM}=\\frac{\\text{총 광고 비용}}{\\text{광고 노출 수}}\\times 1000 $$"
   ]
  },
  {
   "cell_type": "markdown",
   "id": "bcda9a8f-370c-401a-92dc-ae9c0854b782",
   "metadata": {},
   "source": [
    "- CPM이 저렴할 수록 광고 노출 측면에서의 효율이 좋다고 볼 수 있음"
   ]
  },
  {
   "cell_type": "markdown",
   "id": "87776e0a-ba39-406f-95bc-d1873cc50fbf",
   "metadata": {},
   "source": [
    "`2` CPC : Cost-Per-Click\n",
    "\n",
    "- 광고 클릭당 비용"
   ]
  },
  {
   "cell_type": "markdown",
   "id": "c8e77402-c8ab-4c87-ae04-1610cfdc78d5",
   "metadata": {},
   "source": [
    "$$\\text{CPC}=\\frac{\\text{총 광고 비용}}{\\text{광고 클릭 수}} $$"
   ]
  },
  {
   "cell_type": "markdown",
   "id": "2cfbc72c-594b-4bdf-8b71-f2840b932e73",
   "metadata": {},
   "source": [
    "`3` CPV : Cost-Per-View\n",
    "\n",
    "- 영상 광고 조회당 비용\n"
   ]
  },
  {
   "cell_type": "markdown",
   "id": "f285814f-27ed-4b31-839a-4abfa6b59386",
   "metadata": {},
   "source": [
    "$$\\text{CPV}=\\frac{\\text{영상 광고 조회당 비용}}{\\text{광고 조회 수}}$$"
   ]
  },
  {
   "cell_type": "markdown",
   "id": "804a23bf-4ead-40e4-b18f-336aa78b264e",
   "metadata": {},
   "source": [
    "`4` CPA : Cost-Per-Action\n",
    "\n",
    "- 특정 액션(회원가입, 상품 구매 등)당 비용"
   ]
  },
  {
   "cell_type": "markdown",
   "id": "9f077041-4c5d-439a-936b-979927a06ada",
   "metadata": {},
   "source": [
    "$$\\text{CPA}=\\frac{\\text{총 광고 비용}}{\\text{특정 액션이 발생한 수}}$$"
   ]
  },
  {
   "cell_type": "markdown",
   "id": "9fe20db6-765e-49c7-af65-6117a23700d6",
   "metadata": {},
   "source": [
    "`5` CPI : Cost-Per-Install\n",
    "\n",
    "- 앱 설치당 비용"
   ]
  },
  {
   "cell_type": "markdown",
   "id": "816d158c-c8e4-4197-9845-e6cdaa050973",
   "metadata": {},
   "source": [
    "$$\\text{CPI}=\\frac{\\text{총 광고 비용}}{\\text{앱 설치 수}} $$"
   ]
  },
  {
   "cell_type": "markdown",
   "id": "80901732-3812-478b-a3e5-0e3828297f47",
   "metadata": {},
   "source": [
    "##### ex1. 틱톡, 인스타, 유튜브"
   ]
  },
  {
   "cell_type": "markdown",
   "id": "c6514bba-9b38-461c-8760-0ff5e3243b8b",
   "metadata": {},
   "source": [
    "`1` 생각1. CPC만 보면 틱톡이 가장 저렴해서 틱톡의 효율이 가장 좋아보임"
   ]
  },
  {
   "cell_type": "markdown",
   "id": "b2a1bd59-3f83-4f49-9f9a-df56a72b7ad5",
   "metadata": {},
   "source": [
    "|광고 매체|지출한 광고비|CPC|\n",
    "|---|:---:|:---:|\n",
    "|Tictok|1,000만원|60원|\n",
    "|Instagram|1,000만원|200원|\n",
    "|Youtube|1,000만원|650원|\n",
    "\n"
   ]
  },
  {
   "cell_type": "markdown",
   "id": "9f2fa292-58ab-43b4-8711-a139503ffe61",
   "metadata": {},
   "source": [
    "`2` 추가 정보! $\\to$ 실제로 획득한 고객 수"
   ]
  },
  {
   "cell_type": "markdown",
   "id": "fd348760-ab42-408d-b9de-34a3db25b25c",
   "metadata": {},
   "source": [
    "|광고 매체|지출한 광고비|CPC|획득한 고객 수|\n",
    "|---|:---:|:---:|:---:|\n",
    "|Tictok|1,000만원|60원|10,000명|\n",
    "|Instagram|1,000만원|200원|20,000명|\n",
    "|Youtube|1,000만원|650원|1,000명|\n",
    "\n"
   ]
  },
  {
   "cell_type": "markdown",
   "id": "fb93d543-6ab5-4349-bc1f-8352621a2553",
   "metadata": {},
   "source": [
    "`3` 앞선 CAC 공식을 적용하여 계산해보자."
   ]
  },
  {
   "cell_type": "markdown",
   "id": "7a6fccaa-2432-4481-b046-0169795efe5d",
   "metadata": {},
   "source": [
    "$$\\text{CAC}=\\frac{\\text{고객 획득을 위해 투입한 금액}}{\\text{획득한 고객 수}}$$"
   ]
  },
  {
   "cell_type": "markdown",
   "id": "89235c73-a3b5-4ab4-b28d-49f922e08caf",
   "metadata": {},
   "source": [
    "|광고 매체|지출한 광고비|CPC|획득한 고객 수|CAC|\n",
    "|---|:---:|:---:|:---:|:---:|\n",
    "|Tictok|1,000만원|60원|10,000명|1,000원|\n",
    "|Instagram|1,000만원|200원|20,000명|500원|\n",
    "|Youtube|1,000만원|650원|1,000명|10,000원|\n",
    "\n"
   ]
  },
  {
   "cell_type": "markdown",
   "id": "5370b35f-d4a6-48e4-a322-54d2daea7275",
   "metadata": {},
   "source": [
    "- 어? 이번에는 인스타그램의 고객 획득 비용이 가장 저렴해보인다.\n",
    "    - 실제 고객의 획득 측면에서는 인스타그램의 효율이 가장 좋다고 판단할 수 있음\n",
    "    - 만약, 최대한 고객을 유입하는 게 목적이라면 인스타그램의 가장 많은 광고비를 투입하는게 합리적임\n",
    "    - 유튜브는 사용을 중지하겠지?"
   ]
  },
  {
   "cell_type": "markdown",
   "id": "f2880471-2d98-44bc-9668-071e6a6e2a77",
   "metadata": {},
   "source": [
    "#### Summary"
   ]
  },
  {
   "cell_type": "markdown",
   "id": "b3f115c3-da00-4ede-a372-e268f5ea7949",
   "metadata": {},
   "source": [
    "`1` 고객 유입 단계에서 더 효율적인 매체를 찾아 예산을 효과적으로 사용할 수 있음"
   ]
  },
  {
   "cell_type": "markdown",
   "id": "e50d15e1-6227-4eb5-a8e3-f3448da9f758",
   "metadata": {},
   "source": [
    "***"
   ]
  },
  {
   "cell_type": "markdown",
   "id": "24c19293-e1bc-4a7f-abf0-c95aaec4dbd9",
   "metadata": {},
   "source": [
    "## 02. Activation"
   ]
  },
  {
   "cell_type": "markdown",
   "id": "39a96c09-0d1e-46bf-950c-5cf20720c3ad",
   "metadata": {},
   "source": [
    "사용자가 프로덕트의 핵심 가치를 경험하며 활성화되는 단계\n",
    "\n",
    "### (1) 사용자 경험 지표\n",
    "\n",
    "`-` 아래와 같은 지표들을 반복적으로 추적하고 관리하면서 새로운 전략을 세움\n",
    "\n",
    "- ex1. 체류 시간이 길수록 사용자의 경험이 긍정적이다. 라고 판단할 수 있음\n",
    "\n",
    "- ex2. 사이트 세부 페이지에 평균 페이지 체류 시간 $\\to$ 어떤 페이지가 사용자의 흥미를 끌었는지 확인할 수 있음\n",
    "\n",
    "- ex3. 세션별 평균 체류 시간 $\\to$ 사용자가 특정 서비스에 체류한 시간\n",
    "\n",
    "- ex4. 페이지뷰(PV) : 일정 기간동안 사용자가 웹사이트나 앱을 방문하여 열람한 총 페이지 수, 순 방문자 수와 함께 알면 좋음\n",
    "    - 순 방문자 수(UV) : 중복 사용자를 베재한 총 사융자 수\n",
    "\n",
    "- ex5. 페이지 이탈률(반송률) : Bounce Rate,  웹이나 앱에서 첫 페이지만 조회한 후, 추가적인 행동이나 상호작용 없이 바로 튕겨나간 사용자의 비율"
   ]
  },
  {
   "cell_type": "markdown",
   "id": "fa738dae-d7db-4a41-955f-a14b3d7c0c0a",
   "metadata": {},
   "source": [
    "### (2) 활성화 지표"
   ]
  },
  {
   "cell_type": "markdown",
   "id": "89a24574-9382-4d4a-8a83-07f5035ec165",
   "metadata": {},
   "source": [
    "`1` 아래와 같은 활성화 기준을 통해 얼마나 활성화가 되었는 지 판단\n",
    "\n",
    "- Aha-moment를 경험했을 때\n",
    "\n",
    "- 구매와 같은 확실한 전환 행동을 했을 때"
   ]
  },
  {
   "cell_type": "markdown",
   "id": "19dda7f8-cca6-4e94-bd34-ed06e3d465be",
   "metadata": {},
   "source": [
    "`2` Funnel Conversion : 활성화가 되기 까지의 사용자의 여정을 단계별로 세분화하는 과정"
   ]
  },
  {
   "cell_type": "markdown",
   "id": "9ed4ff23-f950-4b0e-a628-67f2b558d99b",
   "metadata": {},
   "source": [
    "> ex1. 트위터의 Aha-moment 경험 퍼널\n",
    "\n",
    "1. 앱 다운로드\n",
    "\n",
    "2. 회원 가입 시작\n",
    "\n",
    "3. 회원 가입 완료\n",
    "\n",
    "4. 프로플 세팅 완료\n",
    "\n",
    "5. 팔로우 시작\n",
    "\n",
    "6. 30명 팔로우 완료"
   ]
  },
  {
   "cell_type": "markdown",
   "id": "9d020978-7457-4b6e-9a3e-a5bcd2bab04e",
   "metadata": {},
   "source": [
    "> ex2. (웹) 구매 퍼널\n",
    "\n",
    "1. 웹사이트 방문 : 100명\n",
    "\n",
    "2. 상품 리스트 조회(카테고리 페이지) : 95명\n",
    "\n",
    "3. 상품 조회(상세 페이지) : 90명\n",
    "\n",
    "4. 장바구니 담기 : 75명\n",
    "\n",
    "5. 결제 시작 : 40명\n",
    "\n",
    "6. 결제 완료 : 30명\n",
    "\n",
    "\n",
    "총 100명 중, 30명만 남음 $\\to$ 최종 전환율 30%"
   ]
  },
  {
   "cell_type": "markdown",
   "id": "77b83303-9a37-4c26-8e29-f9ae78dc2629",
   "metadata": {},
   "source": [
    "`3` 단계별 전활율을 높이는 방법\n",
    "\n",
    "- ex1. 카카오톡 알림 : 할인 프로모션 알림 등, 위 예시에서 4단계와 5단계 사이에서 활용될 수잇음\n",
    "- ex2. UX/UI 개선\n",
    "\n",
    "\n"
   ]
  },
  {
   "cell_type": "markdown",
   "id": "948b1373-c683-4fc5-aa9f-0695b0436d1a",
   "metadata": {},
   "source": [
    "`4` 때로는 퍼널 단계, 즉 프로덕트 이용 경로 단순화를 통해 최종 전환율을 높일 수 있음\n",
    "\n",
    "- 나라면? 회원가입 절차를 없애거나 복잡한 인증, 마케팅 pusy 알림 동의 절차를 없애겠음"
   ]
  },
  {
   "cell_type": "markdown",
   "id": "d41876b4-fa79-4f2f-a492-99e3d89f42a4",
   "metadata": {},
   "source": [
    "---"
   ]
  },
  {
   "cell_type": "markdown",
   "id": "9aa0143c-47b6-4a12-9591-8f32afd5acb8",
   "metadata": {},
   "source": [
    "## 03. Retention"
   ]
  },
  {
   "cell_type": "markdown",
   "id": "6bdbb6cb-f26b-45ab-b603-679806aa4ac5",
   "metadata": {},
   "source": [
    "`1` 활성화된 사용자가 이탈하지 않고 유지되는 단계\n",
    "\n",
    "`2` 사용자의 지속적인 활동을 나타내는 지표\n",
    "\n",
    "- 유지율(Retention Rate)\n",
    "\n",
    "- 월 유지율\n",
    "\n",
    "- 이탈률(Churn Rate)\n",
    "\n",
    "`3` 유지율은 사실 매우 복잡함 $\\to$ Protuct마다 기준이 다르기 때문"
   ]
  },
  {
   "cell_type": "markdown",
   "id": "d19760fe-65c4-43c9-b58b-b6743d9343cc",
   "metadata": {},
   "source": [
    "### (1) 유지율 지표 고려사항"
   ]
  },
  {
   "cell_type": "markdown",
   "id": "506f1d0c-755f-4e12-ac9f-5124aff9e3a1",
   "metadata": {},
   "source": [
    "`1` 기준 행동 : 어떤 행동을 했을 때 유지되었는지\n",
    "\n",
    "- 이용료 납부, 구독, 방문, 로그인 등\n",
    "\n",
    "- 보통 비즈니스 모델에 따라 유지율 기준 행동이 달라짐\n",
    "\n",
    "- ex. 코드잇 : 구독\n",
    "\n",
    "- ex. 인스타그램 : 접속\n",
    "\n",
    "\n",
    "`2` 측정 단위기간 설정\n",
    "\n",
    "- 인스타그램 : 일\n",
    "\n",
    "- 유튜브 : 월\n",
    "\n",
    "`3` 계산 방식\n"
   ]
  },
  {
   "cell_type": "markdown",
   "id": "75bbcf0f-ee4e-4889-8622-16270b201950",
   "metadata": {},
   "source": [
    "- 클래식 리텐션 : 가장 일반적인 유지율 계산방식(N-day 유지율, N-day 리텐션)\n",
    "    - 보통 1일차, 7일차, 30일차 유지율을 고려\n",
    "    - Day0 5명, Day1 4명이라면 Day1의 유지율은 `4/5`\n",
    "    - 근데 만약 Day7 측정 시 자주 방문하지 않은 사용자가 방문할 경우 리텐션이 과대 추정되는 상황발생\n",
    "    - 이와 반대로 과소 추정또한 발생할 수 있음\n",
    "    \n",
    "- 범위 리텐션 : 클래식 리텐션의 과소/과대 측정을 방지\n",
    "    - 기간 범위 내에서 한 번이라도 사용한 경우, 유지된 유저라고 판단\n",
    "    - Range0에서 5명 모두 1번이라도 방문 $\\to$ Range1에서 5명 모두 한번이라도 방문 $\\to$ 유지율 = `1`\n",
    "\n",
    "- 롤링 리탠션(Unbounded Retention) : 사용자가 마지막 행동을 한 날을 기준으로 그 이전의 모든날을 행동한 것으로 간주\n",
    "    - 사용자가 이탈하지 않고 남아있는가에 초점을 둠\n",
    "    - 유지율이 과대추정될 수 있음\n",
    "    - 그럼에도 불구하고 여행, 부동산 서비스의 경우 보통 롤링 리텐션을 사용\n",
    "\n",
    "$\\divideontimes$ 특별한 경우가 아니라면 범위 리텐션을 사용하는 게 맞는 것 같음"
   ]
  },
  {
   "cell_type": "markdown",
   "id": "7439db49-7d7b-4a30-bbb3-a355dfc33979",
   "metadata": {},
   "source": [
    "### (2) Cohort ($\\star\\star\\star$)"
   ]
  },
  {
   "cell_type": "markdown",
   "id": "f7638d78-875e-4d1f-adc8-cdb422db12a8",
   "metadata": {},
   "source": [
    "`1` 정의 : 특정 기간안에서 `공통적인 특성`이나 `행동 양식`을 공유하는 사용자 그룹"
   ]
  },
  {
   "cell_type": "markdown",
   "id": "410ce00a-2b6d-4fcd-907f-c069c96608e9",
   "metadata": {},
   "source": [
    "- 단순히 내가 특정 기준(`가입한 달`, `팔로워한 친구 수 cutting`)에 따라 그룹을 나눈 것이라고 생각하자.\n",
    "    - 1월 달에 특정 이벤트가 있어 가입한 사람들(`코호트 1월`)이 유지율이 높다면, 특정 이벤트가 리텐션의 유의미한 영향을 줬다고 판단할 수 있음\n",
    "\n",
    "- 클러스터링 특성에 따라 코호트를 정의할 수도 있을 것 같다($\\star\\star\\star$)"
   ]
  },
  {
   "cell_type": "markdown",
   "id": "6636d478-80c9-4467-a617-24b74f64adc0",
   "metadata": {},
   "source": [
    "`2` Retention Plateau\n",
    "\n",
    "- 유지율 그래프에서 그래프의 기울기가 평평해 지는 구간, 더이상 이탈하지 않고 유지되는 구간\n",
    "\n",
    "- 프로덕트가 명확한 타겟을 찾아서 특정 코호트의 니즈를 충족시켰다고 판단하기도 한다."
   ]
  },
  {
   "cell_type": "markdown",
   "id": "ed23a593-3b9a-40d6-87aa-ae52eb26a47d",
   "metadata": {},
   "source": [
    "### (3) Stickiness(사용자 고착도)"
   ]
  },
  {
   "cell_type": "markdown",
   "id": "270aad39-e90d-4212-b271-f2d3a3efde84",
   "metadata": {},
   "source": [
    "사용자들이 얼마나 자주 지속적으로 서비스에 참여하여 상호작용하는 지 보여주는 지표\n",
    "\n",
    "- 활성 사융자 수 : 일정 기간 동안 특정 서비스와 상호 작용하며 활성화된 사용자 수"
   ]
  },
  {
   "cell_type": "markdown",
   "id": "99292d10-abfe-47ab-8c33-75656a018b48",
   "metadata": {},
   "source": [
    "`1` 대표적인 사용자 고착도 공식"
   ]
  },
  {
   "cell_type": "markdown",
   "id": "bdf0b68a-cc5e-41d2-be19-5c63c40c317a",
   "metadata": {},
   "source": [
    "- DAU/MAU $\\times$ 100\n",
    "- DAU/WAU $\\times$ 100\n",
    "    - DAU : 일일 활성 사용자 수, 최소 하루에 한 번 앱에서 세션이 활성화된 고유 사용자 수.\n",
    "    - WAU : 주간 활성 사용자 수, 최소 7일에 한 번 앱에서 세션이 활성화된 고유 사용자 수.\n",
    "    - MAU : 월간 활성 사용자 수, 최소 30일에 한 번 앱에서 세션이 활성화된 고유 사용자 수.\n",
    "    - HAY : 시간당 활성 사용자 수\n",
    " \n",
    "- Activation 단계에서 신규 사용자 유입량 예측에 사용되기도 한다.\n",
    "\n",
    "`2` SNS의 경우 최소 2-30%의 사용자 고착도가 되어야 괜찮다고 볼 수 있음\n",
    "\n",
    "- Facebook의 경우, 2023년 3월을 기준으로 사용자 고착도가 68%나 되었음\n",
    "\n",
    "- 에어비엔비의 경우는 사용자가 자주 방문하지 않아도, 사용자가 1년에 몇 번 정도만 반복해도 괜찮은 경우 고착도가 낮아도 괜찮다고 판단할 수 있음"
   ]
  },
  {
   "cell_type": "markdown",
   "id": "b04af74a-2ccd-43cb-a97c-4ad8b8ad7719",
   "metadata": {},
   "source": [
    "---"
   ]
  },
  {
   "cell_type": "markdown",
   "id": "99bd32f9-f02c-4b78-a124-31b2645ce6c0",
   "metadata": {},
   "source": [
    "## 04. Revenue"
   ]
  },
  {
   "cell_type": "markdown",
   "id": "4a65ea76-41f6-45f7-a5f0-16b9137dc3f1",
   "metadata": {},
   "source": [
    "`1` 수익성 지표 : 수익화와 관련된 전반적인 지표를 검토하는 단계"
   ]
  },
  {
   "cell_type": "markdown",
   "id": "cb14ab8e-c03e-4154-9e42-6403eb5a303b",
   "metadata": {},
   "source": [
    "`2` 다음과 같이 나뉠 수 있음.\n",
    "\n",
    "- 프로덕트의 수익성을 확인할 수 있게 하는 지표 $\\to$ 매출, 순이익, 월간 반복 매출(MRR, Monthly Recurring Revenue)\n",
    "    - MRR : 비즈니스가 매월 반복적으로 발생시키는 매출, 공식 매우 복잡함\n",
    "        - 일회성 매출에는 적합하지 않음"
   ]
  },
  {
   "cell_type": "markdown",
   "id": "051001d7-cfe5-4dcb-b430-eb2a261c7ce7",
   "metadata": {},
   "source": [
    "> MRR 예시\n",
    "> 1. 7월 기준 고객 매출 : 1,000,000원\n",
    "> 2. 8월 이탈 고객 기준 기여 매출 : 200,000원\n",
    "> 3. 8월 신규/부활 고객 매출 : 500,000원\n",
    "> 4. 8월 플랜 업그레이드 매출 : 200,000원\n",
    "> 5. 8월 플랜 다운그레이드 매출 : 100,000원\n",
    "> 6. 8월의 MRR은? $\\to$ 1,000,000 - 200,000 + 500,000 + 200,000 - 100,000 = 1,400,000원"
   ]
  },
  {
   "cell_type": "markdown",
   "id": "4201ffb9-b058-43ce-bf01-6415da639b7f",
   "metadata": {},
   "source": [
    "- 단순화하면? `이전 달에서 유지된 고객의 반복 매출` + `이번 달에 새로운 고객이 발생시킨 반복 매출`\n",
    "    - 즉, 전체 매출에서 이탈/다운그레이드 고객으로 발생되는 매출은 빼는것임\n",
    "    - Why? 정의 자체가 매월 `반복적!`으로 발생시키는 매출이니까, 이탈/다운그레이드는 반복에 포함시키지 않는 것임"
   ]
  },
  {
   "cell_type": "markdown",
   "id": "14979290-da95-4727-a2bc-1d8555fca8c3",
   "metadata": {},
   "source": [
    "`3` ROI : 투자 대비 수익률, Return on Investment\n",
    "\n",
    "- (순이익 / 전체 투자비용) $\\times$ 100\n",
    "\n",
    "- 비용 대비 수익이 얼마나 안정적으로 발생하는지 확인 가능\n",
    "\n",
    "- 비즈니스 경영 성과를 종합적으로 판단하기 위한 지표로 사용"
   ]
  },
  {
   "cell_type": "markdown",
   "id": "6e8be6c2-67c9-4d70-8eba-761c30489254",
   "metadata": {},
   "source": [
    "`4` ROAS : Return on Ad Spend"
   ]
  },
  {
   "cell_type": "markdown",
   "id": "b6ee2a68-aaf9-4f1f-81a8-38b883579242",
   "metadata": {},
   "source": [
    "- (광고 캠페인으로 발생한 매출 / 투입한 총 광고 비용) $\\times$ 100\n",
    "\n",
    "- 앞에서 배운 `CAC` 처럼 광고 매체별로 관리하는 경우가 많음\n",
    "\n",
    "- 어떠한 광고 매체가 투자 대비 매출이 높은지 확인하여 적절한 광고 매체를 선택할 수 있음($\\star\\star\\star$)\n",
    "\n",
    "- **따라서, Acquisition 단계에서도 고려되어야 하는 지표일 수 있음!**"
   ]
  },
  {
   "cell_type": "markdown",
   "id": "821215c8-c599-48f7-8296-7d6da2844c61",
   "metadata": {},
   "source": [
    "### (1) 고객 가치 지표"
   ]
  },
  {
   "cell_type": "markdown",
   "id": "055c8655-e440-4a00-8516-0abeba7988f4",
   "metadata": {},
   "source": [
    "한 명의 사용자가 수익적으로 얼마나 기여하는 지 알게할 수 있게 하는 지표"
   ]
  },
  {
   "cell_type": "markdown",
   "id": "12c92b9e-b4de-43b1-9b71-82af0e0bb211",
   "metadata": {},
   "source": [
    "#### a. 객단가 : Customer Transaction\n",
    "\n",
    "- `특정 기간동안` 한 명의 사용자가 평균적으로 발생시키는 매출\n",
    "\n",
    "- `사용자 1명당 평균 구매 금액`으로 볼 수 있음\n",
    "\n",
    "- ARPU, Average Revenue Per User\n",
    "    - 무료 사용자와 유료 결제 사용자를 포함한 전체 사용자 1명당 평균 매출\n",
    "    - 전체 매출/전체 사용자 수 (일정기간 동안!)\n",
    "\n",
    "    \n",
    "- ARPPU, Average Revenue Per Paying User\n",
    "    - 유료 사용자 1명당 평균 매출\n",
    "    - 전체 매출/유료 결제 사용자 수 (일정 기간 동안!)\n",
    " \n",
    "- ARPDAU, Average Revenue Per Daily Active User\n",
    "    - 일간 활성 사용자 1명이 평균적으로 발생시키는 하루 동안의 매출\n",
    "    - 일 매출/DAU(일일 활성 사용자 수)\n"
   ]
  },
  {
   "cell_type": "markdown",
   "id": "fc911e47-2768-4250-a306-60d5655f8212",
   "metadata": {},
   "source": [
    "#### b. LTR, LTV"
   ]
  },
  {
   "cell_type": "markdown",
   "id": "021d978c-6db9-49ea-9ccc-7f67bf18b9f3",
   "metadata": {},
   "source": [
    "`1` LTR(Lifetime Revenue) : 고객 생애 매출\n",
    "\n",
    "- 한 명의 고객이 제품이나 서비스를 이용하는 전체 생애 동안 비즈니스에서 발생시킬 것으로 예상되는 `기대 매출`\n",
    "\n",
    "- 모든 고객의 생애 누적 매출합/고객 수"
   ]
  },
  {
   "cell_type": "markdown",
   "id": "ac5d04d0-4f9b-4b85-b09f-80c964ed3289",
   "metadata": {},
   "source": [
    "`2` LTV(Lifetime Value) : 고객 생애 가치\n",
    "\n",
    "- 한 명의 고객이 제품이나 서비스를 이용하는 전체 생애 동안 비즈니스에 가져다줄 것으로 예상되는 `기대 가치(기대 순이익)`\n",
    "\n",
    "- 대표적인 공식 : 평균 구매 금액 $\\times$ 마진율 $\\times$ 구매 빈도(횟수) $\\times$ 고객 수명 - `(고객 획득 비용  + 고객 유지 비용)`\n",
    "    - 마진율 : (매출-매출원가)/매출 $\\times$ 100\n",
    "        - 매출액에서 제품이나 서비스를 제공하는 데 드는 직접 비용인 매출 원가를 뺀 순수한 수익의 비율"
   ]
  },
  {
   "cell_type": "markdown",
   "id": "1feafd7d-0b18-42a5-a8c6-9c16bb12bb1c",
   "metadata": {},
   "source": [
    "- CAC와 비교해서 LTV가 더 큰 경우를 유도할 수 있도록 마케팅 전략을 세울 수 있음\n",
    "    - 보통 LTV가 CAC 2.5배에서 3배 정도 높을 때 꽤 괜찮게 마케팅 비용을 지출하고 있다고 볼 수 있음"
   ]
  },
  {
   "cell_type": "markdown",
   "id": "2e06d2ae-2796-4d9c-bc60-54f315286e81",
   "metadata": {},
   "source": [
    "- 이처럼 마케팅 예산을 적절히 분배하여 사용하기 위한 기준이 되는 지표이다. $\\to$ Activition 단계에서도 자주 사용되는 지표임. "
   ]
  },
  {
   "cell_type": "markdown",
   "id": "f9055f0b-5034-45e3-83ca-ca0eb73d8590",
   "metadata": {},
   "source": [
    "$\\divideontimes$ LTR/LTV와 객단가의 차이는 객단가는 특정 기간, LTR/LTV는 고객 전체 생애 동안의 지표라고 보자\n",
    "\n",
    "- LTR과 LTV의 차이 : LTR은 기대 매출, LTV 는 순이익!"
   ]
  },
  {
   "cell_type": "markdown",
   "id": "a0077419-de70-4d51-9c2a-ba005895af75",
   "metadata": {},
   "source": [
    "---"
   ]
  },
  {
   "cell_type": "markdown",
   "id": "375e598b-5047-4a1b-af78-0fbb418e297e",
   "metadata": {},
   "source": [
    "## 05. Referral"
   ]
  },
  {
   "cell_type": "markdown",
   "id": "028c7502-f46c-466f-919d-dac1a3c7f181",
   "metadata": {},
   "source": [
    "기존 사용자의 추천을 통해 새로운 사용자가 유입되는 `추천` 단계"
   ]
  },
  {
   "cell_type": "markdown",
   "id": "5a62e403-830e-47ee-b5f6-710426718901",
   "metadata": {},
   "source": [
    "아래 지표를 대표적으로 들 수 있다."
   ]
  },
  {
   "cell_type": "markdown",
   "id": "c11618ca-cc58-49b6-a4de-3fdf82382184",
   "metadata": {},
   "source": [
    "### (1)  바이럴 주기와 규모를 측정하기 위한 지표\n",
    "\n",
    "- **바이럴 주기 시간(Viral Cycle Time)** : 기존 사용자가 친구를 초대(추천)하고 친구가 신규 사용자로 유입되기까지, 사이클을 한 번 도는 데 걸리는 시간\n",
    "\n",
    "- **바이럴 계수 (Viral Coefficient)** : 기존 사용자 1명당 만들어내는 신규 사용자의 수\n",
    "    - 바이럴 계수가 1.2 $\\to$ 사용자 1명당 만들어내는 신규 사용자의 수는 `1.2`다.\n",
    "    - ex 공식"
   ]
  },
  {
   "cell_type": "markdown",
   "id": "8ccf424f-a84e-4ef3-818c-19e09753dd11",
   "metadata": {},
   "source": [
    "$$\\text{기존 사용자 1명당 평균 친구 초대 수} \\times \\text{초대받은 친구의 초대 수락 비율}$$"
   ]
  },
  {
   "cell_type": "markdown",
   "id": "531f9403-d6b6-4955-b90f-6daf7eaf09c7",
   "metadata": {},
   "source": [
    "- 만약, 바이럴 계수가 1.2, 기존 사용자 수가 100명, 바이럴 주기 시간이 1달일 경우 3달 후의 사용자 수는 몇 명이 될까?\n",
    "    - 1달 후 : 100 + 100 x 1.2 = 220\n",
    "    - 2달 후 : 220 + 120 x 1.2 = 364\n",
    "    - 3달 후 : 364 + 144 x 1.2 = 537"
   ]
  },
  {
   "cell_type": "markdown",
   "id": "088ea990-12f8-4737-b461-e1a27d03ac89",
   "metadata": {},
   "source": [
    "<center><img src = 1.jpg width = 500></center>"
   ]
  },
  {
   "cell_type": "markdown",
   "id": "f83d6204-522b-4a77-a811-665f9b319c18",
   "metadata": {},
   "source": [
    "- 보통 바이럴 계수가 1이상일 때 유의미하다고 본다."
   ]
  },
  {
   "cell_type": "markdown",
   "id": "78a1750e-1c9b-4b84-aafe-1ff778300714",
   "metadata": {},
   "source": [
    "<center><img src = 2.jpg width = 500></center>"
   ]
  },
  {
   "cell_type": "markdown",
   "id": "f26a03ce-8c2d-4838-920c-2bfffb2e622c",
   "metadata": {},
   "source": [
    "  "
   ]
  },
  {
   "cell_type": "markdown",
   "id": "299a3151-a592-405f-b794-5f8fff5dc771",
   "metadata": {},
   "source": [
    "- 바이럴 계수가 위 그래프 처럼 1이상일 경우!\n",
    "    - `바이럴 주기 시간`을 단축 시키고, `친구 초대 수`와 `수락 비율`을 증가시켜 바이럴 계수를 높일 수 있도록 관리하면, 신규 사용자를 안정적으로 높일 수 있음($\\star\\star\\star$)"
   ]
  },
  {
   "cell_type": "markdown",
   "id": "744048d6-3bbd-45ea-82a2-571f0ce58f5c",
   "metadata": {},
   "source": [
    "### (2) 추천 가능성을 측정하기 위한 지표"
   ]
  },
  {
   "cell_type": "markdown",
   "id": "b5def3d1-acc4-4e52-b0bc-f68cda86dd23",
   "metadata": {},
   "source": [
    "`1` 순 추천 지수(NPS), Net Promoter Score\n",
    "\n",
    "- 고객 만족도나 충성도를 예측해 볼 수 있다.\n",
    "\n",
    "- 추천 그룹 비율 - 비추천 그룹 비율 = 9"
   ]
  },
  {
   "cell_type": "markdown",
   "id": "bf9ee8d7-cd1d-400e-b77b-f2923853b951",
   "metadata": {},
   "source": [
    "<center><img src = 3.jpg width = 500></center>"
   ]
  },
  {
   "cell_type": "markdown",
   "id": "61b83483-7c5d-46c7-9461-4499ca564f7b",
   "metadata": {},
   "source": [
    "- NPS점수는 이론상 `-100`에서 `+100`까지 나올 수 있다.\n",
    "\n",
    "- NPS 점수를 만든 `BAIN & COMPANY`에서는 다음과 같이 NPS 척도를 정했다.\n",
    "    - 보통 공유, 댓글, 태그, 리뷰 수를 바탕으로 추천 지수를 산출함"
   ]
  },
  {
   "cell_type": "markdown",
   "id": "99f10355-464d-4e0a-be00-42f0cfa1e220",
   "metadata": {},
   "source": [
    "<center><img src = 4.jpg width = 500></center>"
   ]
  },
  {
   "cell_type": "markdown",
   "id": "1a40bc87-40e0-4166-b8ac-0dbe794ea60f",
   "metadata": {},
   "source": [
    "- 그렇다면, 추천 이벤트를 할 경우 내가 분석할 Text 데이터가 많아 지므로 기업들의 성공한 추천 promotion을 찾아볼 필요가 있겠다($\\star\\star\\star$)"
   ]
  },
  {
   "cell_type": "markdown",
   "id": "edba076c-060e-4cac-9fb3-ced2daa60906",
   "metadata": {},
   "source": [
    "***"
   ]
  },
  {
   "cell_type": "markdown",
   "id": "1deb3fb2-1362-4e2a-95c5-975e7427a535",
   "metadata": {},
   "source": [
    "## 06. Cast Study. 유튜브 프리미엄"
   ]
  },
  {
   "cell_type": "markdown",
   "id": "bdc64f52-2272-4fae-a110-f5b995223cb6",
   "metadata": {},
   "source": [
    "### (1) Acquision"
   ]
  },
  {
   "cell_type": "markdown",
   "id": "d708bce8-7616-4901-a9a0-eb2550083e6f",
   "metadata": {},
   "source": [
    "`1` 대게 무료체험을 시작하면서 유입됨\n",
    "\n",
    "`2` 또는, SNS 추천 게시물이나, 지인 추천 등등\n",
    "\n",
    "`3` 보통 이 단계에서는 기간별로 얼마나 유입됐는지 확인하기 위해 `무료 체험을 사용하는 신규 사용자의 수`를 지표로 사용 가능\n",
    "\n",
    "`4` 또한, `CAC`(고객 획득비용)와 `CTR`(광고 클릭률)를 바탕으로 가장 효과적인 광고 매체 및 소재를 선택할 수 있음"
   ]
  },
  {
   "cell_type": "markdown",
   "id": "61617646-89a6-45ae-a79a-773b93b56c26",
   "metadata": {},
   "source": [
    "### (2) Activation"
   ]
  },
  {
   "cell_type": "markdown",
   "id": "abd3ff41-aee8-4534-8d8e-e3eeb3d50bd1",
   "metadata": {},
   "source": [
    "`1` 무료 체험으로 유입된 사용자들은 광고, 오프라인 저장 기능 등을 사용 \n",
    "\n",
    "`2` 이 과정에서 `편리함`이라는 핵심 가치를 느끼며 유료 사용자로 전환됨\n",
    "\n",
    "`3` `체류 시간`, `시청 시간` 지표를 이용해 해당 지표가 길어진다면? \n",
    "\n",
    "- 이전 보다 사용자가 많이 이용하고 만족도가 높아지고 있다고 예측할 수 있음\n",
    "\n",
    "`4` `유료 구독 전환율`을 통해 무료 체험 이벤트가 성공적이고, 현재 `프리미엄의 기능`들이 `유저 전환율`을 높였다고 볼 수 있음"
   ]
  },
  {
   "cell_type": "markdown",
   "id": "ea11f548-6e57-4b31-b519-fe679fcd1797",
   "metadata": {},
   "source": [
    "### (3) Retention"
   ]
  },
  {
   "cell_type": "markdown",
   "id": "ab3b5ab7-8d5f-4dab-92f9-18cc3f1f9d9b",
   "metadata": {},
   "source": [
    "`1` 일단 유튜브 프리미엄의 경우 별다른 경쟁 서비스가 없음\n",
    "\n",
    "`2` 그리고 핵심적인 편의 기능들을 제공하고 있다.\n",
    "\n",
    "`3` 기본적으로 제공하는 기능들이 대체 불가한 서비스라고 볼 수 잇음\n",
    "\n",
    "`4` 근데 가격을 갑자기 높게 책정하면, 사용자가 이탈이 일어날 수 잇음\n",
    "\n",
    "`5` 따라서, `구독 유지율/해지율` 지표를 통해 사용자가 잘 유지되면서 이익을 창출할 수 있는 `적정선`을 찾아가야함($\\star\\star\\star$)\n",
    "\n",
    "`6` 평균 구독 유지 기간 지표를 이용한다면?\n",
    "\n",
    "- 아래와 같은 경우 2개월 유지 고객을 위한 `특별 할인 프로모션`을 진행할 수 있음!"
   ]
  },
  {
   "cell_type": "markdown",
   "id": "489617df-d7db-42e6-bd12-e26689f77c1b",
   "metadata": {},
   "source": [
    "<center><img src = 5.jpg width = 500></center>"
   ]
  },
  {
   "cell_type": "markdown",
   "id": "00645a10-8f2f-40e4-9084-b6baf5b09790",
   "metadata": {},
   "source": [
    "### (4) Revenue"
   ]
  },
  {
   "cell_type": "markdown",
   "id": "1f6d3c58-92ad-41cb-8695-34d24e0db0ef",
   "metadata": {},
   "source": [
    "`1` 수익 규모, 수익률을 확인하는 것이 중요\n",
    "\n",
    "- 매출, MRR, ROI 등의 자표를 활용하여 반복적으로 추적 관리"
   ]
  },
  {
   "cell_type": "markdown",
   "id": "0319e276-9808-48bc-8963-27ec57445003",
   "metadata": {},
   "source": [
    "### (5) Referral"
   ]
  },
  {
   "cell_type": "markdown",
   "id": "a6064f7b-3688-4f08-a2db-64942ff99d2c",
   "metadata": {},
   "source": [
    "`1` 매력적인 이벤트를 진행"
   ]
  },
  {
   "cell_type": "markdown",
   "id": "e6b547dd-a0fd-4de5-8d0e-838dd42c36e6",
   "metadata": {},
   "source": [
    "<center><img src = 6.jpg width = 500></center>"
   ]
  },
  {
   "cell_type": "markdown",
   "id": "50ffed90-49f2-44b1-86ea-a6441e076210",
   "metadata": {},
   "source": [
    "`2` `바이럴 계수`를 통해 기존 사용자 1명이 신규 사용자를 몇 명을 `추천하여 유입`시키는지 파악할 수 있고\n",
    "\n",
    "`3` 바이럴 주기 시간을 통해 `추천받은 친구`가 `신규 사용자로 유입`되기까지 걸린 시간을 파악할 수 있다."
   ]
  }
 ],
 "metadata": {
  "kernelspec": {
   "display_name": "Python 3 (ipykernel)",
   "language": "python",
   "name": "python3"
  },
  "language_info": {
   "codemirror_mode": {
    "name": "ipython",
    "version": 3
   },
   "file_extension": ".py",
   "mimetype": "text/x-python",
   "name": "python",
   "nbconvert_exporter": "python",
   "pygments_lexer": "ipython3",
   "version": "3.11.7"
  }
 },
 "nbformat": 4,
 "nbformat_minor": 5
}
