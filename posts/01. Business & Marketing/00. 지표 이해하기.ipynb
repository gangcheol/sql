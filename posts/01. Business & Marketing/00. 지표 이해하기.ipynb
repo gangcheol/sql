{
 "cells": [
  {
   "cell_type": "raw",
   "id": "b5085b7a-b5b0-492b-81d4-180ce1609f09",
   "metadata": {},
   "source": [
    "---\n",
    "title : \"00. 지표 이해하기\"\n",
    "author : \"GC\"\n",
    "date : \"11/22/24\"\n",
    "---"
   ]
  },
  {
   "cell_type": "markdown",
   "id": "a725ce9e-84d9-46fd-b01a-671842d1fa29",
   "metadata": {},
   "source": [
    "# Intro"
   ]
  },
  {
   "cell_type": "markdown",
   "id": "b5ab8431-d8f5-4444-98d6-95dc4e1f46c5",
   "metadata": {},
   "source": [
    "`1` 지표 : 데이터를  측정하고 평가하기 위한 정량적인 측정 항목\n",
    "\n",
    "- 비즈니스와 프로덕트의 현재 상태를 알려줄 수 있는 항목\n",
    "\n",
    "- 데이터를 쉽고 명확하게 요약하여 전달할 수 있게 함\n",
    "\n",
    "- 구글이나 네이버에서도 다양한 직무에서 의사결정을 내리기 위해 지표를 사용함"
   ]
  },
  {
   "cell_type": "markdown",
   "id": "72215c22-596b-4429-b983-426cf858f68d",
   "metadata": {},
   "source": [
    "> ex\n",
    ">\n",
    "> `1` 사용자는 늘었지만 강의 탐색 화면으로 유입되는 비율은 줄었네?\n",
    "> - 강의 탐색 버튼 디자인을 눈에 잘 띄게 수정해 봐야겠다는 인사이트를 내릴 수 있음"
   ]
  },
  {
   "cell_type": "markdown",
   "id": "90d25c8f-f423-42c8-81b7-8abcf11c20ce",
   "metadata": {},
   "source": [
    "- 이번 강의에서는 보편적인 지표를 다룸 $\\to$ 비즈니스와 프로덕트에 맞는 지표를 설정하는 법을 배운다."
   ]
  },
  {
   "cell_type": "markdown",
   "id": "69568c12-5645-4350-a674-ccd91296825a",
   "metadata": {},
   "source": [
    "---"
   ]
  },
  {
   "cell_type": "markdown",
   "id": "d63c872c-4a4a-452c-a57f-49d3e5cf2367",
   "metadata": {},
   "source": [
    "# 01. 지표 관리를 위한 AARRR프레임워크"
   ]
  },
  {
   "cell_type": "markdown",
   "id": "ad45c738-bba4-44ea-9c6c-5d078064f294",
   "metadata": {},
   "source": [
    "## AARRR 프레임워크"
   ]
  },
  {
   "cell_type": "markdown",
   "id": "fbb53d7c-5d61-4d9b-a36f-00415b9770f6",
   "metadata": {},
   "source": [
    "::: {.panel-tabset}\n",
    "#### <span style = \"color : Blue\"> **0. Intro**</span>\n",
    "\n",
    "`1` AARRR 프레임임워크 : 대표적인 지표 관리 방법론\n",
    "\n",
    "- 미국 실리콘밸리 투자회사 `500스타트업`, `Dave McClure`가 개발한 데이터 분석 프레임워크이자 지표 관리 방법론\n",
    "\n",
    "-  사용자의 서비스 이용 흐름(User Flow)을 비즈니스 관점에서 5가지 단계로 명확하게 구분하여 성장하기 위해 단계별로 주목해야할 지표를 쉽게 정리하고 관리하기 위한 방법론\n",
    "\n",
    "- 각 단계들은 깔대기 모양(`Funnel`)의 구조를 가짐\n",
    "\n",
    "- 각 단계들의 앞글자를 따서 `AARRR` 이라고 한다.\n",
    "\n",
    "#### <span style = \"color : Blue\"> **1. ACQUISITION**</span>\n",
    "\n",
    "`1` 신규 사용자를 프로덕트로 유입시키는 단계\n",
    "\n",
    "- 종류 : 유료광고(유튜브 광고, 네이버 검색 광고), 무료광고(오가닉 마케팅)\n",
    "    - 오가닉 마케팅 : 유료 광고를 집행하지 않고 트래픽을 생성하는 마케팅을 의미\n",
    "        - 블로그 게시물, 페이스북 게시물 등등 \n",
    "\n",
    "`2` 적은 비용으로 가치 있는 사용자를 확보하는 것이 중요\n",
    "\n",
    "- 사용자 획득이 성공적으로 이루어지는가?, 유입 과정에서 장애물은 없는가? 꾸준히 체크를 해야함.\n",
    "\n",
    "#### <span style = \"color : Blue\"> **2. ACTIVATION**</span>\n",
    "\n",
    "`1` 프로적트 관점에서 유입된 사용자로 하여금 활성화 되도록 만드는 단계\n",
    "\n",
    "`2` 사용자가 활성화된다는 것은 다음과 같다.\n",
    "\n",
    "- 처음으로 프로덕트의 `핵심 가치`를 경험하거나, `프로덕트의 고객`으로 전환되는 것을 의미\n",
    "\n",
    "`3` 이때, 고객이 처음으로 프로덕트의 핵심 가치를 경험하는 순간을 `Aha-moment`라고 한다.\n",
    "\n",
    "`4` Aha-Moment는 고객이 프로덕트의 중요한 기능을 이해하고, 사용하는 과정에서 발생\n",
    "\n",
    "- `Aha-Moment`를 경험한 고객은 프로덕트의 가치를 높게 여기기 때문에 충성 고객으로 전환될 확률이 높음\n",
    "\n",
    "- 때문에 `ACTIVATION` 단계에서는 프로덕트만의 강력한 `Aha-Moment`를 찾고, 신규고객이 이를 빠르게, 그리고 많이 경험하게 하는 것이 중요하다.\n",
    "\n",
    "- 유료 서비스라면 특히, 구매를 하는 고객으로 사용자를 전환시키는 것이 중요!\n",
    "\n",
    "#### <span style = \"color : Blue\"> **3. RETENTION**</span>\n",
    "\n",
    "`1` 활성화된 사용자가 이탈하지 않고, 계속 프로덕트를 사용하도록 관리하는 단계\n",
    "\n",
    "`2` 흥미로운 콘텐츠, 대체 불가능한 기능, 유용한 정보(할인 쿠폰)를 통해 사용자가 계속 프로덕트를 사용하도록 유지\n",
    "\n",
    "`3` 사용자를 획득해도 이탈을 하면 의미가 없기 때문에 이 단계가 특히 중요하다($\\star\\star\\star$)\n",
    "\n",
    "`4` 하버드 비즈니스 리뷰\n",
    "\n",
    "- 기존 고객을 유지시켜 재사용을 유도하는 것이 신규사용자를 획득하는 것보다 `5~25배` 이상 저렴\n",
    "\n",
    "\n",
    "#### <span style = \"color : Blue\"> **4. REVENUE**</span>\n",
    "\n",
    "`1` 사용자의 활동이 매출로 이어지는지 확인하고, 수익을 관리하며 이윤 극대화를 위해 노력하는 단계\n",
    "\n",
    "`2` 따라서 지출 대비 수익을 확인해  수익화를 극대화할 수 있는 방안을 고민해야함.\n",
    "\n",
    "\n",
    "#### <span style = \"color : Blue\"> **5. REFERRAL**</span>\n",
    "\n",
    "`1` 기존 사용자의 추천을 통해 새로운 사용자의 유입이 이루어질 수 있도록 하는 단계\n",
    "\n",
    "`2` 지인을 대상으로 하는 추천이 잘 이루어지고 있는지, 고객이 자발적으로 참여할 수 있는 방안을 마련해야함.\n",
    "\n",
    "`3` 단기적인 방법 : SNS 공유 시 할인 쿠폰 증정\n",
    "\n",
    "`4` 장기적인 방법 : 사용자들에게 긍정적인 경험을 끊임없이 제공해서 사용자가 다른 사용자에게 추천하고자 하는 욕구를 가지게 만드는 법\n",
    "\n",
    "- 나아가 추천/공유 시스템을 구축하여 선순환 구조를 만드는 것이 중요\n",
    "\n",
    "- 드롭박스는 친구 추천 시 데이터 저장 공간을 제공\n",
    "\n",
    "- 토스는 친구 추천 시 송금 지원금을 제공하여 신규 사용자를 확보함\n",
    "\n",
    "#### <span style = \"color : Blue\"> **6. EXTRA**</span>\n",
    "\n",
    "`1` 프로덕트마다 사용자들의 흐름이 다르다.\n",
    "\n",
    "`2` 모든 사용자들이 AARRR 순서대로 서비스를 이용하는 것은 아님\n",
    "\n",
    "- 코드잇 : 광고를 통해 유입된 사용자가 바로 추천 단계를 거치는 경우\n",
    "\n",
    "- 따라서 퍼널에서 고정된 순서에 얽매이지 않고, 현재 가장 집중해서 계산해야할 단계를 정하고, 그 단계에서 사용할 수 있는 지표들을 찾아 적절하게 사용하면 그것으로 충분하다.\n",
    "\n",
    "- ex1. 상품 개발 후, 사용자 유입이 시급하다면?\n",
    "    - `ACQUISITION`의 핵심 지표에 집중\n",
    "        - 신규 사용자 수(NU), 광고 클릭률(CTR)\n",
    "\n",
    "- ex2. 반면 사용자 유입은 충분한데 활성화와 유지가 안된다면?\n",
    "    - `Activation`과 `Retention`에 집중하여 관련 지표들을 개선\n",
    "        - 체류 시간(Duration Time)\n",
    "        - 페이지 이탈률(Nounce Rate)\n",
    "        - 유지율(Retention Rate)\n",
    "        - 이탈률(Churn Rate)\n",
    "\n",
    "- 즉, 상황에 맞게 지표를 자유자재로 활용할 수 있도록 프레임워크와 지표를 잘 이해하는 것이 중요하다($\\star\\star\\star$)\n",
    "\n",
    ":::"
   ]
  },
  {
   "cell_type": "markdown",
   "id": "f04cf916-ca7f-41a7-a6ce-72e405725227",
   "metadata": {},
   "source": [
    "---"
   ]
  },
  {
   "cell_type": "markdown",
   "id": "b70eed60-cdcb-45ec-b6ac-d4543ff3c2a5",
   "metadata": {},
   "source": [
    "## Extra1. 주의!"
   ]
  },
  {
   "cell_type": "markdown",
   "id": "00a269b0-7e1a-4493-ae62-4d3d28ce50ac",
   "metadata": {},
   "source": [
    "`1` 동일한 지표라도 필요에 따라 계산식을 얼마든지 수정할 수 있다.\n",
    "\n",
    "`2` 전환율(Conversion Rate)이 가장 대표적인 주의할 지표\n",
    "\n",
    "- 일반적으로 알려진 정의\n",
    "\n",
    "$$\\text{Conversion Rate} = \\frac{\\text{전환이 발생한 수}}{\\text{전체 수}}\\times 100$$\n",
    "\n",
    "\n",
    "- 근데 이것만으로는 지표의 측정값을 구하기가 애매함\n",
    "\n",
    "- 전환율을 구성하는 요소들에 대한 구체적인 정의가 필요\n",
    "\n",
    "- 즉, 사용자의 어떤 행위를 전환으로 볼지 정의해야함"
   ]
  },
  {
   "cell_type": "markdown",
   "id": "fa6002e5-e249-499d-9e88-bfc06bb1fe51",
   "metadata": {},
   "source": [
    "### ex1. 프로덕트 A"
   ]
  },
  {
   "cell_type": "markdown",
   "id": "9c920fcb-a12f-4945-8f96-a21ffe420f63",
   "metadata": {},
   "source": [
    "- 프로덕트 A : 결제를 완료했을 때 전환이 발생했다고 정의\n",
    "\n",
    "$$\\text{Conversion Rate} = \\frac{\\text{결제 완료가 발생한 수}}{\\text{전체 수}}\\times 100$$"
   ]
  },
  {
   "cell_type": "markdown",
   "id": "9194048e-a968-48e9-84ee-3f34eea5e4d4",
   "metadata": {},
   "source": [
    "`-` 전체 수에 대한 정의도 가지 각색이다.\n",
    "\n",
    "1. 전체 방문 사용자 수 기준\n",
    "\n",
    "$$\\text{Conversion Rate} = \\frac{\\text{결제 완료가 발생한 수}}{\\text{사이트에 방문한 전체 사용자 수}}\\times 100$$\n",
    "\n",
    "2. 전체 페이지 조회 수 기준\n",
    "\n",
    "$$\\text{Conversion Rate} = \\frac{\\text{결제 완료가 발생한 수}}{\\text{전체 페이지 조회 수}}\\times 100$$\n"
   ]
  },
  {
   "cell_type": "markdown",
   "id": "5f819bc5-6f05-4c5f-8b0c-46578628279e",
   "metadata": {},
   "source": [
    "`-` 또한, 측정 기간에 따라서도 달라진다."
   ]
  },
  {
   "cell_type": "markdown",
   "id": "5cd3116b-83c5-4bc2-a31f-d4d3a88c93b4",
   "metadata": {},
   "source": [
    "1. 이번달 기준\n",
    "\n",
    "$$\\text{Conversion Rate} = \\frac{\\text{이번달 결제 완료가 발생한 수}}{\\text{이번달에 방문한 전체 사용자 수}}\\times 100$$\n",
    "\n",
    "2. 1분기 기준\n",
    "\n",
    "$$\\text{Conversion Rate} = \\frac{\\text{1분기에 결제 완료가 발생한 수}}{\\text{1분기에 전체 페이지 조회 수}}\\times 100$$"
   ]
  },
  {
   "cell_type": "markdown",
   "id": "5ce89c49-cf3f-41ea-a188-653eb918795b",
   "metadata": {},
   "source": [
    "`-` Extra"
   ]
  },
  {
   "cell_type": "markdown",
   "id": "b064d4cf-255f-4af7-8980-42ea3a7aa50a",
   "metadata": {},
   "source": [
    "- 프로덕트 B : 장바구니에 상품을 담았을 때 전환이 발생했다고 정의\n",
    "\n",
    "$$\\text{Conversion Rate} = \\frac{\\text{장바구니 담기가 발생한 수}}{\\text{전체 수}}\\times 100$$\n",
    " \n",
    "- 프로덕트 C : 온라인 폼을 제출했을 때 전환이 발생했다고 정의\n",
    "$$\\text{Conversion Rate} = \\frac{\\text{온라인 폼 제출이 발생한 수}}{\\text{전체 수}}\\times 100$$"
   ]
  },
  {
   "cell_type": "markdown",
   "id": "ddc9d1b0-cd27-4597-bcdc-29997b8a0549",
   "metadata": {},
   "source": [
    "### Summary1"
   ]
  },
  {
   "cell_type": "markdown",
   "id": "c98c15c6-c9ff-4001-95bb-7e00f66b66ef",
   "metadata": {},
   "source": [
    "`1` 이처럼 전환율이라는 하나의 지표에 대해서도 세부적인 요소들을 어떻게 정의하느냐에 따라 서로 다른 지표값이 산출된다.\n",
    "\n",
    "`2` 또한, 이로부터 인사이트가 달라짐\n",
    "\n",
    "`3` 비즈니스 목적에 맞게 측정하고 싶은 것이 무엇인지 정하고, 지표를 구성하는 세부적인 요소들을 구체적으로 정의하는 것이 중요\n",
    "\n",
    "`4` <span style = \"color : Blue\">**즉, 지표의 계산식은 고정된 게 아니라 유연하게 변동될 수 있음을 기억하자($\\star\\star\\star$)**</span>"
   ]
  },
  {
   "cell_type": "markdown",
   "id": "60da59cb-cd8b-4ff5-a3dd-bb113b5c09a8",
   "metadata": {},
   "source": [
    "***"
   ]
  },
  {
   "cell_type": "markdown",
   "id": "28a7addb-88ee-4209-86aa-7636e6567834",
   "metadata": {},
   "source": [
    "## 01. Acquisition : 획득 지표"
   ]
  },
  {
   "cell_type": "markdown",
   "id": "ff5317c4-abc0-4333-8cdf-3c1e6c447c1d",
   "metadata": {},
   "source": [
    "`1` 잠재 고객이 프로덕트의 신규 사용자로 유입되는 `획득`단계\n",
    "\n",
    "- 많이 효율적으로 획득하는 게 중요\n",
    "\n",
    "### 지표 1. 획득의 규모"
   ]
  },
  {
   "cell_type": "markdown",
   "id": "7cf0fb99-2fc2-48fd-ab10-aa33c07bdb84",
   "metadata": {},
   "source": [
    "`1` 신규 사용자 수(New User)\n",
    "\n",
    "`2` 회원 가입 수(Sign Up)\n",
    "\n",
    "`3` 앱 다운로드 수(App Installs)\n",
    "\n",
    "> ex1. 세일즈를 통해 수익을 창출하는 회사\n",
    "> - 고객 정보를 얻어야 세일즈를 시작할 수 있음\n",
    "> - 이런 회사는 잠재 고객들을 리드(Lead)라고 부름\n",
    "> - 이런 리드의 수가 많을 수록 고객 확보 가능성이 높아지기 때문에 `리드 수`역시 지표로 사용됨"
   ]
  },
  {
   "cell_type": "markdown",
   "id": "b9e463f1-4eb3-4838-ad28-fe640e437d52",
   "metadata": {},
   "source": [
    "### 지표 2. 획득의 효율(CAC)"
   ]
  },
  {
   "cell_type": "markdown",
   "id": "6037e1fb-628a-44dd-92e7-71ad9d2b9169",
   "metadata": {},
   "source": [
    "`1` 고객획득비용(CAC) : Customer  Acquisition Cost\n",
    "\n",
    "- 신규 고객 1명을 유치하기 위해 필요한 비용\n",
    "\n",
    "$$\\text{CAC}=\\frac{\\text{고객 획득을 위해 투입한 금액}}{\\text{획득한 고객 수}}$$\n",
    "\n",
    "-  주의 : CAC는 프로덕트로 유입된 모든 사용자가 아니다.\n",
    "    - 각각의 프로덕트가 미리 정해둔 기준을 충족한 사용자인 고객을 획득하는 데 들어간 비용을 의미한다.\n",
    "    - 따라서 계산하기 앞서 우리 프로덕트에서 `고객의 기준`이 무엇인지 정해야한다."
   ]
  },
  {
   "cell_type": "markdown",
   "id": "abed8a7a-af57-4fd0-a9a5-5da337b02874",
   "metadata": {},
   "source": [
    "####  ex1. 쇼핑 서비스의 경우"
   ]
  },
  {
   "cell_type": "markdown",
   "id": "0ac1c263-d40b-4861-969c-3deefc112257",
   "metadata": {},
   "source": [
    "||회원 가입을 완료한 사용자|2개 이상의 상품을 장바구니에 담은 사용자|\n",
    "|---|:---:|:---:|\n",
    "|투입한 금액|5,000만원|5,000만원|\n",
    "|획득한 고객 수|1,000명|500명|\n",
    "|CAC|5만원|10만원|\n",
    "\n"
   ]
  },
  {
   "cell_type": "markdown",
   "id": "591368fb-a66b-42e8-9119-6de079b70251",
   "metadata": {},
   "source": [
    "#### ex2. 블랜디드  CAC"
   ]
  },
  {
   "cell_type": "markdown",
   "id": "41beeb4f-dc72-4952-8389-34d09d6da192",
   "metadata": {},
   "source": [
    "$$\\text{블랜디드 CAC}=\\frac{\\text{고객 획득을 위해 투입한 금액}}{\\text{획득한 고객 수}}$$"
   ]
  },
  {
   "cell_type": "markdown",
   "id": "5a88bf85-9e62-4d96-952a-021a0f88f4c4",
   "metadata": {},
   "source": [
    "- 유료 광고 비용, 영업 비용, 서비스 사용 비용 등을 포함"
   ]
  },
  {
   "cell_type": "markdown",
   "id": "000f12bc-9d52-4360-a97e-9fc849d1bff9",
   "metadata": {},
   "source": [
    "#### ex3. 매체별 CAC"
   ]
  },
  {
   "cell_type": "markdown",
   "id": "bd6889fc-6225-4228-b7c8-1c8d3908f0de",
   "metadata": {},
   "source": [
    "$$\\text{매채별 CAC}=\\frac{\\text{특정 광고 매체에서 고객 획득을 위해 투입한 금액}}{\\text{획득한 고객 수}}$$"
   ]
  },
  {
   "cell_type": "markdown",
   "id": "54ab91a3-2c41-4066-8d2e-dff867888e8a",
   "metadata": {},
   "source": [
    "`1` 실무에서는 매체별 CAC를 보는 경우가 많음\n",
    "\n",
    "`2` 낮은 투자 비용으로 많은 고객을 확보하는 것이 중요하기 때문\n",
    "\n",
    "`3` 또한, 더 많은 인사이트를 얻기 위해 다음과 같이 데이터를 쪼개보기도 함\n",
    "\n",
    "- 매체별 CAC\n",
    "- 광고별 CAC\n",
    "- 날짜별 CAC\n",
    "- 고객 유형별 CAC 등등....\n",
    "\n",
    "`4` 오해... CAC가 저렴할수록 광고 성과가 좋다...?? (x)\n",
    "\n",
    "- 오히려 저품질의 고객이 유입될 수 있음\n",
    "- 때로는 중간 정도의 CAC로 고품질의 고객을 얻는 것이 장기적으로 보았을 때 장기적으로 유리할 수 있음\n",
    "\n",
    "- <span style = \"color : Blue\"> **따라서, 상품과 비즈니스의 전체적인 상황을 잘 살펴서 적절한 CAC를 얻기위해 노력해야한다.($\\star\\star\\star$)**</span>"
   ]
  },
  {
   "cell_type": "markdown",
   "id": "d0d4552d-07d7-4e02-8790-7ec054602bfc",
   "metadata": {},
   "source": [
    "---"
   ]
  },
  {
   "cell_type": "markdown",
   "id": "5d08abd7-a342-4208-8a49-7d86dd17f5b6",
   "metadata": {},
   "source": [
    "## 02. Acquisition : 광고 지표"
   ]
  },
  {
   "cell_type": "markdown",
   "id": "5a37b2a0-eafb-47de-9f4d-1207fef923dc",
   "metadata": {},
   "source": [
    "`1` 광고를 진행하고 결과를 확인하기 위한 지표"
   ]
  },
  {
   "cell_type": "markdown",
   "id": "76e89723-37fb-4147-b4ee-c5f1ebd900c6",
   "metadata": {},
   "source": [
    "### (a) 광고 성과 지표"
   ]
  },
  {
   "cell_type": "markdown",
   "id": "9d801d0f-f3c0-4e49-b039-bf589848db1b",
   "metadata": {},
   "source": [
    "`1` 광고 클릭률(CTR) : Click-Through Rate\n",
    "\n",
    "- 사용자가 광고에 노출되었을 때, 광고를 클릭한 사용자의 비율"
   ]
  },
  {
   "cell_type": "markdown",
   "id": "132889c9-756a-4a8c-9573-add8e3de6e4c",
   "metadata": {},
   "source": [
    "$$\\text{CTR}=\\frac{\\text{광고 클릭 수}}{\\text{광고 노출 수}}\\times 100 $$"
   ]
  },
  {
   "cell_type": "markdown",
   "id": "de8bab69-86fd-40aa-9482-51a70331afcd",
   "metadata": {},
   "source": [
    "`2` 광고 조회율(VTR) : View-Through Rate\n",
    "\n",
    "- 영상 광고에 노출된 사용자 중, 영상을 조회한 비율"
   ]
  },
  {
   "cell_type": "markdown",
   "id": "c9e83b17-0720-4c37-8b8c-c3a0b1e2870c",
   "metadata": {},
   "source": [
    "$$\\text{VTR}=\\frac{\\text{영상 조회 수}}{\\text{영상 광고 노출 수}}\\times 100 $$"
   ]
  },
  {
   "cell_type": "markdown",
   "id": "28fb075d-240d-49c4-a90a-ea200cb80286",
   "metadata": {},
   "source": [
    "`3` 광고 전환율(CVR) : Conversion Rate\n",
    "\n",
    "- 광고를 클릭하여 유입된 사용자 중, 주요한 전환 행동을 한 사용자의 비율"
   ]
  },
  {
   "cell_type": "markdown",
   "id": "0dd70772-e817-46a8-bc69-dbd4149e731d",
   "metadata": {},
   "source": [
    "$$\\text{CVR}=\\frac{\\text{전환 수}}{\\text{광고 클릭 수}}\\times 100 $$"
   ]
  },
  {
   "cell_type": "markdown",
   "id": "a608b0a5-34ed-4025-a8ec-deaa32a06ac6",
   "metadata": {},
   "source": [
    "- 광고 전환율이 높을 수록, 광고의 성과가 좋다고 볼 수 있다.\n",
    "\n",
    "- CVR은 CTR을 보완해줄 수 있는 지표이다.\n",
    "    - CTR은 광고 노출부터 클릭 수 까지\n",
    "    - CVR은 광고 클릭부터 전환 수 까지의 여정을 나타내는 지표이기 때문"
   ]
  },
  {
   "cell_type": "markdown",
   "id": "11aa68ae-e815-407a-b8ce-f955e199573b",
   "metadata": {},
   "source": [
    "> ex1. 만약 CTR은 높은데 CVR이 낮다면?\n",
    "> \n",
    "> - 매력적인 광고로 클릭까진 유도했지만, 전환까지는 하지 못해 광고전략이 미흡하다고 볼 수 있음\n",
    "> - 해결책 1 : 전환율이 높은 대상을 타겟팅\n",
    "> - 해결책 2 : 광고 클릭 시 유입되는 렌딩 페이지를 더 매력적으로 구성하는 등 광고전략의 변화를 시도"
   ]
  },
  {
   "cell_type": "markdown",
   "id": "c9b30ac3-5966-4b29-942c-ef1db938454e",
   "metadata": {},
   "source": [
    "> ex2.  반대로 CVR은 높은데 CTR이 낮다면?\n",
    ">\n",
    "> - 사용자의 클릭을 유도하는 데는 미흡하다고 볼 수 있음.\n",
    "> - 해결책 1 : 매력적인 광고 소재 마련"
   ]
  },
  {
   "cell_type": "markdown",
   "id": "ad9d61ac-c724-4dd2-9f4a-f76aa042da9d",
   "metadata": {},
   "source": [
    "***"
   ]
  },
  {
   "cell_type": "markdown",
   "id": "c189a972-b7ab-42b6-9a11-3a4f7b41f258",
   "metadata": {},
   "source": [
    "### (b) 광고 비용 지표"
   ]
  },
  {
   "cell_type": "markdown",
   "id": "60636b21-ff30-4656-9f61-a8d3f6bc5b65",
   "metadata": {},
   "source": [
    "`1` CPM : Cost-Per-Mile\n",
    "\n",
    "- 광고 1,000번 노출당 비용"
   ]
  },
  {
   "cell_type": "markdown",
   "id": "15ef8b31-d583-43fa-8565-97643d001a85",
   "metadata": {},
   "source": [
    "$$\\text{CPM}=\\frac{\\text{총 광고 비용}}{\\text{광고 노출 수}}\\times 1000 $$"
   ]
  },
  {
   "cell_type": "markdown",
   "id": "bcda9a8f-370c-401a-92dc-ae9c0854b782",
   "metadata": {},
   "source": [
    "- CPM이 저렴할 수록 광고 노출 측면에서의 효율이 좋다고 볼 수 있음"
   ]
  },
  {
   "cell_type": "markdown",
   "id": "87776e0a-ba39-406f-95bc-d1873cc50fbf",
   "metadata": {},
   "source": [
    "`2` CPC : Cost-Per-Click\n",
    "\n",
    "- 광고 클릭당 비용"
   ]
  },
  {
   "cell_type": "markdown",
   "id": "c8e77402-c8ab-4c87-ae04-1610cfdc78d5",
   "metadata": {},
   "source": [
    "$$\\text{CPC}=\\frac{\\text{총 광고 비용}}{\\text{광고 클릭 수}} $$"
   ]
  },
  {
   "cell_type": "markdown",
   "id": "2cfbc72c-594b-4bdf-8b71-f2840b932e73",
   "metadata": {},
   "source": [
    "`3` CPV : Cost-Per-View\n",
    "\n",
    "- 영상 광고 조회당 비용\n"
   ]
  },
  {
   "cell_type": "markdown",
   "id": "f285814f-27ed-4b31-839a-4abfa6b59386",
   "metadata": {},
   "source": [
    "$$\\text{CPV}=\\frac{\\text{영상 광고 조회당 비용}}{\\text{광고 조회 수}}$$"
   ]
  },
  {
   "cell_type": "markdown",
   "id": "804a23bf-4ead-40e4-b18f-336aa78b264e",
   "metadata": {},
   "source": [
    "`4` CPA : Cost-Per-Action\n",
    "\n",
    "- 특정 액션(회원가입, 상품 구매 등)당 비용"
   ]
  },
  {
   "cell_type": "markdown",
   "id": "9f077041-4c5d-439a-936b-979927a06ada",
   "metadata": {},
   "source": [
    "$$\\text{CPA}=\\frac{\\text{총 광고 비용}}{\\text{특정 액션이 발생한 수}}$$"
   ]
  },
  {
   "cell_type": "markdown",
   "id": "9fe20db6-765e-49c7-af65-6117a23700d6",
   "metadata": {},
   "source": [
    "`5` CPI : Cost-Per-Install\n",
    "\n",
    "- 앱 설치당 비용"
   ]
  },
  {
   "cell_type": "markdown",
   "id": "816d158c-c8e4-4197-9845-e6cdaa050973",
   "metadata": {},
   "source": [
    "$$\\text{CPI}=\\frac{\\text{총 광고 비용}}{\\text{앱 설치 수}} $$"
   ]
  },
  {
   "cell_type": "markdown",
   "id": "80901732-3812-478b-a3e5-0e3828297f47",
   "metadata": {},
   "source": [
    "## ex1. 틱톡, 인스타, 유튜브"
   ]
  },
  {
   "cell_type": "markdown",
   "id": "c6514bba-9b38-461c-8760-0ff5e3243b8b",
   "metadata": {},
   "source": [
    "`1` 생각1. CPC만 보면 틱톡이 가장 저렴해서 틱톡의 효율이 가장 좋아보임"
   ]
  },
  {
   "cell_type": "markdown",
   "id": "b2a1bd59-3f83-4f49-9f9a-df56a72b7ad5",
   "metadata": {},
   "source": [
    "|광고 매체|지출한 광고비|CPC|\n",
    "|---|:---:|:---:|\n",
    "|Tictok|1,000만원|60원|\n",
    "|Instagram|1,000만원|200원|\n",
    "|Youtube|1,000만원|650원|\n",
    "\n"
   ]
  },
  {
   "cell_type": "markdown",
   "id": "9f2fa292-58ab-43b4-8711-a139503ffe61",
   "metadata": {},
   "source": [
    "`2` 추가 정보! $\\to$ 실제로 획득한 고객 수"
   ]
  },
  {
   "cell_type": "markdown",
   "id": "fd348760-ab42-408d-b9de-34a3db25b25c",
   "metadata": {},
   "source": [
    "|광고 매체|지출한 광고비|CPC|획득한 고객 수|\n",
    "|---|:---:|:---:|:---:|\n",
    "|Tictok|1,000만원|60원|10,000명|\n",
    "|Instagram|1,000만원|200원|20,000명|\n",
    "|Youtube|1,000만원|650원|1,000명|\n",
    "\n"
   ]
  },
  {
   "cell_type": "markdown",
   "id": "fb93d543-6ab5-4349-bc1f-8352621a2553",
   "metadata": {},
   "source": [
    "`3` 앞선 CAC 공식을 적용하여 계산해보자."
   ]
  },
  {
   "cell_type": "markdown",
   "id": "7a6fccaa-2432-4481-b046-0169795efe5d",
   "metadata": {},
   "source": [
    "$$\\text{CAC}=\\frac{\\text{고객 획득을 위해 투입한 금액}}{\\text{획득한 고객 수}}$$"
   ]
  },
  {
   "cell_type": "markdown",
   "id": "89235c73-a3b5-4ab4-b28d-49f922e08caf",
   "metadata": {},
   "source": [
    "|광고 매체|지출한 광고비|CPC|획득한 고객 수|CAC|\n",
    "|---|:---:|:---:|:---:|:---:|\n",
    "|Tictok|1,000만원|60원|10,000명|1,000원|\n",
    "|Instagram|1,000만원|200원|20,000명|500원|\n",
    "|Youtube|1,000만원|650원|1,000명|10,000원|\n",
    "\n"
   ]
  },
  {
   "cell_type": "markdown",
   "id": "5370b35f-d4a6-48e4-a322-54d2daea7275",
   "metadata": {},
   "source": [
    "- 어? 이번에는 인스타그램의 고객 획득 비용이 가장 저렴해보인다.\n",
    "    - 실제 고객의 획득 측면에서는 인스타그램의 효율이 가장 좋다고 판단할 수 있음\n",
    "    - 만약, 최대한 고객을 유입하는 게 목적이라면 인스타그램의 가장 많은 광고비를 투입하는게 합리적임\n",
    "    - 유튜브는 사용을 중지하겠지?"
   ]
  },
  {
   "cell_type": "markdown",
   "id": "f2880471-2d98-44bc-9668-071e6a6e2a77",
   "metadata": {},
   "source": [
    "### Summary"
   ]
  },
  {
   "cell_type": "markdown",
   "id": "b3f115c3-da00-4ede-a372-e268f5ea7949",
   "metadata": {},
   "source": [
    "`1` 고객 유입 단계에서 더 효율적인 매체를 찾아 예산을 효과적으로 사용할 수 있음"
   ]
  }
 ],
 "metadata": {
  "kernelspec": {
   "display_name": "Python 3 (ipykernel)",
   "language": "python",
   "name": "python3"
  },
  "language_info": {
   "codemirror_mode": {
    "name": "ipython",
    "version": 3
   },
   "file_extension": ".py",
   "mimetype": "text/x-python",
   "name": "python",
   "nbconvert_exporter": "python",
   "pygments_lexer": "ipython3",
   "version": "3.12.2"
  }
 },
 "nbformat": 4,
 "nbformat_minor": 5
}
