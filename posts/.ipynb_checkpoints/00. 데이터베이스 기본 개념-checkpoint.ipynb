{
 "cells": [
  {
   "cell_type": "raw",
   "id": "16a9a2a4-6e9d-45f3-8e59-af9276a77c27",
   "metadata": {},
   "source": [
    "---\n",
    "title : \"00. 데이터베이스 기본 개념\"\n",
    "author : \"GC\"\n",
    "date : \"08/22/24\"\n",
    "comment : true\n",
    "---"
   ]
  },
  {
   "cell_type": "markdown",
   "id": "8e80ae79-7c75-4322-a73e-dd5b7701c2b2",
   "metadata": {},
   "source": [
    "# 1. 기본 용어"
   ]
  },
  {
   "cell_type": "markdown",
   "id": "97f995c3-6411-48c5-8be9-128702511bc7",
   "metadata": {},
   "source": [
    "`1` 데이터베이스 : 일정한 체계 속에 저장된 데이터의 집합\n",
    "\n",
    "- 데이터는 보통 `Table`(표)단위로 저장된다.\n",
    "- 하나의 데이터베이스 안에는 여러 테이블이 저장되어있다.\n",
    "- 또한, 데이터베이스를 여러 개를 만든다면, 대용량 데이터를 체계적으로 관리할 수 있다."
   ]
  },
  {
   "cell_type": "markdown",
   "id": "f2f3fe01-e657-4a12-adf7-baa737df6eff",
   "metadata": {},
   "source": [
    "`2` DBMS : 데이터베이스 관리 시스템\n",
    "\n",
    "* DB를 관리하기 위해 사용하는 프로그램\n",
    "\n",
    "* oracle, mysql등 다양한 DBMS가 존재함.\n",
    "\n",
    "`3` SQL : DBMS에 명령을 내리기 위해 사용하는 언어"
   ]
  },
  {
   "cell_type": "markdown",
   "id": "6a097e24-602f-4d7e-a299-1856f08f2a6c",
   "metadata": {},
   "source": [
    "# 2. MySQL 설치(Windows)"
   ]
  },
  {
   "cell_type": "markdown",
   "id": "d95353a0-48b4-4fee-bc0c-1d7f1f2a4da5",
   "metadata": {},
   "source": [
    "`1` [설치사이트](https://dev.mysql.com/downloads/windows/installer/)에서 최신 버전 다운 가능\n",
    "\n",
    "`2` 그러나 본 강의에서는 8.0.37을 사용$\\to$ [강의 때 쓸 버전](https://downloads.mysql.com/archives/installer/)\n",
    "\n",
    "`3`  Custom 을 선택하고, Next 버튼 클릭\n",
    "\n",
    "<center><img src = \"1.png\" width = 400></center>"
   ]
  },
  {
   "cell_type": "markdown",
   "id": "e50d8869-3665-411a-a934-e773a59c0764",
   "metadata": {},
   "source": [
    "`4` MySQL Server, MySQL Workbench, MySQL Shell을 하나씩 클릭하면서 오른쪽 화살표 버튼을 클릭하여 다음과 같이 설치할 Product로 이동\n",
    "\n",
    "<center><img src = \"2.png\" width = 400></center>"
   ]
  },
  {
   "cell_type": "markdown",
   "id": "4229e3ed-cd37-4b3d-83f7-cf21d08aa229",
   "metadata": {},
   "source": [
    "`5` Execute 버튼 클릭\n",
    "\n",
    "`6` 그 후 부터는 그냥 쭉쭉 하면됨. 그러다 마지막에 체크 저렇게 한 개만 하기\n",
    "\n",
    "<center><img src = \"3.png\" width = 400></center>"
   ]
  },
  {
   "cell_type": "markdown",
   "id": "6b22b872-ade2-415a-b75e-39e73b3dfb2e",
   "metadata": {},
   "source": [
    "***"
   ]
  },
  {
   "cell_type": "markdown",
   "id": "814313c4-e3cc-409d-8528-a55b1e7bea81",
   "metadata": {},
   "source": [
    "# 3. MySQL 서버 접속(windows)"
   ]
  },
  {
   "cell_type": "markdown",
   "id": "0f3f1008-8996-4517-952c-2ffa7a0f0184",
   "metadata": {},
   "source": [
    "`1` + 버튼 클릭"
   ]
  },
  {
   "cell_type": "markdown",
   "id": "f2813e80-7575-4255-917e-4eef72f9edf5",
   "metadata": {},
   "source": [
    "<center><img src = \"4.png\" width = 400></center>"
   ]
  },
  {
   "cell_type": "markdown",
   "id": "9a130632-7c4c-458a-9df4-add5251451b9",
   "metadata": {},
   "source": [
    "`2` 접속이름 설정\n",
    "\n",
    "* root 사용자로 접속\n",
    "\n",
    "* MySQL 서버가 있는 위치는 127.0.0.1(내 컴퓨터를 의미), MySQL 서버는 내 컴퓨터의 3306번 포트를 사용한다는 뜻"
   ]
  },
  {
   "cell_type": "markdown",
   "id": "58bad6b5-a521-4529-9ff5-4c03eef15ec1",
   "metadata": {},
   "source": [
    "<center><img src = \"5.png\" width = 500></center>"
   ]
  },
  {
   "cell_type": "markdown",
   "id": "10e5ba2c-fd68-48c5-b786-6cd8c3f4eee2",
   "metadata": {},
   "source": [
    "`3` 접속 후 `Server Status` 클릭\n",
    "\n",
    "* 아래와 같은 오류가 발생할 경우 다음과 같이 해결\n",
    "\n",
    "<center><img src = \"6.png\" width = 200></center>"
   ]
  },
  {
   "cell_type": "markdown",
   "id": "19a8db9b-103f-4734-9e7a-8c406864f1c4",
   "metadata": {},
   "source": [
    "1. `Win + R`을 눌러 `services.msc` 입력\n",
    "\n",
    "2. 그후, `MySQL 80`을 찾아 우클릭 후 시작 $\\to$ 그래도 오류가 발생..\n",
    "\n",
    "3. `Win + R`을 눌러 ` control intl.cpl,,3` 입력\n",
    "\n",
    "4. `관리자 옵션` 탭에서 `시스템 로캘 변경` 클릭\n",
    "\n",
    "5. Beta: 세계 언어 지원을 위해 Unicode UTF-8 사용 항목을 체크 후 '확인' 버튼을 클릭"
   ]
  },
  {
   "cell_type": "markdown",
   "id": "e8dfca67-2e33-4dcb-8ad7-35c1e86b7e6f",
   "metadata": {},
   "source": [
    "`4` 재부팅 후.... 오 이제 잘 된다..."
   ]
  },
  {
   "cell_type": "markdown",
   "id": "1d681590-04b4-4f58-a1e5-7d85d591ac1e",
   "metadata": {},
   "source": [
    "***"
   ]
  },
  {
   "cell_type": "markdown",
   "id": "0822e2ad-99c2-437a-b638-b746513037fc",
   "metadata": {},
   "source": [
    "# 4. DB 생성"
   ]
  },
  {
   "cell_type": "markdown",
   "id": "f7356835-ba32-4b1d-8fa2-3f2a4152f33f",
   "metadata": {},
   "source": [
    "`1` query 창에 다음과 같이 입력"
   ]
  },
  {
   "cell_type": "markdown",
   "id": "43184810-81d5-40ac-9a3d-a44036ea34d0",
   "metadata": {},
   "source": [
    "```sql\n",
    "create database copang_main # 1. DB 생성\n",
    "```"
   ]
  },
  {
   "cell_type": "markdown",
   "id": "f8147ab9-a706-4e00-ae2a-4bda3b273392",
   "metadata": {},
   "source": [
    "`2` 그후 스키마 새로 고침\n",
    "\n",
    "<img src = \"8.png\" width = 200>"
   ]
  },
  {
   "cell_type": "markdown",
   "id": "631f15f1-dbf3-41b4-8d51-c293b5ced8bb",
   "metadata": {},
   "source": [
    "`3` 오 잘 반영 되었음"
   ]
  }
 ],
 "metadata": {
  "kernelspec": {
   "display_name": "Python 3 (ipykernel)",
   "language": "python",
   "name": "python3"
  },
  "language_info": {
   "codemirror_mode": {
    "name": "ipython",
    "version": 3
   },
   "file_extension": ".py",
   "mimetype": "text/x-python",
   "name": "python",
   "nbconvert_exporter": "python",
   "pygments_lexer": "ipython3",
   "version": "3.11.7"
  }
 },
 "nbformat": 4,
 "nbformat_minor": 5
}
