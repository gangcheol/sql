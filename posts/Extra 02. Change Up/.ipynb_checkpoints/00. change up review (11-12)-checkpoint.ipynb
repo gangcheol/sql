{
 "cells": [
  {
   "cell_type": "raw",
   "id": "55b91779-706f-4dfb-98b9-4134bec7c2c4",
   "metadata": {},
   "source": [
    "---\n",
    "title : \"00. change up review (11-12)\"\n",
    "author : \"GC\"\n",
    "date : \"12/11/24\"\n",
    "---"
   ]
  },
  {
   "cell_type": "markdown",
   "id": "66fe9fec-9923-4e42-930b-6187ed97f595",
   "metadata": {},
   "source": [
    "# Review"
   ]
  },
  {
   "cell_type": "markdown",
   "id": "03bfbecc-7c64-4e1f-a21e-3a535d71b586",
   "metadata": {},
   "source": [
    "`1` 일단 체인지업 이후 서류 합격률이 50%를 달성했다.\n",
    "\n",
    "`2` 가장 중요한 건 마인드 셋을 계속 잡아주면서, 무너지지 않게 해주는 취지가 너무 좋았다.\n",
    "\n",
    "`3` 다만 이번에 좀 아쉬웠던 부분은 저번 시즌처럼 오프라인 행사가 없어서 조금 아쉬웠다.\n",
    "\n",
    "`4` 갑자기 새로운 플랫폼 도입도 많이 당혹스러웠다.....\n",
    "\n",
    "`5` 그래도 코디님들이 개인적으로 작성한 포트폴리오도 피드백해주고 굉장히 좋았음\n",
    "\n",
    "`6` 다음 시즌에는 그래도 개선될 것이라 믿으며! 지원을 한번 더 해볼 생각이다!\n",
    "\n",
    "`7` 서류 합결률과 마인드 셋을 잘 잡아주셔서 감사합니다 이형님~~!!"
   ]
  }
 ],
 "metadata": {
  "kernelspec": {
   "display_name": "Python 3 (ipykernel)",
   "language": "python",
   "name": "python3"
  },
  "language_info": {
   "codemirror_mode": {
    "name": "ipython",
    "version": 3
   },
   "file_extension": ".py",
   "mimetype": "text/x-python",
   "name": "python",
   "nbconvert_exporter": "python",
   "pygments_lexer": "ipython3",
   "version": "3.11.7"
  }
 },
 "nbformat": 4,
 "nbformat_minor": 5
}
