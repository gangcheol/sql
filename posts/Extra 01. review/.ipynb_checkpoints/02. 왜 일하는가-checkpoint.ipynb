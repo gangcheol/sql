{
 "cells": [
  {
   "cell_type": "raw",
   "id": "cd9b655e-8ccb-4f5b-a7ec-67facd37bef0",
   "metadata": {},
   "source": [
    "---\n",
    "title : \"02. 왜 일하는가\"\n",
    "author : \"GC\"\n",
    "date : \"01/16/25\"\n",
    "---"
   ]
  },
  {
   "cell_type": "markdown",
   "id": "5b6c5d04-097b-429e-b089-f6584b57738a",
   "metadata": {},
   "source": [
    "# Intro"
   ]
  },
  {
   "cell_type": "markdown",
   "id": "bcc4ea5b-3332-41ea-842d-17cd4d790f99",
   "metadata": {},
   "source": [
    "`1` 저자 : 이나모리 가즈오"
   ]
  },
  {
   "cell_type": "markdown",
   "id": "8caceaff-0d6d-4be6-af91-c83b8c56fcfb",
   "metadata": {},
   "source": [
    "`2` 왜 일하는가?\n",
    "\n",
    "- 먹고 살기 위해...물론 맞는 말이다.\n",
    "\n",
    "- 하지만 이 책을 읽고 내가 왜 일을 해야하는지에 대한 정답을 찾을 수 있길 바라며 책을 펼쳤다.\n",
    "\n",
    "- 일단 첫 번째, 나는 왜 일을 해야는가? $\\to$ 조직에서 내가 하는 일에 전념하며, 성과를 내는 것이 내 가치를 증명하는 길이기 때문이다.($\\star\\star\\star$)"
   ]
  },
  {
   "cell_type": "markdown",
   "id": "ab84151e-aa91-48ed-9fb8-ca7baf9a8c9b",
   "metadata": {},
   "source": [
    "***"
   ]
  },
  {
   "cell_type": "markdown",
   "id": "e0a571f6-25e4-43ac-ba18-89e1a10f0949",
   "metadata": {},
   "source": [
    "# 1장. 왜 일하는가?"
   ]
  },
  {
   "cell_type": "markdown",
   "id": "7bec5310-e63d-4dcf-bd97-50894b879c0c",
   "metadata": {},
   "source": [
    "`1` 단순히 돈을 벌기 위해 일하는 것이 아니다.\n",
    "\n",
    "`2` 일을 하는 것에는 인성 함양의 목적도 포함된다.\n",
    "\n",
    "`3` 회사가 망해간다고 6개월만에 회사를 때려치는 사람이 다른 조직에서도 성과를 낼 수 있겠는가?\n",
    "\n",
    "`4` 몰입하자. 쓰러질 때 까지. 그러면 신은 우리에게 손을 내밀어 줄 것이고, 그 기회를 통해 우리는 몰두의 재미를 느끼게 될 것이다.($\\star\\star\\star$)\n",
    "\n",
    "- 필자와 다르게 난 무신론자이지만, 그것은 중요한 부분이 아니다."
   ]
  },
  {
   "cell_type": "markdown",
   "id": "d0cd9102-7a28-48ee-909c-6204e623f55b",
   "metadata": {},
   "source": [
    "## 적용 1. 자소서 & 면접 답변\n",
    "\n",
    "1. **노동(일)의 진짜 의미는 자기가 일을 달성하고 실적을 내는 것뿐만 아니라 개인의 내면을 완성하는 과정이라고 생각합니다.**($\\star\\star\\star$)\n",
    "    - 일을 열심히 하는 과정에서 삼독을 억제할 수 있기 때문\n",
    "\n",
    "2. 좋은 것만 생각하고 좋은 행동만 하려고 노력해도 의도치 않게 잘못을 저지르는 경우도 있기 마련이다.($\\star\\star\\star$)\n",
    "    - 그럴 때마다 오늘 자신이 한 일을 겸허히 반성하고 내일부터는 새롭게 거듭날 것을 마음속으로 다짐하자.\n",
    "    - 예를 들어..... 롤 할때 화내지 않고, 문제를 해결하려는 자세??"
   ]
  },
  {
   "cell_type": "markdown",
   "id": "b780184b-72ce-4cc3-8586-b04fd314ea7e",
   "metadata": {},
   "source": [
    "---"
   ]
  },
  {
   "cell_type": "markdown",
   "id": "fa095fc9-3252-47f1-832d-4d3f283e0b2e",
   "metadata": {},
   "source": [
    "# 2장. 일을 사랑하는가?"
   ]
  },
  {
   "cell_type": "markdown",
   "id": "e7dff43d-3dad-4ae0-a11b-72c83681b20c",
   "metadata": {},
   "source": [
    "`1` 좋아하는 일을 찾기전에 내가 지금 하고 있는 것들을 즐겁게, 그리고 최선을 다해 사랑하자.($\\star\\star\\star$)\n",
    "- 이것만으로도 일에 대한 자세, 능률, 그리고 함께 일하는 사람들과의 시너지가 달라진다.\n",
    "- 학교 다닐 때 동아리 활동, KT 때 은진이 그리고 헬스장 친구들 등등 즐겁게 일하는 사람들과의 시너지가 더 좋았던 것 같다."
   ]
  },
  {
   "cell_type": "markdown",
   "id": "7d3d3245-819a-44b8-8f91-9029b480759d",
   "metadata": {},
   "source": [
    "`2` 나는 `자연성`인간임을 어필하자. $\\to$ 아래 사례처럼 나를 자연성 인간이라고 충분히 어필할 사례들이 많다.\n",
    "- 복학 후, 스터디 활동\n",
    "- 현상실습 Igraph\n",
    "- 빅데이터 사업단 활동\n",
    "- 앨범 2개 만든 것들 등등"
   ]
  },
  {
   "cell_type": "markdown",
   "id": "0a4ea4ef-c69a-48ef-b07d-b853da6a1888",
   "metadata": {},
   "source": [
    "`3` 불연성 인간들을 내가 어떻게 대처했는가?\n",
    "- 공연 준비 당시, 태양이의 경우 불평불만을 입에 달고 살았음\n",
    "- 이때 공연경험이 있는 내가 먼저 팀을 이끌어주고 공연 기획 경험을 살려서 준비, 홍보를 어떻게 진행했는 지 어필하자"
   ]
  }
 ],
 "metadata": {
  "kernelspec": {
   "display_name": "Python 3 (ipykernel)",
   "language": "python",
   "name": "python3"
  },
  "language_info": {
   "codemirror_mode": {
    "name": "ipython",
    "version": 3
   },
   "file_extension": ".py",
   "mimetype": "text/x-python",
   "name": "python",
   "nbconvert_exporter": "python",
   "pygments_lexer": "ipython3",
   "version": "3.11.7"
  }
 },
 "nbformat": 4,
 "nbformat_minor": 5
}
