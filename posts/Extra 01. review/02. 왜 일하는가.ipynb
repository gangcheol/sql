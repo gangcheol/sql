{
 "cells": [
  {
   "cell_type": "raw",
   "id": "cd9b655e-8ccb-4f5b-a7ec-67facd37bef0",
   "metadata": {},
   "source": [
    "---\n",
    "title : \"02. 왜 일하는가\"\n",
    "author : \"GC\"\n",
    "date : \"12/11/24\"\n",
    "---"
   ]
  },
  {
   "cell_type": "markdown",
   "id": "5b6c5d04-097b-429e-b089-f6584b57738a",
   "metadata": {},
   "source": [
    "# Intro"
   ]
  },
  {
   "cell_type": "markdown",
   "id": "bcc4ea5b-3332-41ea-842d-17cd4d790f99",
   "metadata": {},
   "source": [
    "`1` 저자 : 이나모리 가즈오"
   ]
  },
  {
   "cell_type": "markdown",
   "id": "8caceaff-0d6d-4be6-af91-c83b8c56fcfb",
   "metadata": {},
   "source": [
    "`2` 왜 일하는가?\n",
    "\n",
    "- 먹고 살기 위해...물론 맞는 말이다.\n",
    "\n",
    "- 하지만 이 책을 읽고 내가 왜 일을 해야하는지에 대한 정답을 찾을 수 있길 바라며 책을 펼쳤다.\n",
    "\n",
    "- 일단 첫 번째, 나는 왜 일을 해야는가? $\\to$ 조직에서 일을 하며 성과를 내는 것이 내 가치를 증명하는 길이기 때문이다.($\\star\\star\\star$)"
   ]
  },
  {
   "cell_type": "markdown",
   "id": "ab84151e-aa91-48ed-9fb8-ca7baf9a8c9b",
   "metadata": {},
   "source": [
    "***"
   ]
  },
  {
   "cell_type": "markdown",
   "id": "e0a571f6-25e4-43ac-ba18-89e1a10f0949",
   "metadata": {},
   "source": [
    "# 1장. 왜 일하는가?"
   ]
  },
  {
   "cell_type": "markdown",
   "id": "7bec5310-e63d-4dcf-bd97-50894b879c0c",
   "metadata": {},
   "source": [
    "`1` 단순히 돈을 벌기 위해 일하는 것이 아니다.\n",
    "\n",
    "`2` 일을 하는 것에는 인성 함양의 목적도 포함된다.\n",
    "\n",
    "`3` 회사가 망해간다고 6개월만에 회사를 때려치는 사람이 다른 조직에서도 성과를 낼 수 있겠는가?\n",
    "\n",
    "`4` 몰입하자. 쓰러질 때 까지. 그러면 신은 우리에게 손을 내밀어 줄 것이고, 그 기회를 통해 우리는 몰두의 재미를 느끼게 될 것이다.($\\star\\star\\star$)\n",
    "\n",
    "- 필자와 다르게 난 무신론자이지만, 그것은 중요한 부분이 아니다."
   ]
  }
 ],
 "metadata": {
  "kernelspec": {
   "display_name": "Python 3 (ipykernel)",
   "language": "python",
   "name": "python3"
  },
  "language_info": {
   "codemirror_mode": {
    "name": "ipython",
    "version": 3
   },
   "file_extension": ".py",
   "mimetype": "text/x-python",
   "name": "python",
   "nbconvert_exporter": "python",
   "pygments_lexer": "ipython3",
   "version": "3.11.7"
  }
 },
 "nbformat": 4,
 "nbformat_minor": 5
}
