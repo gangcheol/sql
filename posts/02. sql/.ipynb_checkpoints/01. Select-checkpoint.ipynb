{
 "cells": [
  {
   "cell_type": "raw",
   "id": "c6161204-b0fc-4a33-9719-1293cca88e3b",
   "metadata": {},
   "source": [
    "---\n",
    "title : \"01. SELECT\"\n",
    "author : \"GC\"\n",
    "date : \"02/06/25\"\n",
    "---"
   ]
  },
  {
   "cell_type": "markdown",
   "id": "cc24c4b8-3835-4990-a127-86c03b3faec0",
   "metadata": {},
   "source": [
    "아래 문제는 프로그래머스 `sql 고득점 kit` 문제입니다."
   ]
  },
  {
   "cell_type": "markdown",
   "id": "b28acead-4dbc-4985-858c-22cd6d4513b9",
   "metadata": {},
   "source": [
    "## 1. 평균 일일 대여 요금 구하기"
   ]
  },
  {
   "cell_type": "markdown",
   "id": "06e489e8-66bf-4799-a35b-10b386fbfeb1",
   "metadata": {},
   "source": [
    "```SQL\n",
    "SELECT \r\n",
    "    ROUND(AVG(DAILY_FEE),0) AS AVERAGE_FEE\r\n",
    "FROM CAR_RENTAL_COMPANY_CAR\r\n",
    "WHERE CAR_TYPE = 'SV'\n",
    "\n",
    "```"
   ]
  },
  {
   "cell_type": "markdown",
   "id": "628d39e9-65f4-4265-96d5-9c0b5447c881",
   "metadata": {},
   "source": [
    "## 2.  재구매가 일어난 상품과 회원 리스트 구하"
   ]
  },
  {
   "cell_type": "markdown",
   "id": "c44f1e04-8af5-45b3-a05e-5c437294edbe",
   "metadata": {},
   "source": [
    "```SQL\n",
    "SELECT \n",
    "    USER_ID, PRODUCT_ID\n",
    "FROM \n",
    "    ONLINE_SALE\n",
    "GROUP BY USER_ID, PRODUCT_ID\n",
    "HAVING COUNT(*) > 1\n",
    "ORDER BY USER_ID, PRODUCT_ID DESC\n",
    "```"
   ]
  },
  {
   "cell_type": "markdown",
   "id": "f5a4736e-e9fe-415d-8814-953187157091",
   "metadata": {},
   "source": [
    "## 3. 역순 정렬하기"
   ]
  },
  {
   "cell_type": "markdown",
   "id": "237c1183-6c20-44ea-8db3-c341aa1a8fe2",
   "metadata": {},
   "source": [
    "```SQL\n",
    "SELECT\n",
    "    NAME, DATETIME\n",
    "FROM ANIMAL_INS\n",
    "ORDER BY ANIMAL_ID DESC\n",
    "```"
   ]
  },
  {
   "cell_type": "markdown",
   "id": "cfa73cbe-094b-44f6-b679-3563a7e6af72",
   "metadata": {},
   "source": [
    "## 4. 아픈 동물 찾기"
   ]
  },
  {
   "cell_type": "markdown",
   "id": "3d4cba23-0688-40b0-93f9-e2a32c767cbb",
   "metadata": {},
   "source": [
    "```SQL\n",
    "SELECT\n",
    "    ANIMAL_ID, \n",
    "    NAME\n",
    "FROM ANIMAL_INS\n",
    "WHERE INTAKE_CONDITION = 'SICK'\n",
    "ORDER BY ANIMAL_ID\n",
    "```"
   ]
  },
  {
   "cell_type": "markdown",
   "id": "31c01cf5-7d48-4f90-80a4-5f82597a222e",
   "metadata": {},
   "source": [
    "## 5. 어린 동물 찾기"
   ]
  },
  {
   "cell_type": "markdown",
   "id": "b821c10f-e063-4dd8-9426-1f8810c1bcd6",
   "metadata": {},
   "source": [
    "```SQL\n",
    "SELECT\n",
    "    ANIMAL_ID, \tNAME\n",
    "FROM ANIMAL_INS\n",
    "WHERE INTAKE_CONDITION != 'Aged'\n",
    "ORDER BY ANIMAL_ID\n",
    "```"
   ]
  },
  {
   "cell_type": "markdown",
   "id": "8ad1d2d1-aeb3-4585-98a4-d9832d5c9bd3",
   "metadata": {},
   "source": [
    "## 6. 동물의 아이디와 이름"
   ]
  },
  {
   "cell_type": "markdown",
   "id": "24dae96c-b8fd-40cc-b743-657c5c804886",
   "metadata": {},
   "source": [
    "```SQL\n",
    "SELECT\n",
    "    ANIMAL_ID, NAME\n",
    "FROM ANIMAL_INS\n",
    "ORDER BY ANIMAL_ID\n",
    "```"
   ]
  },
  {
   "cell_type": "markdown",
   "id": "28e79ad7-c23e-4554-9acd-9f584243c771",
   "metadata": {},
   "source": [
    "## 7. 여러 기준으로 정렬하기"
   ]
  },
  {
   "cell_type": "markdown",
   "id": "357bdea0-59b0-4436-bea4-ad722f659455",
   "metadata": {},
   "source": [
    "```SQL\n",
    "SELECT\n",
    "    ANIMAL_ID, NAME,\n",
    "    DATETIME\n",
    "FROM ANIMAL_INS\n",
    "ORDER BY NAME, DATETIME DESC\n",
    "```"
   ]
  },
  {
   "cell_type": "markdown",
   "id": "4e15aa66-1e6d-4ab5-b859-7abd3dc6e36f",
   "metadata": {},
   "source": [
    "## 8. 상위 N개 조회"
   ]
  },
  {
   "cell_type": "markdown",
   "id": "c5aea27c-352a-43d3-a1f7-b10a3cb0fe39",
   "metadata": {},
   "source": [
    "```SQL\n",
    "SELECT\n",
    "    NAME\n",
    "FROM ANIMAL_INS\n",
    "ORDER BY DATETIME\n",
    "LIMIT 1\n",
    "```"
   ]
  },
  {
   "cell_type": "markdown",
   "id": "98d38f82-63b8-4608-aa3d-520125a2be8f",
   "metadata": {},
   "source": [
    "## 9. 조건에 맞는 회원 수 구하기"
   ]
  },
  {
   "cell_type": "markdown",
   "id": "73c50e78-7ad3-46d7-ba07-5c2c06b636f6",
   "metadata": {},
   "source": [
    "```SQL\n",
    "SELECT\n",
    "    COUNT(USER_ID) AS USERS\n",
    "FROM USER_INFO\n",
    "WHERE JOINED LIKE '2021%'\n",
    "AND AGE BETWEEN 20 AND 29\n",
    "```"
   ]
  },
  {
   "cell_type": "markdown",
   "id": "05dbbc85-5f04-4858-9572-c8a5dc60cd37",
   "metadata": {},
   "source": [
    "## 10. 3월에 태어난 여성 회원 목록 추출($\\star\\star\\star$)"
   ]
  },
  {
   "cell_type": "markdown",
   "id": "81cdae1a-57b5-4e12-b9d7-4dca67fa2573",
   "metadata": {},
   "source": [
    "```SQL\n",
    "SELECT \n",
    "    MEMBER_ID, \n",
    "    MEMBER_NAME,\n",
    "    GENDER,\n",
    "    DATE_FORMAT(DATE_OF_BIRTH, '%Y-%m-%d') AS DATE_OF_BIRTH\n",
    "FROM MEMBER_PROFILE\n",
    "WHERE MONTH(DATE_OF_BIRTH) = 3 \n",
    "    AND GENDER = 'W'\n",
    "    AND TLNO IS NOT NULL\n",
    "ORDER BY MEMBER_ID\n",
    "```"
   ]
  }
 ],
 "metadata": {
  "kernelspec": {
   "display_name": "Python 3 (ipykernel)",
   "language": "python",
   "name": "python3"
  },
  "language_info": {
   "codemirror_mode": {
    "name": "ipython",
    "version": 3
   },
   "file_extension": ".py",
   "mimetype": "text/x-python",
   "name": "python",
   "nbconvert_exporter": "python",
   "pygments_lexer": "ipython3",
   "version": "3.11.7"
  }
 },
 "nbformat": 4,
 "nbformat_minor": 5
}
