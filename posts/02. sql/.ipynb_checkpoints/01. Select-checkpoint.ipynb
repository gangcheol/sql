{
 "cells": [
  {
   "cell_type": "raw",
   "id": "c6161204-b0fc-4a33-9719-1293cca88e3b",
   "metadata": {},
   "source": [
    "---\n",
    "title : \"01. SELECT\"\n",
    "author : \"GC\"\n",
    "date : \"02/13/25\"\n",
    "---"
   ]
  },
  {
   "cell_type": "markdown",
   "id": "cc24c4b8-3835-4990-a127-86c03b3faec0",
   "metadata": {},
   "source": [
    "# Excercise"
   ]
  },
  {
   "cell_type": "markdown",
   "id": "b28acead-4dbc-4985-858c-22cd6d4513b9",
   "metadata": {},
   "source": [
    "## 1. 평균 일일 대여 요금 구하기"
   ]
  },
  {
   "cell_type": "markdown",
   "id": "06e489e8-66bf-4799-a35b-10b386fbfeb1",
   "metadata": {},
   "source": [
    "```sql\n",
    "SELECT \r\n",
    "    ROUND(AVG(DAILY_FEE),0) AS AVERAGE_FEE\r\n",
    "FROM CAR_RENTAL_COMPANY_CAR\r\n",
    "WHERE CAR_TYPE = 'SV'\n",
    "\n",
    "```"
   ]
  },
  {
   "cell_type": "markdown",
   "id": "628d39e9-65f4-4265-96d5-9c0b5447c881",
   "metadata": {},
   "source": [
    "## 2.  재구매가 일어난 상품과 회원 리스트 구하기"
   ]
  },
  {
   "cell_type": "markdown",
   "id": "c44f1e04-8af5-45b3-a05e-5c437294edbe",
   "metadata": {},
   "source": [
    "```SQL\n",
    "SELECT \n",
    "    USER_ID, PRODUCT_ID\n",
    "FROM \n",
    "    ONLINE_SALE\n",
    "GROUP BY USER_ID, PRODUCT_ID\n",
    "HAVING COUNT(*) > 1\n",
    "ORDER BY USER_ID, PRODUCT_ID DESC\n",
    "```"
   ]
  },
  {
   "cell_type": "markdown",
   "id": "f5a4736e-e9fe-415d-8814-953187157091",
   "metadata": {},
   "source": [
    "## 3. 역순 정렬하기"
   ]
  },
  {
   "cell_type": "markdown",
   "id": "237c1183-6c20-44ea-8db3-c341aa1a8fe2",
   "metadata": {},
   "source": [
    "```SQL\n",
    "SELECT\n",
    "    NAME, DATETIME\n",
    "FROM ANIMAL_INS\n",
    "ORDER BY ANIMAL_ID DESC\n",
    "```"
   ]
  },
  {
   "cell_type": "markdown",
   "id": "cfa73cbe-094b-44f6-b679-3563a7e6af72",
   "metadata": {},
   "source": [
    "## 4. 아픈 동물 찾기"
   ]
  },
  {
   "cell_type": "markdown",
   "id": "3d4cba23-0688-40b0-93f9-e2a32c767cbb",
   "metadata": {},
   "source": [
    "```SQL\n",
    "SELECT\n",
    "    ANIMAL_ID, \n",
    "    NAME\n",
    "FROM ANIMAL_INS\n",
    "WHERE INTAKE_CONDITION = 'SICK'\n",
    "ORDER BY ANIMAL_ID\n",
    "```"
   ]
  },
  {
   "cell_type": "markdown",
   "id": "31c01cf5-7d48-4f90-80a4-5f82597a222e",
   "metadata": {},
   "source": [
    "## 5. 어린 동물 찾기"
   ]
  },
  {
   "cell_type": "markdown",
   "id": "b821c10f-e063-4dd8-9426-1f8810c1bcd6",
   "metadata": {},
   "source": [
    "```SQL\n",
    "SELECT\n",
    "    ANIMAL_ID, \tNAME\n",
    "FROM ANIMAL_INS\n",
    "WHERE INTAKE_CONDITION != 'Aged'\n",
    "ORDER BY ANIMAL_ID\n",
    "```"
   ]
  },
  {
   "cell_type": "markdown",
   "id": "8ad1d2d1-aeb3-4585-98a4-d9832d5c9bd3",
   "metadata": {},
   "source": [
    "## 6. 동물의 아이디와 이름"
   ]
  },
  {
   "cell_type": "markdown",
   "id": "24dae96c-b8fd-40cc-b743-657c5c804886",
   "metadata": {},
   "source": [
    "```SQL\n",
    "SELECT\n",
    "    ANIMAL_ID, NAME\n",
    "FROM ANIMAL_INS\n",
    "ORDER BY ANIMAL_ID\n",
    "```"
   ]
  },
  {
   "cell_type": "markdown",
   "id": "28e79ad7-c23e-4554-9acd-9f584243c771",
   "metadata": {},
   "source": [
    "## 7. 여러 기준으로 정렬하기"
   ]
  },
  {
   "cell_type": "markdown",
   "id": "357bdea0-59b0-4436-bea4-ad722f659455",
   "metadata": {},
   "source": [
    "```SQL\n",
    "SELECT\n",
    "    ANIMAL_ID, NAME,\n",
    "    DATETIME\n",
    "FROM ANIMAL_INS\n",
    "ORDER BY NAME, DATETIME DESC\n",
    "```"
   ]
  },
  {
   "cell_type": "markdown",
   "id": "4e15aa66-1e6d-4ab5-b859-7abd3dc6e36f",
   "metadata": {},
   "source": [
    "## 8. 상위 N개 조회"
   ]
  },
  {
   "cell_type": "markdown",
   "id": "c5aea27c-352a-43d3-a1f7-b10a3cb0fe39",
   "metadata": {},
   "source": [
    "```SQL\n",
    "SELECT\n",
    "    NAME\n",
    "FROM ANIMAL_INS\n",
    "ORDER BY DATETIME\n",
    "LIMIT 1\n",
    "```"
   ]
  },
  {
   "cell_type": "markdown",
   "id": "98d38f82-63b8-4608-aa3d-520125a2be8f",
   "metadata": {},
   "source": [
    "## 9. 조건에 맞는 회원 수 구하기"
   ]
  },
  {
   "cell_type": "markdown",
   "id": "73c50e78-7ad3-46d7-ba07-5c2c06b636f6",
   "metadata": {},
   "source": [
    "```SQL\n",
    "SELECT\n",
    "    COUNT(USER_ID) AS USERS\n",
    "FROM USER_INFO\n",
    "WHERE JOINED LIKE '2021%'\n",
    "AND AGE BETWEEN 20 AND 29\n",
    "```"
   ]
  },
  {
   "cell_type": "markdown",
   "id": "05dbbc85-5f04-4858-9572-c8a5dc60cd37",
   "metadata": {},
   "source": [
    "## 10. 3월에 태어난 여성 회원 목록 추출($\\star\\star\\star$)"
   ]
  },
  {
   "cell_type": "markdown",
   "id": "81cdae1a-57b5-4e12-b9d7-4dca67fa2573",
   "metadata": {},
   "source": [
    "```SQL\n",
    "SELECT \n",
    "    MEMBER_ID, \n",
    "    MEMBER_NAME,\n",
    "    GENDER,\n",
    "    DATE_FORMAT(DATE_OF_BIRTH, '%Y-%m-%d') AS DATE_OF_BIRTH\n",
    "FROM MEMBER_PROFILE\n",
    "WHERE MONTH(DATE_OF_BIRTH) = 3 \n",
    "    AND GENDER = 'W'\n",
    "    AND TLNO IS NOT NULL\n",
    "ORDER BY MEMBER_ID\n",
    "```"
   ]
  },
  {
   "cell_type": "markdown",
   "id": "caa69f8c-9c10-4ff1-a893-9d67a23eeed6",
   "metadata": {},
   "source": [
    "## 11. 서울에 위치한 식당 목록 출력하기"
   ]
  },
  {
   "cell_type": "markdown",
   "id": "7ed0e541-b166-4da5-8926-3b15d3609bd0",
   "metadata": {},
   "source": [
    "```SQL\n",
    "SELECT\n",
    "    A.REST_ID,\n",
    "    A.REST_NAME,\n",
    "    A.FOOD_TYPE,\n",
    "    A.FAVORITES,\n",
    "    A.ADDRESS,\n",
    "    ROUND(AVG(B.REVIEW_SCORE),2) AS SCORE\n",
    "FROM REST_INFO AS A INNER JOIN REST_REVIEW AS B\n",
    "    ON A.REST_ID = B.REST_ID\n",
    "GROUP BY\n",
    "    A.REST_ID\n",
    "HAVING\n",
    "    A.ADDRESS LIKE '서울%'\n",
    "ORDER BY\n",
    "    SCORE DESC, A.FAVORITES DESC\n",
    "```"
   ]
  },
  {
   "cell_type": "markdown",
   "id": "d1e50383-27a3-40a0-b365-45d9e83ed3c2",
   "metadata": {},
   "source": [
    "## 12. 흉부외과 또는 일반외과 의사 목록 출력하기"
   ]
  },
  {
   "cell_type": "markdown",
   "id": "cff73300-0b59-4b59-9e90-9dbe13479a01",
   "metadata": {},
   "source": [
    "```sql\n",
    "SELECT\n",
    "    DR_NAME,\n",
    "    DR_ID,\n",
    "    MCDP_CD,\n",
    "    DATE_FORMAT(HIRE_YMD,'%Y-%m-%d')\n",
    "FROM\n",
    "    DOCTOR\n",
    "WHERE \n",
    "    MCDP_CD LIKE 'CS' OR MCDP_CD LIKE 'GS'\n",
    "ORDER BY\n",
    "    HIRE_YMD DESC, DR_NAME ASC;\n",
    "```"
   ]
  },
  {
   "cell_type": "markdown",
   "id": "49f7eaf7-d8d5-4fc6-ad8b-14746652c130",
   "metadata": {},
   "source": [
    "## 13. 과일로 만든 아이스크림 고르기"
   ]
  },
  {
   "cell_type": "markdown",
   "id": "e462b68f-9dcf-4c1f-8661-d31fb882c199",
   "metadata": {},
   "source": [
    "```SQL\n",
    "SELECT\r\n",
    "    F.FLAVOR\r\n",
    "FROM\r\n",
    "    FIRST_HALF AS F JOIN ICECREAM_INFO AS I\r\n",
    "        ON F.FLAVOR = I.FLAVOR\r\n",
    "WHERE\r\n",
    "    F.TOTAL_ORDER > 3000 AND  I.INGREDIENT_TYPE LIKE \"fruit%\"\r\n",
    "ORDER BY\r\n",
    "    F.TOTAL_ORDR DESC;\n",
    "\n",
    "```"
   ]
  },
  {
   "cell_type": "markdown",
   "id": "36f4477b-27a9-4627-be34-9d1dc34a8a03",
   "metadata": {},
   "source": [
    "## 14. 강원도에 위치한 생산공장 목록 출력하기"
   ]
  },
  {
   "cell_type": "markdown",
   "id": "028f1dcc-df78-4819-b03d-696cf1acc7da",
   "metadata": {},
   "source": [
    "```SQL\n",
    "SELECT\n",
    "    FACTORY_ID,\n",
    "    FACTORY_NAME,\n",
    "    ADDRESS\n",
    "FROM \n",
    "    FOOD_FACTORY\n",
    "WHERE\n",
    "    ADDRESS LIKE '강원%'\n",
    "ORDER BY\n",
    "    FACTORY_ID ASC;\n",
    "```"
   ]
  },
  {
   "cell_type": "markdown",
   "id": "4355e07c-1492-4f46-a553-edde3e00e420",
   "metadata": {},
   "source": [
    "## 15. 인기있는 아이스크림"
   ]
  },
  {
   "cell_type": "markdown",
   "id": "569e543e-3576-4e0c-8d93-e6f5fdecfb49",
   "metadata": {},
   "source": [
    "```SQL\n",
    "SELECT\n",
    "    FLAVOR\n",
    "FROM \n",
    "    FIRST_HALF\n",
    "ORDER BY\n",
    "    TOTAL_ORDER DESC, SHIPMENT_ID;\n",
    "```"
   ]
  },
  {
   "cell_type": "markdown",
   "id": "80e300bc-b6e2-4588-a73c-09c1c9ee22e7",
   "metadata": {},
   "source": [
    "## 16. 12세 이하인 여자 환자 목록 출력하기 ($\\star\\star\\star$)"
   ]
  },
  {
   "cell_type": "markdown",
   "id": "83a0ebc9-c8a8-4dfd-958d-acc5920d6d96",
   "metadata": {},
   "source": [
    "```SQL\n",
    "SELECT\n",
    "    PT_NAME,\n",
    "    PT_NO,\n",
    "    GEND_CD,\n",
    "    AGE,\n",
    "    COALESCE(TLNO, 'NONE') AS TLNO\n",
    "FROM\n",
    "    PATIENT\n",
    "WHERE AGE <= 12 AND GEND_CD = 'W'\n",
    "ORDER BY\n",
    "    AGE DESC, PT_NAME ASC;\n",
    "```"
   ]
  },
  {
   "cell_type": "markdown",
   "id": "aba0c66f-7c3b-4d43-ba62-047b6d0a34c1",
   "metadata": {},
   "source": [
    "## 17. 조건에 맞는 도서 리스트 출력하기"
   ]
  },
  {
   "cell_type": "markdown",
   "id": "0c6b2bc6-f53a-409f-9251-ab9df3a747f7",
   "metadata": {},
   "source": [
    "```SQL\n",
    "SELECT\n",
    "    BOOK_ID,\n",
    "    DATE_FORMAT(PUBLISHED_DATE, \"%Y-%m-%d\") AS \tPUBLISHED_DATE\n",
    "FROM\n",
    "    BOOK\n",
    "WHERE\n",
    "    YEAR(PUBLISHED_DATE) = 2021\n",
    "        AND CATEGORY = '인문'\n",
    "ORDER BY\n",
    "    PUBLISHED_DATE ASC;\n",
    "```"
   ]
  },
  {
   "cell_type": "markdown",
   "id": "24883eab-734d-44f2-b403-16c5ea154ed3",
   "metadata": {},
   "source": [
    "## 18. 조건에 부합하는 중고거래 댓글 조회하기($\\star\\star\\star$)"
   ]
  },
  {
   "cell_type": "markdown",
   "id": "e1c4c888-456d-4d38-b5b5-f3d93219c64d",
   "metadata": {},
   "source": [
    "```sql\n",
    "SELECT\n",
    "    B.TITLE,\n",
    "    B.BOARD_ID,\n",
    "    R.REPLY_ID,\n",
    "    R.WRITER_ID,\n",
    "    R.CONTENTS,\n",
    "    DATE_FORMAT(R.CREATED_DATE, '%Y-%m-%d') AS CREATED_DATE\n",
    "FROM\n",
    "    USED_GOODS_BOARD AS B\n",
    "        INNER JOIN USED_GOODS_REPLY AS R\n",
    "            ON B.BOARD_ID = R.BOARD_ID\n",
    "WHERE \n",
    "    B.CREATED_DATE LIKE '2022-10%'\n",
    "ORDER BY R.CREATED_DATE, B.TITLE;\n",
    "```"
   ]
  },
  {
   "cell_type": "markdown",
   "id": "7d9f929b-6939-4975-b8d7-cc0180194343",
   "metadata": {},
   "source": [
    "## 19. 오프라인/온라인 판매데이터 통합(다시 풀기)"
   ]
  },
  {
   "cell_type": "markdown",
   "id": "b5f69b15-ab53-4f7c-9600-8b758b0da8c8",
   "metadata": {},
   "source": [
    "```SQL\n",
    "SELECT DATE_FORMAT(N.SALES_DATE,'%Y-%m-%d') AS SALES_DATE , N.PRODUCT_ID, N.USER_ID, N.SALES_AMOUNT\n",
    "FROM ONLINE_SALE AS N\n",
    "LEFT JOIN OFFLINE_SALE AS F\n",
    "ON N.PRODUCT_ID = F.PRODUCT_ID  AND N.SALES_DATE = F.SALES_DATE\n",
    "WHERE DATE_FORMAT(N.SALES_DATE , '%Y-%m') = '2022-03'\n",
    "\n",
    "UNION ALL\n",
    "\n",
    "SELECT DATE_FORMAT(F.SALES_DATE,'%Y-%m-%d') AS SALES_DATE , F.PRODUCT_ID, NULL AS USER_ID, F.SALES_AMOUNT\n",
    "FROM ONLINE_SALE AS N\n",
    "RIGHT JOIN OFFLINE_SALE AS F\n",
    "ON N.PRODUCT_ID = F.PRODUCT_ID   AND N.SALES_DATE = F.SALES_DATE\n",
    "WHERE DATE_FORMAT(F.SALES_DATE , '%Y-%m') = '2022-03' \n",
    "\n",
    "ORDER BY SALES_DATE ASC, PRODUCT_ID ASC, USER_ID ASC;\n",
    "```"
   ]
  },
  {
   "cell_type": "markdown",
   "id": "412cf614-ef71-4d60-84d3-e2e18683fd0c",
   "metadata": {},
   "source": [
    "## 20. PYTHON 개발자 찾기"
   ]
  },
  {
   "cell_type": "markdown",
   "id": "ce83c18f-5ed8-46bd-ad02-3c8219fec204",
   "metadata": {},
   "source": [
    "```SQL\n",
    "SELECT\n",
    "    ID,\n",
    "    EMAIL,\n",
    "    FIRST_NAME,\n",
    "    LAST_NAME\n",
    "FROM\n",
    "    DEVELOPER_INFOS\n",
    "WHERE\n",
    "    'PYTHON' IN (SKILL_1, SKILL_2, SKILL_3)\n",
    "ORDER BY\n",
    "    ID;\n",
    "```"
   ]
  }
 ],
 "metadata": {
  "kernelspec": {
   "display_name": "Python 3 (ipykernel)",
   "language": "python",
   "name": "python3"
  },
  "language_info": {
   "codemirror_mode": {
    "name": "ipython",
    "version": 3
   },
   "file_extension": ".py",
   "mimetype": "text/x-python",
   "name": "python",
   "nbconvert_exporter": "python",
   "pygments_lexer": "ipython3",
   "version": "3.11.7"
  }
 },
 "nbformat": 4,
 "nbformat_minor": 5
}
